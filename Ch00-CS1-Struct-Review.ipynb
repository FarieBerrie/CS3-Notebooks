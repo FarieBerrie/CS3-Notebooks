{
 "cells": [
  {
   "cell_type": "markdown",
   "metadata": {},
   "source": [
    "# Data Structures\n",
    "quick intro: http://www.cplusplus.com/doc/tutorial/structures/\n",
    "\n",
    "in-depth: https://opendsa-server.cs.vt.edu/ODSA/Books/CS2/html/IntroDSA.html\n",
    "\n",
    "## Table of Contents\n",
    "- [struct](#struct)\n",
    "- [defining struct types](#define)\n",
    "- [using struct types](#use)\n",
    "- [aggregate operation](#aggregate)\n",
    "- [passing struct to functions](#func)\n",
    "- [array of struct types](#array)"
   ]
  },
  {
   "cell_type": "markdown",
   "metadata": {},
   "source": [
    "<a href=\"struct\"></a>\n",
    "## struct\n",
    "- a group of data elements grouped together under one name\n",
    "- struct types are user-defined advanced data types\n",
    "- elements also called members can have different types and sizes\n",
    "- data structures are analogous to data records such as student records, grade records, health records, inventory, employee records, criminal records, etc.\n",
    "- struct is a keyword that allows us to define data structures"
   ]
  },
  {
   "cell_type": "code",
   "execution_count": 1,
   "metadata": {},
   "outputs": [],
   "source": [
    "#include <iostream>\n",
    "#include <string>\n",
    "\n",
    "using namespace std;"
   ]
  },
  {
   "cell_type": "markdown",
   "metadata": {},
   "source": [
    "<a href=\"define\"></a>\n",
    "## defining struct types\n",
    "```c++\n",
    "struct typeName {\n",
    "    type1 member1;\n",
    "    type2 member2;\n",
    "    type3 member3;\n",
    "    .\n",
    "    .\n",
    "};\n",
    "```\n",
    "- do NOT initialize members in struct definition\n",
    "- object(s) can be declared right after closing }"
   ]
  },
  {
   "cell_type": "code",
   "execution_count": 2,
   "metadata": {},
   "outputs": [],
   "source": [
    "// struct definition\n",
    "struct Product {\n",
    "    int weight;\n",
    "    float price;\n",
    "};"
   ]
  },
  {
   "cell_type": "code",
   "execution_count": 3,
   "metadata": {},
   "outputs": [],
   "source": [
    "struct Name_T {\n",
    "    string fName;\n",
    "    char MI;\n",
    "    string lName; \n",
    "};"
   ]
  },
  {
   "cell_type": "code",
   "execution_count": 4,
   "metadata": {},
   "outputs": [],
   "source": [
    "struct Student_T {\n",
    "    Name_T name;\n",
    "    Name_T parentName;\n",
    "    float tests[3];\n",
    "    float hws[3];\n",
    "};"
   ]
  },
  {
   "cell_type": "markdown",
   "metadata": {},
   "source": [
    "<a id=\"use\"></a>\n",
    "## using struct types\n",
    "- declare variables/objects of struct types\n",
    "- access members using member access operator (.)\n",
    "- do operatrions permitted to the type of each member"
   ]
  },
  {
   "cell_type": "code",
   "execution_count": 6,
   "metadata": {},
   "outputs": [],
   "source": [
    "// declare variables/objects of struct type\n",
    "Product apple;\n",
    "Product banana;"
   ]
  },
  {
   "cell_type": "code",
   "execution_count": 23,
   "metadata": {},
   "outputs": [
    {
     "name": "stdout",
     "output_type": "stream",
     "text": [
      "8 Bytes (B) \n",
      "56 B\n",
      "160 B \n"
     ]
    }
   ],
   "source": [
    "cout << sizeof(apple) << \" Bytes (B) \\n\";\n",
    "cout << sizeof(Name_T) << \" B\\n\";\n",
    "cout << sizeof(Student_T) << \" B \\n\";"
   ]
  },
  {
   "cell_type": "code",
   "execution_count": 12,
   "metadata": {},
   "outputs": [
    {
     "name": "stdout",
     "output_type": "stream",
     "text": [
      "Total price = 44.95"
     ]
    }
   ],
   "source": [
    "apple.weight = 10;\n",
    "apple.price = 3.5;\n",
    "\n",
    "banana.weight = 5;\n",
    "banana.price = 1.99;\n",
    "float total = apple.weight * apple.price + banana.weight * banana.price;\n",
    "cout << \"Total price = \" << total;"
   ]
  },
  {
   "cell_type": "code",
   "execution_count": 15,
   "metadata": {},
   "outputs": [],
   "source": [
    "// declaring and initializing using uniform initializer\n",
    "Product mango = {15, 2.5};\n",
    "Product cherry = {10, 2.99};"
   ]
  },
  {
   "cell_type": "code",
   "execution_count": 6,
   "metadata": {},
   "outputs": [],
   "source": [
    "Student_T stu1;"
   ]
  },
  {
   "cell_type": "code",
   "execution_count": 7,
   "metadata": {},
   "outputs": [],
   "source": [
    "stu1.name.fName = \"John\";\n",
    "stu1.name.MI = 'E';\n",
    "stu1.name.lName = \"Smith\";\n",
    "stu1.tests[0] = 95;\n",
    "stu1.tests[1] = 100;\n",
    "stu1.tests[2] = 98;"
   ]
  },
  {
   "cell_type": "markdown",
   "metadata": {},
   "source": [
    "### visualize with pythontutor.com\n",
    "https://goo.gl/hbhJdW"
   ]
  },
  {
   "cell_type": "code",
   "execution_count": 9,
   "metadata": {},
   "outputs": [
    {
     "data": {
      "text/plain": [
       "{ 95f, 100f, 98f }"
      ]
     },
     "execution_count": 9,
     "metadata": {},
     "output_type": "execute_result"
    }
   ],
   "source": [
    "float testAvg = (stu1.tests[0] + stu1.tests[1] + stu1.tests[2])/3;"
   ]
  },
  {
   "cell_type": "markdown",
   "metadata": {},
   "source": [
    "<a id=\"aggregate\"></a>\n",
    "## aggregate operations on struct objects\n",
    "- assignment is allowed as long as rhs is same struct type as the lhs\n",
    "    - can pass struct object to functions both by value and reference\n",
    "- comparision is NOT allowed\n",
    "    - need to compare corresponding members if they're comparable\n",
    "- input/output is NOT allowed\n",
    "    - need to input and output one member at a time"
   ]
  },
  {
   "cell_type": "code",
   "execution_count": 8,
   "metadata": {},
   "outputs": [],
   "source": [
    "Student_T stu2 = stu1;\n",
    "Student_T stu3, stu4;"
   ]
  },
  {
   "cell_type": "code",
   "execution_count": 14,
   "metadata": {},
   "outputs": [
    {
     "name": "stderr",
     "output_type": "stream",
     "text": [
      "\u001b[1minput_line_27:3:6: \u001b[0m\u001b[0;1;31merror: \u001b[0m\u001b[1minvalid operands to binary expression ('std::__1::ostream' (aka 'basic_ostream<char>') and\n",
      "      'Student_T')\u001b[0m\n",
      "cout << stu2;\n",
      "\u001b[0;1;32m~~~~ ^  ~~~~\n",
      "\u001b[0m\u001b[1m/Users/rbasnet/miniconda3/include/c++/v1/ostream:220:20: \u001b[0m\u001b[0;1;30mnote: \u001b[0mcandidate function not viable: no known conversion from 'Student_T' to 'const void *' for\n",
      "      1st argument; take the address of the argument with &\u001b[0m\n",
      "    basic_ostream& operator<<(const void* __p);\n",
      "\u001b[0;1;32m                   ^\n",
      "\u001b[0m\u001b[1m/Users/rbasnet/miniconda3/include/c++/v1/ostream:196:20: \u001b[0m\u001b[0;1;30mnote: \u001b[0mcandidate function not viable: no known conversion from 'Student_T' to\n",
      "      'std::__1::basic_ostream<char> &(*)(std::__1::basic_ostream<char> &)' for 1st\n",
      "      argument\u001b[0m\n",
      "    basic_ostream& operator<<(basic_ostream& (*__pf)(basic_ostream&))\n",
      "\u001b[0;1;32m                   ^\n",
      "\u001b[0m\u001b[1m/Users/rbasnet/miniconda3/include/c++/v1/ostream:200:20: \u001b[0m\u001b[0;1;30mnote: \u001b[0mcandidate function not viable: no known conversion from 'Student_T' to\n",
      "      'basic_ios<std::__1::basic_ostream<char, std::__1::char_traits<char> >::char_type,\n",
      "      std::__1::basic_ostream<char, std::__1::char_traits<char> >::traits_type>\n",
      "      &(*)(basic_ios<std::__1::basic_ostream<char, std::__1::char_traits<char>\n",
      "      >::char_type, std::__1::basic_ostream<char, std::__1::char_traits<char>\n",
      "      >::traits_type> &)' (aka 'basic_ios<char, std::__1::char_traits<char> >\n",
      "      &(*)(basic_ios<char, std::__1::char_traits<char> > &)') for 1st argument\u001b[0m\n",
      "    basic_ostream& operator<<(basic_ios<char_type, traits_type>&\n",
      "\u001b[0;1;32m                   ^\n",
      "\u001b[0m\u001b[1m/Users/rbasnet/miniconda3/include/c++/v1/ostream:205:20: \u001b[0m\u001b[0;1;30mnote: \u001b[0mcandidate function not viable: no known conversion from 'Student_T' to 'std::__1::ios_base\n",
      "      &(*)(std::__1::ios_base &)' for 1st argument\u001b[0m\n",
      "    basic_ostream& operator<<(ios_base& (*__pf)(ios_base&))\n",
      "\u001b[0;1;32m                   ^\n",
      "\u001b[0m\u001b[1m/Users/rbasnet/miniconda3/include/c++/v1/ostream:208:20: \u001b[0m\u001b[0;1;30mnote: \u001b[0mcandidate function not viable: no known conversion from 'Student_T' to 'bool' for 1st\n",
      "      argument\u001b[0m\n",
      "    basic_ostream& operator<<(bool __n);\n",
      "\u001b[0;1;32m                   ^\n",
      "\u001b[0m\u001b[1m/Users/rbasnet/miniconda3/include/c++/v1/ostream:209:20: \u001b[0m\u001b[0;1;30mnote: \u001b[0mcandidate function not viable: no known conversion from 'Student_T' to 'short' for 1st\n",
      "      argument\u001b[0m\n",
      "    basic_ostream& operator<<(short __n);\n",
      "\u001b[0;1;32m                   ^\n",
      "\u001b[0m\u001b[1m/Users/rbasnet/miniconda3/include/c++/v1/ostream:210:20: \u001b[0m\u001b[0;1;30mnote: \u001b[0mcandidate function not viable: no known conversion from 'Student_T' to 'unsigned short' for\n",
      "      1st argument\u001b[0m\n",
      "    basic_ostream& operator<<(unsigned short __n);\n",
      "\u001b[0;1;32m                   ^\n",
      "\u001b[0m\u001b[1m/Users/rbasnet/miniconda3/include/c++/v1/ostream:211:20: \u001b[0m\u001b[0;1;30mnote: \u001b[0mcandidate function not viable: no known conversion from 'Student_T' to 'int' for 1st\n",
      "      argument\u001b[0m\n",
      "    basic_ostream& operator<<(int __n);\n",
      "\u001b[0;1;32m                   ^\n",
      "\u001b[0m\u001b[1m/Users/rbasnet/miniconda3/include/c++/v1/ostream:212:20: \u001b[0m\u001b[0;1;30mnote: \u001b[0mcandidate function not viable: no known conversion from 'Student_T' to 'unsigned int' for\n",
      "      1st argument\u001b[0m\n",
      "    basic_ostream& operator<<(unsigned int __n);\n",
      "\u001b[0;1;32m                   ^\n",
      "\u001b[0m\u001b[1m/Users/rbasnet/miniconda3/include/c++/v1/ostream:213:20: \u001b[0m\u001b[0;1;30mnote: \u001b[0mcandidate function not viable: no known conversion from 'Student_T' to 'long' for 1st\n",
      "      argument\u001b[0m\n",
      "    basic_ostream& operator<<(long __n);\n",
      "\u001b[0;1;32m                   ^\n",
      "\u001b[0m\u001b[1m/Users/rbasnet/miniconda3/include/c++/v1/ostream:214:20: \u001b[0m\u001b[0;1;30mnote: \u001b[0mcandidate function not viable: no known conversion from 'Student_T' to 'unsigned long' for\n",
      "      1st argument\u001b[0m\n",
      "    basic_ostream& operator<<(unsigned long __n);\n",
      "\u001b[0;1;32m                   ^\n",
      "\u001b[0m\u001b[1m/Users/rbasnet/miniconda3/include/c++/v1/ostream:215:20: \u001b[0m\u001b[0;1;30mnote: \u001b[0mcandidate function not viable: no known conversion from 'Student_T' to 'long long' for 1st\n",
      "      argument\u001b[0m\n",
      "    basic_ostream& operator<<(long long __n);\n",
      "\u001b[0;1;32m                   ^\n",
      "\u001b[0m\u001b[1m/Users/rbasnet/miniconda3/include/c++/v1/ostream:216:20: \u001b[0m\u001b[0;1;30mnote: \u001b[0mcandidate function not viable: no known conversion from 'Student_T' to 'unsigned long long'\n",
      "      for 1st argument\u001b[0m\n",
      "    basic_ostream& operator<<(unsigned long long __n);\n",
      "\u001b[0;1;32m                   ^\n",
      "\u001b[0m\u001b[1m/Users/rbasnet/miniconda3/include/c++/v1/ostream:217:20: \u001b[0m\u001b[0;1;30mnote: \u001b[0mcandidate function not viable: no known conversion from 'Student_T' to 'float' for 1st\n",
      "      argument\u001b[0m\n",
      "    basic_ostream& operator<<(float __f);\n",
      "\u001b[0;1;32m                   ^\n",
      "\u001b[0m\u001b[1m/Users/rbasnet/miniconda3/include/c++/v1/ostream:218:20: \u001b[0m\u001b[0;1;30mnote: \u001b[0mcandidate function not viable: no known conversion from 'Student_T' to 'double' for 1st\n",
      "      argument\u001b[0m\n",
      "    basic_ostream& operator<<(double __f);\n",
      "\u001b[0;1;32m                   ^\n",
      "\u001b[0m\u001b[1m/Users/rbasnet/miniconda3/include/c++/v1/ostream:219:20: \u001b[0m\u001b[0;1;30mnote: \u001b[0mcandidate function not viable: no known conversion from 'Student_T' to 'long double' for\n",
      "      1st argument\u001b[0m\n",
      "    basic_ostream& operator<<(long double __f);\n",
      "\u001b[0;1;32m                   ^\n",
      "\u001b[0m\u001b[1m/Users/rbasnet/miniconda3/include/c++/v1/ostream:221:20: \u001b[0m\u001b[0;1;30mnote: \u001b[0mcandidate function not viable: no known conversion from 'Student_T' to\n",
      "      'basic_streambuf<std::__1::basic_ostream<char, std::__1::char_traits<char>\n",
      "      >::char_type, std::__1::basic_ostream<char, std::__1::char_traits<char>\n",
      "      >::traits_type> *' (aka 'basic_streambuf<char, std::__1::char_traits<char> > *') for\n",
      "      1st argument\u001b[0m\n",
      "    basic_ostream& operator<<(basic_streambuf<char_type, traits_type>* __sb);\n",
      "\u001b[0;1;32m                   ^\n",
      "\u001b[0m\u001b[1m/Users/rbasnet/miniconda3/include/c++/v1/ostream:757:1: \u001b[0m\u001b[0;1;30mnote: \u001b[0mcandidate function not viable: no known conversion from 'Student_T' to 'char' for 2nd\n",
      "      argument\u001b[0m\n",
      "operator<<(basic_ostream<_CharT, _Traits>& __os, char __cn)\n",
      "\u001b[0;1;32m^\n",
      "\u001b[0m\u001b[1m/Users/rbasnet/miniconda3/include/c++/v1/ostream:790:1: \u001b[0m\u001b[0;1;30mnote: \u001b[0mcandidate function not viable: no known conversion from 'Student_T' to 'char' for 2nd\n",
      "      argument\u001b[0m\n",
      "operator<<(basic_ostream<char, _Traits>& __os, char __c)\n",
      "\u001b[0;1;32m^\n",
      "\u001b[0m\u001b[1m/Users/rbasnet/miniconda3/include/c++/v1/ostream:797:1: \u001b[0m\u001b[0;1;30mnote: \u001b[0mcandidate function not viable: no known conversion from 'Student_T' to 'signed char' for\n",
      "      2nd argument\u001b[0m\n",
      "operator<<(basic_ostream<char, _Traits>& __os, signed char __c)\n",
      "\u001b[0;1;32m^\n",
      "\u001b[0m\u001b[1m/Users/rbasnet/miniconda3/include/c++/v1/ostream:804:1: \u001b[0m\u001b[0;1;30mnote: \u001b[0mcandidate function not viable: no known conversion from 'Student_T' to 'unsigned char' for\n",
      "      2nd argument\u001b[0m\n",
      "operator<<(basic_ostream<char, _Traits>& __os, unsigned char __c)\n",
      "\u001b[0;1;32m^\n",
      "\u001b[0m\u001b[1m/Users/rbasnet/miniconda3/include/c++/v1/ostream:818:1: \u001b[0m\u001b[0;1;30mnote: \u001b[0mcandidate function not viable: no known conversion from 'Student_T' to 'const char *' for\n",
      "      2nd argument\u001b[0m\n",
      "operator<<(basic_ostream<_CharT, _Traits>& __os, const char* __strn)\n",
      "\u001b[0;1;32m^\n",
      "\u001b[0m\u001b[1m/Users/rbasnet/miniconda3/include/c++/v1/ostream:864:1: \u001b[0m\u001b[0;1;30mnote: \u001b[0mcandidate function not viable: no known conversion from 'Student_T' to 'const char *' for\n",
      "      2nd argument\u001b[0m\n",
      "operator<<(basic_ostream<char, _Traits>& __os, const char* __str)\n",
      "\u001b[0;1;32m^\n",
      "\u001b[0m\u001b[1m/Users/rbasnet/miniconda3/include/c++/v1/ostream:871:1: \u001b[0m\u001b[0;1;30mnote: \u001b[0mcandidate function not viable: no known conversion from 'Student_T' to\n",
      "      'const signed char *' for 2nd argument\u001b[0m\n",
      "operator<<(basic_ostream<char, _Traits>& __os, const signed char* __str)\n",
      "\u001b[0;1;32m^\n",
      "\u001b[0m\u001b[1m/Users/rbasnet/miniconda3/include/c++/v1/ostream:879:1: \u001b[0m\u001b[0;1;30mnote: \u001b[0mcandidate function not viable: no known conversion from 'Student_T' to\n",
      "      'const unsigned char *' for 2nd argument\u001b[0m\n",
      "operator<<(basic_ostream<char, _Traits>& __os, const unsigned char* __str)\n",
      "\u001b[0;1;32m^\n",
      "\u001b[0m\u001b[1m/Users/rbasnet/miniconda3/include/c++/v1/ostream:1063:1: \u001b[0m\u001b[0;1;30mnote: \u001b[0mcandidate function not viable: no known conversion from 'Student_T' to\n"
     ]
    },
    {
     "name": "stderr",
     "output_type": "stream",
     "text": [
      "      'const std::__1::error_code' for 2nd argument\u001b[0m\n",
      "operator<<(basic_ostream<_CharT, _Traits>& __os, const error_code& __ec)\n",
      "\u001b[0;1;32m^\n",
      "\u001b[0m\u001b[1m/Users/rbasnet/miniconda3/include/c++/v1/ostream:750:1: \u001b[0m\u001b[0;1;30mnote: \u001b[0mcandidate template ignored: deduced conflicting types for parameter '_CharT'\n",
      "      ('char' vs. 'Student_T')\u001b[0m\n",
      "operator<<(basic_ostream<_CharT, _Traits>& __os, _CharT __c)\n",
      "\u001b[0;1;32m^\n",
      "\u001b[0m\u001b[1m/Users/rbasnet/miniconda3/include/c++/v1/ostream:811:1: \u001b[0m\u001b[0;1;30mnote: \u001b[0mcandidate template ignored: could not match 'const _CharT *' against 'Student_T'\u001b[0m\n",
      "operator<<(basic_ostream<_CharT, _Traits>& __os, const _CharT* __str)\n",
      "\u001b[0;1;32m^\n",
      "\u001b[0m\u001b[1m/Users/rbasnet/miniconda3/include/c++/v1/ostream:1046:1: \u001b[0m\u001b[0;1;30mnote: \u001b[0mcandidate template ignored: could not match 'basic_string<type-parameter-0-0,\n",
      "      type-parameter-0-1, type-parameter-0-2>' against 'Student_T'\u001b[0m\n",
      "operator<<(basic_ostream<_CharT, _Traits>& __os,\n",
      "\u001b[0;1;32m^\n",
      "\u001b[0m\u001b[1m/Users/rbasnet/miniconda3/include/c++/v1/ostream:1054:1: \u001b[0m\u001b[0;1;30mnote: \u001b[0mcandidate template ignored: could not match 'basic_string_view<type-parameter-0-0,\n",
      "      type-parameter-0-1>' against 'Student_T'\u001b[0m\n",
      "operator<<(basic_ostream<_CharT, _Traits>& __os,\n",
      "\u001b[0;1;32m^\n",
      "\u001b[0m\u001b[1m/Users/rbasnet/miniconda3/include/c++/v1/ostream:1071:1: \u001b[0m\u001b[0;1;30mnote: \u001b[0mcandidate template ignored: could not match 'shared_ptr<type-parameter-0-2>' against\n",
      "      'Student_T'\u001b[0m\n",
      "operator<<(basic_ostream<_CharT, _Traits>& __os, shared_ptr<_Yp> const& __p)\n",
      "\u001b[0;1;32m^\n",
      "\u001b[0m\u001b[1m/Users/rbasnet/miniconda3/include/c++/v1/iomanip:362:1: \u001b[0m\u001b[0;1;30mnote: \u001b[0mcandidate template ignored: could not match '__iom_t8<type-parameter-0-2>' against\n",
      "      'Student_T'\u001b[0m\n",
      "operator<<(basic_ostream<_CharT, _Traits>& __os, const __iom_t8<_MoneyT>& __x)\n",
      "\u001b[0;1;32m^\n",
      "\u001b[0m\u001b[1m/Users/rbasnet/miniconda3/include/c++/v1/iomanip:572:33: \u001b[0m\u001b[0;1;30mnote: \u001b[0mcandidate template ignored: could not match '__quoted_output_proxy<type-parameter-0-0,\n",
      "      type-parameter-0-2, type-parameter-0-1>' against 'Student_T'\u001b[0m\n",
      "basic_ostream<_CharT, _Traits>& operator<<(\n",
      "\u001b[0;1;32m                                ^\n",
      "\u001b[0m\u001b[1m/Users/rbasnet/miniconda3/include/c++/v1/iomanip:592:33: \u001b[0m\u001b[0;1;30mnote: \u001b[0mcandidate template ignored: could not match '__quoted_proxy<type-parameter-0-0,\n",
      "      type-parameter-0-1, type-parameter-0-2>' against 'Student_T'\u001b[0m\n",
      "basic_ostream<_CharT, _Traits>& operator<<(\n",
      "\u001b[0;1;32m                                ^\n",
      "\u001b[0m\u001b[1m/Users/rbasnet/miniconda3/include/c++/v1/ostream:1036:1: \u001b[0m\u001b[0;1;30mnote: \u001b[0mcandidate template ignored: requirement\n",
      "      '!is_lvalue_reference<basic_ostream<char> &>::value' was not satisfied [with _Stream\n",
      "      = std::__1::basic_ostream<char> &, _Tp = Student_T]\u001b[0m\n",
      "operator<<(_Stream&& __os, const _Tp& __x)\n",
      "\u001b[0;1;32m^\n",
      "\u001b[0m\u001b[1m/Users/rbasnet/miniconda3/include/c++/v1/valarray:4105:1: \u001b[0m\u001b[0;1;30mnote: \u001b[0mcandidate template ignored: substitution failure [with _Expr1 =\n",
      "      std::__1::basic_ostream<char>, _Expr2 = Student_T]: no type named 'value_type' in\n",
      "      'std::__1::basic_ostream<char>'\u001b[0m\n",
      "operator<<(const _Expr1& __x, const _Expr2& __y)\n",
      "\u001b[0;1;32m^\n",
      "\u001b[0m\u001b[1m/Users/rbasnet/miniconda3/include/c++/v1/valarray:4120:1: \u001b[0m\u001b[0;1;30mnote: \u001b[0mcandidate template ignored: substitution failure [with _Expr =\n",
      "      std::__1::basic_ostream<char>]: no type named 'value_type' in\n",
      "      'std::__1::basic_ostream<char>'\u001b[0m\n",
      "operator<<(const _Expr& __x, const typename _Expr::value_type& __y)\n",
      "\u001b[0;1;32m^\n",
      "\u001b[0m\u001b[1m/Users/rbasnet/miniconda3/include/c++/v1/valarray:4136:1: \u001b[0m\u001b[0;1;30mnote: \u001b[0mcandidate template ignored: substitution failure [with _Expr = Student_T]: no type named\n",
      "      'value_type' in 'Student_T'\u001b[0m\n",
      "operator<<(const typename _Expr::value_type& __x, const _Expr& __y)\n",
      "\u001b[0;1;32m^\n",
      "\u001b[0m\u001b[1m/Users/rbasnet/miniconda3/include/c++/v1/ostream:1078:1: \u001b[0m\u001b[0;1;30mnote: \u001b[0mcandidate template ignored: could not match 'bitset<_Size>' against 'Student_T'\u001b[0m\n",
      "operator<<(basic_ostream<_CharT, _Traits>& __os, const bitset<_Size>& __x)\n",
      "\u001b[0;1;32m^\n",
      "\u001b[0m\u001b[1m/Users/rbasnet/miniconda3/include/c++/v1/iomanip:482:1: \u001b[0m\u001b[0;1;30mnote: \u001b[0mcandidate template ignored: could not match '__iom_t10<type-parameter-0-0>' against\n",
      "      'Student_T'\u001b[0m\n",
      "operator<<(basic_ostream<_CharT, _Traits>& __os, const __iom_t10<_CharT>& __x)\n",
      "\u001b[0;1;32m^\n",
      "\u001b[0m"
     ]
    },
    {
     "ename": "Interpreter Error",
     "evalue": "",
     "output_type": "error",
     "traceback": [
      "Interpreter Error: "
     ]
    }
   ],
   "source": [
    "// NOT allowed\n",
    "cout << stu2;"
   ]
  },
  {
   "cell_type": "code",
   "execution_count": 12,
   "metadata": {},
   "outputs": [
    {
     "name": "stdout",
     "output_type": "stream",
     "text": [
      "John\n",
      "John\n"
     ]
    },
    {
     "data": {
      "text/plain": [
       "@0x1046b6918"
      ]
     },
     "execution_count": 12,
     "metadata": {},
     "output_type": "execute_result"
    }
   ],
   "source": [
    "cout << stu2.name.fName << '\\n';\n",
    "cout << stu1.name.fName << '\\n';\n",
    "stu4 = stu3 = stu2; // copy stu2 to stu3; copy stu3 to stu4"
   ]
  },
  {
   "cell_type": "code",
   "execution_count": 13,
   "metadata": {},
   "outputs": [
    {
     "name": "stderr",
     "output_type": "stream",
     "text": [
      "\u001b[1minput_line_26:2:11: \u001b[0m\u001b[0;1;31merror: \u001b[0m\u001b[1minvalid operands to binary expression ('Student_T' and 'Student_T')\u001b[0m\n",
      " if (stu2 == stu1)\n",
      "\u001b[0;1;32m     ~~~~ ^  ~~~~\n",
      "\u001b[0m"
     ]
    },
    {
     "ename": "Interpreter Error",
     "evalue": "",
     "output_type": "error",
     "traceback": [
      "Interpreter Error: "
     ]
    }
   ],
   "source": [
    "// NOT allowed!\n",
    "if (stu2 == stu1)\n",
    "    cout << \"two students are equal!\""
   ]
  },
  {
   "cell_type": "code",
   "execution_count": 12,
   "metadata": {},
   "outputs": [
    {
     "name": "stdout",
     "output_type": "stream",
     "text": [
      "stu2 and stu1 have same first names.\n"
     ]
    }
   ],
   "source": [
    "if (stu2.name.fName == stu1.name.fName)\n",
    "    cout << \"stu2 and stu1 have same first names.\\n\";\n",
    "else\n",
    "    cout << \"stu2 and stu1 have different first names.\\n\";"
   ]
  },
  {
   "cell_type": "markdown",
   "metadata": {},
   "source": [
    "<a id=\"func\"></a>\n",
    "## passing struct objects to functions\n",
    "- can be passed both by value and reference\n",
    "- pass by value\n",
    "    - actual parameter data is copied to formal parameter, member by member\n",
    "    - less efficient; use it with fundamental types\n",
    "- pass by reference\n",
    "    - actual parameter's memory location is passed so actual and formal parameters become alias\n",
    "    - more efficient as only 4 or 8 bytes memory addresse is passed\n",
    "    - use it with struct and class user-defined types"
   ]
  },
  {
   "cell_type": "code",
   "execution_count": 9,
   "metadata": {},
   "outputs": [],
   "source": [
    "// passed by value\n",
    "void printStudent(Student_T s) {\n",
    "    cout << \"full name: \" << s.name.fName << \" \" << s.name.MI << \" \" << s.name.lName << '\\n';\n",
    "    cout << \"test scores: \" << s.tests[0] << \" \" << s.tests[1] << \" \" << s.tests[2] << '\\n';\n",
    "}"
   ]
  },
  {
   "cell_type": "code",
   "execution_count": 13,
   "metadata": {},
   "outputs": [
    {
     "name": "stdout",
     "output_type": "stream",
     "text": [
      "name: John E Smith\n",
      "test scores: 95 100 98\n"
     ]
    }
   ],
   "source": [
    "printStudent(stu1);"
   ]
  },
  {
   "cell_type": "code",
   "execution_count": 14,
   "metadata": {},
   "outputs": [
    {
     "name": "stdout",
     "output_type": "stream",
     "text": [
      "name: John E Smith\n",
      "test scores: 95 100 98\n"
     ]
    }
   ],
   "source": [
    "printStudent(stu4);"
   ]
  },
  {
   "cell_type": "code",
   "execution_count": 16,
   "metadata": {},
   "outputs": [],
   "source": [
    "// passed by value\n",
    "void printStudent1(Student_T &s) {\n",
    "    cout << \"full name: \" << s.name.fName << \" \" << s.name.MI << \" \" << s.name.lName << '\\n';\n",
    "    cout << \"test scores: \" << s.tests[0] << \" \" << s.tests[1] << \" \" << s.tests[2] << '\\n';\n",
    "}"
   ]
  },
  {
   "cell_type": "code",
   "execution_count": 20,
   "metadata": {},
   "outputs": [
    {
     "name": "stdout",
     "output_type": "stream",
     "text": [
      "name: John E Smith\n",
      "test scores: 95 100 98\n",
      "name: Jake J Jordan\n",
      "test scores: 100 100 100\n"
     ]
    }
   ],
   "source": [
    "// stu1 and stu2 are passed by reference; become alias to s formal parameter\n",
    "stu2.name = {\"Jake\", 'J', \"Jordan\"};\n",
    "stu2.tests[0] = 100;\n",
    "stu2.tests[1] = 100;\n",
    "stu2.tests[2] = 100;\n",
    "printStudent1(stu1);\n",
    "printStudent1(stu2)"
   ]
  },
  {
   "cell_type": "markdown",
   "metadata": {},
   "source": [
    "<a id=\"array\"></a>\n",
    "## array of struct objects\n",
    "- array can be created to hold 1 or more records (struct objects) of same type\n",
    "- e.g. store data of whole class, department, university, etc."
   ]
  },
  {
   "cell_type": "code",
   "execution_count": 21,
   "metadata": {},
   "outputs": [],
   "source": [
    "Student_T CS2[30];"
   ]
  },
  {
   "cell_type": "code",
   "execution_count": 22,
   "metadata": {},
   "outputs": [],
   "source": [
    "Student_T newStu = {{\"Mary\", 'M', \"Stark\"}, {\"Joe\", 'J', \"Stark\"}, {95, 75, 100}};"
   ]
  },
  {
   "cell_type": "code",
   "execution_count": 23,
   "metadata": {},
   "outputs": [],
   "source": [
    "CS2[0] = stu1;\n",
    "CS2[1] = stu2;\n",
    "CS2[2] = stu3;\n",
    "CS2[3] = stu4;\n",
    "CS2[4] = newStu;"
   ]
  },
  {
   "cell_type": "code",
   "execution_count": 25,
   "metadata": {},
   "outputs": [
    {
     "name": "stdout",
     "output_type": "stream",
     "text": [
      "name: John E Smith\n",
      "test scores: 95 100 98\n",
      "name: Jake J Jordan\n",
      "test scores: 100 100 100\n",
      "name: John E Smith\n",
      "test scores: 95 100 98\n",
      "name: John E Smith\n",
      "test scores: 95 100 98\n",
      "name: Mary M Stark\n",
      "test scores: 95 75 100\n"
     ]
    }
   ],
   "source": [
    "for(int i=0; i<5; i++) {\n",
    "    printStudent1(CS2[i]);\n",
    "}"
   ]
  },
  {
   "cell_type": "code",
   "execution_count": null,
   "metadata": {},
   "outputs": [],
   "source": []
  }
 ],
 "metadata": {
  "kernelspec": {
   "display_name": "C++14",
   "language": "C++14",
   "name": "xeus-cling-cpp14"
  },
  "language_info": {
   "codemirror_mode": "text/x-c++src",
   "file_extension": ".cpp",
   "mimetype": "text/x-c++src",
   "name": "c++",
   "version": "-std=c++14"
  }
 },
 "nbformat": 4,
 "nbformat_minor": 2
}
