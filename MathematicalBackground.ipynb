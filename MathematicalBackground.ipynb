{
 "cells": [
  {
   "cell_type": "markdown",
   "metadata": {},
   "source": [
    "# Mathematical Background\n",
    "- https://opendsa-server.cs.vt.edu/ODSA/Books/CS3/html/MathpreIntro.html\n",
    "- <math.h> library provides a lot of mathematical functions used in this chapter and beyond\n",
    "    - http://www.cplusplus.com/reference/cmath/\n",
    "\n",
    "## Table of Contents\n",
    "- **[Introduction](#intro)**<br>\n",
    "- **[Sets & Relations](#sets)** <br>\n",
    "- **[Terms & Definitions](#defs)**<br>"
   ]
  },
  {
   "cell_type": "markdown",
   "metadata": {},
   "source": [
    "<a id=\"intro\"></a>"
   ]
  },
  {
   "cell_type": "markdown",
   "metadata": {},
   "source": [
    "## Introduction\n",
    "- review and reference materials for mathematical notation, background, and techniques used in data structures and algorithm concepts\n",
    "\n",
    "- **Estimation** \n",
    "    - not a mathematical technique\n",
    "    - general engineering skill enormously useful to computer scientists doing design work\n",
    "    - discard immediately any proposed solution whose estimated resource requirements fall well outside the problem's resource constraints \n",
    "    - allow time for greater analysis of more promising solutions"
   ]
  },
  {
   "cell_type": "markdown",
   "metadata": {},
   "source": [
    "<a id=\"sets\"></a>"
   ]
  },
  {
   "cell_type": "markdown",
   "metadata": {},
   "source": [
    "## Sets and Relations\n",
    "- mathematical set has wide application in computer science\n",
    "- notations and techniques of set theory are commonly used when describing and implementing algorithms\n",
    "\n",
    "### set\n",
    "- a collection of distinguishable/unique **members** or **elements**\n",
    "- no concept of order\n",
    "- each member of a set is either a **primitive element** of some base type or is a set itself\n",
    "- each value from the base type is either in the set or not in the set\n",
    "- E.g., a set P may have three integers 7, 11, and 42 which are members of set P with the base type integer\n",
    "\n",
    "### set relationships\n",
    "\n",
    "| Notation | Description |\n",
    "| --- | --- |\n",
    "|{1, 4} | set composed of the members 1 and 4 |\n",
    "| {𝗑\\|𝗑 is a positive integer} | A set definition using a set former E.g: the set of all positive integers |\n",
    "| $𝗑 \\in P$ | $𝗑$ is a member of set $P$ |\n",
    "| $𝗑 ∉ P$ | $𝗑$ is not a member of set $P$ |\n",
    "| $∅$ | The null or empty set |\n",
    "| $|P|$| Cardinality: size of set $P$ or number of members for set $P$ |\n",
    "| $P \\subseteq Q$, $Q \\supseteq P$ | Set $P$ is included in set $Q$ <br> set P is a subset of set Q <br> Set $Q$ is a superset of set $P$ |\n",
    "| $P \\cup Q$ | Set Union: all elements appearing in $P$ OR $Q$ |\n",
    "| $P \\cap Q$ | Set Intersection: all elements appearing in $P$ AND $Q$ |\n",
    "| $P−Q$ | Set difference: all elements of set $P$ NOT in set $Q$ |\n",
    "| $P \\times Q$ | Set (Cartesian) Product: yields a set of ordered pairs |"
   ]
  },
  {
   "cell_type": "markdown",
   "metadata": {},
   "source": [
    "### examples\n",
    "Let's say we've two sets $P$ & $Q$ defined as:\n",
    "\n",
    "$P = \\{2, 3, 5\\} , Q = \\{5, 10\\}$\n",
    "\n",
    "Then,\n",
    "\n",
    "1. $|P| = ?$\n",
    "- $P \\cap Q = ?$\n",
    "- $P \\cup Q = ?$\n",
    "- $P - Q = ?$\n",
    "- $Q - P = ?$\n",
    "- $P \\times Q = \\{(2, 5), (2, 10), (3, 5), (3, 10), (5, 5), (5, 10)\\}$\n",
    "- **powerset** of $P$ (denoted by $2^P$) - the set of all possible subsets of $P$\n",
    "    - = {∅, {2}, {3}, {5}, {2, 3}, {2, 5}, {3, 5}, {2, 3, 5}}"
   ]
  },
  {
   "cell_type": "markdown",
   "metadata": {},
   "source": [
    "<a id=\"defs\"></a>"
   ]
  },
  {
   "cell_type": "markdown",
   "metadata": {},
   "source": [
    "## Terms & Definitions\n",
    "\n",
    "**bag** : a collection of elements with no order (like a set), but with duplicate-valued elements\n",
    "- usually represented using [ ]\n",
    "- e.g., [3, 4, 5, 4] is distinct from bag [3, 4, 5]\n",
    "\n",
    "**sequence** : a collection of elements with an order which may contain duplicate elements\n",
    "- also called **tuple** or **vector**\n",
    "\n",
    "**Factorial function** : written $n!$ is the product of the integers between $1$ and $n$\n",
    "- factorial function grows quickly as $n$ becomes larger\n",
    "- Stirling's approximation provides a good approximation\n",
    "    - $n! \\approx \\sqrt{2\\pi n}(\\frac{n}{e})^n$, where $e \\approx 2.71828$\n",
    "    - $e$ is the base for the system of natural logarithms\n",
    "    - $n!$ grows slower than $n^n$ but it grows faster than $c^n$, for positive constant $c$ \n",
    "\n",
    "**Permutations** : permutation of sequence $S$ is simply the members of $S$ arranged in some order without repeating elements\n",
    "- if a sequence $S$ contains $n$ distinct members, then there are $n!$ different permutations for the sequence\n",
    "- to obtain a **random permutation** for a sequence is given below"
   ]
  },
  {
   "cell_type": "code",
   "execution_count": 2,
   "metadata": {},
   "outputs": [],
   "source": [
    "// include libraries\n",
    "#include <iostream>\n",
    "#include <cstdlib>\n",
    "#include <ctime>\n",
    "#include <algorithm>\n",
    "#include <cmath>\n",
    "using namespace std;"
   ]
  },
  {
   "cell_type": "code",
   "execution_count": null,
   "metadata": {},
   "outputs": [],
   "source": [
    "// Randomly permute the valus in an int array\n",
    "void permute(int A[], int length) {\n",
    "    // initialize random seed\n",
    "    srand(time(NULL));\n",
    "    //int length = sizeof(A)/sizeof(int);\n",
    "    for(int i=0; i < length-1; i++) {\n",
    "        int randIndex = rand()%length;\n",
    "        //cout << randIndex << endl;\n",
    "        std::swap(A[i], A[randIndex]); \n",
    "    }\n",
    "}"
   ]
  },
  {
   "cell_type": "code",
   "execution_count": null,
   "metadata": {},
   "outputs": [],
   "source": [
    "int arr[] = {1, 2, 3, 4, 5};"
   ]
  },
  {
   "cell_type": "code",
   "execution_count": null,
   "metadata": {},
   "outputs": [],
   "source": [
    "permute(arr, 5);"
   ]
  },
  {
   "cell_type": "code",
   "execution_count": null,
   "metadata": {},
   "outputs": [],
   "source": [
    "arr"
   ]
  },
  {
   "cell_type": "markdown",
   "metadata": {},
   "source": [
    "### Permutations vs Combinations\n",
    "- \"what's your locker combination?\" is technically wrong!\n",
    "- should be \"what's your locker permutation?\"\n",
    "- with permutations we care about the order of the elements, whereas with combinations we don't\n",
    "- e.g., locker combo of 3124 is not the same as 1234\n",
    "- if we there are $n$ objects and we want to choose $k$ of them, the total number of permutations is given by:\n",
    "\n",
    "$\\lgroup ^n _k \\rgroup = P_k^n = \\frac{n!}{(n-k)!}$\n",
    "\n",
    "- if there are $n$ objects and we want to choose $k$ of them, the total number of combinations is given by:\n",
    "\n",
    "$\\lgroup ^n _k \\rgroup = C_k^n = \\frac{n!}{k!(n-k)!}$\n",
    "\n",
    "### Boolean variables\n",
    "- variables that take on one of the two values `True` or `False`\n",
    "    - also associated with the values $1$ and $0$, respectively\n",
    "\n",
    "### Boolean Logic Notation\n",
    "\n",
    "| Boolean logic | Meaning |\n",
    "| --- | --- |\n",
    "| $ A \\Rightarrow B$ | $A$ implies $B$ |\n",
    "| $ A \\Leftrightarrow B$ | $A$ if and only if $B$ |\n",
    "| $ A \\vee B$ | $A$ or $B$ |\n",
    "| $ A \\wedge B$ | $A$ and $B$|\n",
    "| $ \\sim A$ | not $A$ |\n",
    "\n",
    "### Floor and Ceiling functions\n",
    "- floor of $X$ (written $\\lfloor x\\rfloor$) returns rounded down value $\\le x$\n",
    "    - $\\lfloor 3.4 \\rfloor$ = ?\n",
    "    - $\\lfloor -3.4 \\rfloor$ = ?\n",
    "- ceiling of $x$ (written $\\lceil x \\rceil$) returns the rounded up value $\\ge x$\n",
    "    - $\\lceil 3.4 \\rceil$ = ?\n",
    "    - $\\lceil -3.4 \\rceil$ = ?\n",
    "    "
   ]
  },
  {
   "cell_type": "code",
   "execution_count": 10,
   "metadata": {},
   "outputs": [
    {
     "name": "stdout",
     "output_type": "stream",
     "text": [
      "floor of 3.4 = 3\n",
      "floor of -3.4 = -4\n"
     ]
    }
   ],
   "source": [
    "// floor returns rounded down float value\n",
    "cout << \"floor of 3.4 = \" << floor(3.4) << endl;\n",
    "cout << \"floor of -3.4 = \" << floor(-3.4) << endl;"
   ]
  },
  {
   "cell_type": "code",
   "execution_count": 11,
   "metadata": {},
   "outputs": [
    {
     "name": "stdout",
     "output_type": "stream",
     "text": [
      "ceiling of of 3.4 = 4\n",
      "ceiling of -3.4 = -3\n"
     ]
    }
   ],
   "source": [
    "// floor returns rounded down float value\n",
    "cout << \"ceiling of of 3.4 = \" << ceil(3.4) << endl;\n",
    "cout << \"ceiling of -3.4 = \" << ceil(-3.4) << endl;"
   ]
  },
  {
   "cell_type": "markdown",
   "metadata": {},
   "source": [
    "### Modulus function (mod)\n",
    "- returns the remainder of an integer division\n",
    "- $n$ mod $m$ is calculated using $n\\%m$\n",
    "    - $5\\%5$ = ?\n",
    "    - $5\\%3$ = ?\n",
    "    - $5\\%7$ = ?\n",
    "- $%$ is normally used to find a valid index between $0$ and $n-1$\n",
    "    - used by many **hash systems** to find a valid index into the hash table"
   ]
  },
  {
   "cell_type": "code",
   "execution_count": 14,
   "metadata": {},
   "outputs": [
    {
     "name": "stdout",
     "output_type": "stream",
     "text": [
      "5%3 = 2\n",
      "5%5 = 0\n",
      "5%7 = 5\n"
     ]
    }
   ],
   "source": [
    "cout << \"5%3 = \" << 5%3 << endl;\n",
    "cout << \"5%5 = \" << 5%5 << endl;\n",
    "cout << \"5%7 = \" << 5%7 << endl;"
   ]
  },
  {
   "cell_type": "markdown",
   "metadata": {},
   "source": [
    "### Logarithms\n",
    "- logarithms are frequently used by programmers esp. $log_2$\n",
    "- the logarithm of base $b$ for value $y$ is the power to which $b$ is raised to get $y$\n",
    "- i.e. if $log_by = x$, then $b^x = y$, and $b^{log_by} = y$\n",
    "\n",
    "**Exercise**: What is the minimum number of bits needed to represent $1000$ distinct code values?\n",
    "- $\\lceil log_2 1000\\rceil$ = ?"
   ]
  },
  {
   "cell_type": "code",
   "execution_count": 15,
   "metadata": {},
   "outputs": [
    {
     "name": "stdout",
     "output_type": "stream",
     "text": [
      "answer = 10\n"
     ]
    }
   ],
   "source": [
    "#include <cmath>\n",
    "cout << \"answer = \" << ceil(log2(1000)) << endl;"
   ]
  },
  {
   "cell_type": "markdown",
   "metadata": {},
   "source": [
    "- in CS, majority of data structures (DS) and algorithms use base of two\n",
    "    - because DS and algorithms most often divide things in half, or store codes with binary bits\n",
    "    - in theory, it's a common practice to use simply $log$ to represent $log_2$\n",
    "    - in C++, $log$ function is natural log $log_e$\n",
    "    - $log_2$ and $log_{10}$ are spelled out for base 2 and 10 respectively\n",
    "    \n",
    "### Common logarithm properties\n",
    "1. $log(nm) = log(n) + log(m)$\n",
    "- $log(n/m) = log(n) - log(m)$\n",
    "- $log(n^r) = r log (n)$\n",
    "- $log_an = \\frac{log_bn}{log_ba}$\n",
    "\n",
    "- useful identity to know: $2^{log_2n} = n$"
   ]
  },
  {
   "cell_type": "code",
   "execution_count": null,
   "metadata": {},
   "outputs": [],
   "source": [
    "int n = 16, m = 8;"
   ]
  },
  {
   "cell_type": "code",
   "execution_count": 17,
   "metadata": {},
   "outputs": [
    {
     "name": "stdout",
     "output_type": "stream",
     "text": [
      "n = 8 and m = 8\n",
      "log2(n*m) = 6 == 6\n",
      "log2(n/m) = 0 == 0\n",
      "log2(n^m) = 24 == 24\n",
      "log2(n) = 3 == 3\n",
      "2^(log2(n)) = 8 == 8\n"
     ]
    }
   ],
   "source": [
    "// examples\n",
    "cout << \"n = \" << n << \" and m = \" << m << endl;\n",
    "cout << \"log2(n*m) = \" << log2(n*m)  << \" == \" << log2(n) + log2(m) << endl;\n",
    "cout << \"log2(n/m) = \" << log2(n/m)  << \" == \" << log2(n) - log2(m) << endl;\n",
    "cout << \"log2(n^m) = \" << log2(pow(n, m))  << \" == \" << n*log2(m) << endl;\n",
    "cout << \"log2(n) = \" << log2(n) << \" == \" << log10(n)/log10(2) << endl;\n",
    "cout << \"2^(log2(n)) = \" << pow(2, log2(n)) << \" == \" << n << endl;"
   ]
  },
  {
   "cell_type": "markdown",
   "metadata": {},
   "source": [
    "### Summations\n",
    "- we typically apply some function over a range of values using loops and sum all the results called summation\n",
    "- typically written using \"Sigma\" notation: $\\sum_{i=1}^{n} f(i)$\n",
    "    - summing the value of $f(i)$ over some range of integer values from $1$ to $n$\n",
    "    - $f(1) + f(2) + f(3) + ... f(n)$\n",
    "- replacing summation with algebraic equation is known as closed-form solution making it easier to solve the summation\n",
    "- e.g., $\\sum_{i=1}^n 1$ = 1 + 1 + 1 +... = $n$ 1s = $n$\n",
    "- $\\sum_{i=1}^5i$ = ? (see animation here: https://opendsa-server.cs.vt.edu/ODSA/Books/CS3/html/Summations.html)"
   ]
  },
  {
   "cell_type": "markdown",
   "metadata": {},
   "source": [
    "## Bit shifting\n",
    "- left shift (<<) and right shift (>>)\n",
    "- << (left shift) takes two numbers, left shifts the bits of the first operand by number of places to shift using second operand\n",
    "- in another words, left shifting an integer $x$ with an integer $y$ or  $(x<<y)$ is equivalent to multiplying $x$ with $2^y$ ($2$ raise to power $y$)"
   ]
  },
  {
   "cell_type": "code",
   "execution_count": null,
   "metadata": {},
   "outputs": [],
   "source": [
    "int x = 2;"
   ]
  },
  {
   "cell_type": "code",
   "execution_count": 8,
   "metadata": {},
   "outputs": [
    {
     "name": "stdout",
     "output_type": "stream",
     "text": [
      "x*2^1 = 4\n",
      "x*2^10 = 2048\n"
     ]
    }
   ],
   "source": [
    "cout << \"x*2^1 = \" << (x<<1) << endl;  // needs () to force the order of operation as bit shift not cout<<\n",
    "cout << \"x*2^10 = \" << (x<<10) << endl;"
   ]
  },
  {
   "cell_type": "markdown",
   "metadata": {},
   "source": [
    "- >> (right shift) takes two numbers, right shifts the bits of the first operand by number of places to shift using second operand\n",
    "- in another words, right shifting an integer $x$ with an integer $y$ or  $(x>>y)$ is equivalent to dividing $x$ with $2^y$ ($2$ raise to power $y$)"
   ]
  },
  {
   "cell_type": "code",
   "execution_count": 9,
   "metadata": {},
   "outputs": [
    {
     "name": "stdout",
     "output_type": "stream",
     "text": [
      "x/2^1 = 512\n",
      "x/2^10 = 1\n"
     ]
    }
   ],
   "source": [
    "x = 1024;\n",
    "cout << \"x/2^1 = \" << (x>>1) << endl;  // needs () to force the order of operation as bit shift not cout<<\n",
    "cout << \"x/2^10 = \" << (x>>10) << endl;"
   ]
  },
  {
   "cell_type": "markdown",
   "metadata": {},
   "source": [
    "## Exercises\n",
    "### Applications of combinations and permutations\n",
    "1. A Towering Problem -  https://open.kattis.com/problems/towering\n",
    "- Veci - https://open.kattis.com/problems/veci\n",
    "- Character Development - https://open.kattis.com/problems/character\n",
    "- Perica - https://open.kattis.com/problems/perica\n",
    "- An Industrial Spy - https://open.kattis.com/problems/industrialspy"
   ]
  },
  {
   "cell_type": "code",
   "execution_count": null,
   "metadata": {},
   "outputs": [],
   "source": []
  }
 ],
 "metadata": {
  "kernelspec": {
   "display_name": "C++14",
   "language": "C++14",
   "name": "xeus-cling-cpp14"
  },
  "language_info": {
   "codemirror_mode": "text/x-c++src",
   "file_extension": ".cpp",
   "mimetype": "text/x-c++src",
   "name": "c++",
   "version": "-std=c++14"
  }
 },
 "nbformat": 4,
 "nbformat_minor": 2
}
