{
 "cells": [
  {
   "cell_type": "markdown",
   "metadata": {},
   "source": [
    "# Minimal Cost Spanning Trees (MST)\n",
    "https://opendsa-server.cs.vt.edu/ODSA/Books/CS3/html/MCST.html\n",
    "\n",
    "### Table of Contents\n",
    "- **[MST Problems](#problems)**<br>\n",
    "- **[Prim's Algorithm](#prims)**<br>\n",
    "- **[Kruskal's Algorithm](MSTKruskals.ipynb)**<br>"
   ]
  },
  {
   "cell_type": "markdown",
   "metadata": {},
   "source": [
    "## Spanning Tree\n",
    "- spanning tree of a graph is a sub-graph that is a tree and connects all the vertices together\n",
    "- a graph can have many different spanning trees\n",
    "\n",
    "## MST Problems\n",
    "- given a connected, undirected weighted graph $G$, MST is the graph containing the vertices of $G$ along with the subset of $G$'s edges that:\n",
    "    1. has minimum total cost measured by summing the values for all of the edges in the subset\n",
    "    2. keeps all the vertices connected\n",
    "- some properties of MST\n",
    "    1. contains NO cycles\n",
    "    2. free tree with $|V|-1$ edges\n",
    "    3. the required set of edges forms a tree, it spans the vertices (i.e., connects them together)\n",
    "    4. has minimal cost (hence MST)\n",
    "- red edges indicated the subset making up the MST in the following tree\n",
    "- note that edge $(C, F)$ could be replaced with edge $(D, F)$ to form a different MST with equal cost\n",
    "<img src=\"./resources/MCST.png\">"
   ]
  },
  {
   "cell_type": "markdown",
   "metadata": {},
   "source": [
    "## MST Applications\n",
    "http://www.utdallas.edu/~besp/teaching/mst-applications.pdf\n",
    "- building a connected network (e.g., electrical grid, computer network, transportation networks, water supply networks) fully connected at the lowest cost\n",
    "- Artificial Intelligence (AI) application\n",
    "    - clustering: grouping a bunch of points into k clusters\n",
    "    - handwriting recognition\n",
    "    - curvilinear feature extraction in computer vision\n",
    "- computer circuit design\n",
    "- traveling salesman problem (TSP) - given a list of cities and the distances between each pair of cities, what is the shortest possible route that visits each city and returns to the origin city?"
   ]
  },
  {
   "cell_type": "markdown",
   "metadata": {},
   "source": [
    "## Prim's Algorithm\n",
    "- Prim's algorithms for $MST$ is very similar to Dijkstra's SSSP algorithm\n",
    "- algorithm steps:\n",
    "    1. start with any vertex, $N$ in the graph, $MST$ is initially $N$\n",
    "    2. pick the least-cost edge connected to $N$ connecting to say $M$\n",
    "    3. $MST$ now has vertices $N$ and $M$ and edge $(N, M)$\n",
    "    4. pick the least-cost edge coming from current nodes in $MST$ to any other vertex\n",
    "    5. continue step 4 until all the nodes are in the $MST$\n",
    "\n",
    "- priority queue-based implementation is extremely similar to Dijkstra's algorithm except for updating the weight/distance of each vertex\n",
    "- the primary difference with Dijkstra's algorithm is that Prim's seeks not the next closest vertex to the start vertex, but rather the next closest vertex to any vertex currently in the $MST$\n",
    "- e.g. while exploring the unvisited neighbor node $v$ of $u$:\n",
    "    - **Dijkstra's**:\n",
    "    - minimimizes the tentative distance vector for each node from the source\n",
    "        ```\n",
    "        // update distance[v] if the distance[u] + weight of the edge between u->v is smaller than current distance[v]\n",
    "        if (distance[v] > distance[u] + weightBetween(u, v))\n",
    "            distance[v] = distance[u] + weightBetween(u, v)\n",
    "        ```\n",
    "    - **Prim's**:\n",
    "    - minimizes the tentative weight vector for each node from the parent node\n",
    "        ```\n",
    "        // update weight[v] if the weight of edge between u->v is smaller than current weight[v]\n",
    "        if (weight[v] > weightBetween(u, v))\n",
    "            weight[v] = weightBetween(u, v)\n",
    "        ```\n",
    "            \n",
    "### visualize Prim's algorithm: https://opendsa-server.cs.vt.edu/ODSA/Books/CS3/html/MCST.html"
   ]
  },
  {
   "cell_type": "markdown",
   "metadata": {},
   "source": [
    "### Implementation of Prim's algorithm using priority queue"
   ]
  },
  {
   "cell_type": "code",
   "execution_count": 1,
   "metadata": {},
   "outputs": [],
   "source": [
    "#include <iostream>\n",
    "#include <vector>\n",
    "#include <queue> // priority_queue\n",
    "#include <utility> // make_pair\n",
    "#include <list>\n",
    "#include <climits> // sizes of integral types\n",
    "#include <algorithm>\n",
    "\n",
    "using namespace std;\n",
    "using iPair = pair<int, int>;"
   ]
  },
  {
   "cell_type": "code",
   "execution_count": 2,
   "metadata": {},
   "outputs": [],
   "source": [
    "// Prim's algorithm using priority_queue\n",
    "// finds and updates the MST - vector of parent node indices\n",
    "template<class T>\n",
    "void PrimsMST(T & G, vector<int> & MST, int source) {\n",
    "    // min priority_queue of vertices that need to be processed\n",
    "    // stores pair of <weight, vertex>\n",
    "    priority_queue<iPair, vector<iPair>, greater<iPair> > pq;\n",
    "    vector<bool> visited(G.nodeCount(), false);\n",
    "    MST.resize(G.nodeCount());\n",
    "    fill(MST.begin(), MST.end(), -1); //remembers parent or where each node is visited from\n",
    "    vector<int> weight(G.nodeCount(), INT_MAX); //initialize weigth vectors with INT_MAX\n",
    "    weight[source] = 0; // weight of source\n",
    "    pq.push({0, source}); // {weight, vertex}\n",
    "    MST[source] = -1; // source node doesn't have a parent\n",
    "    while (! pq.empty()) {\n",
    "        int u = pq.top().second;\n",
    "        pq.pop();\n",
    "        visited[u] = true;\n",
    "        for(int v: G.neighbors(u)) {\n",
    "            if (visited[v]) continue;\n",
    "            int w = G.getWeight(u, v);\n",
    "            // if the weight from u to v is smaller than the previously known weight\n",
    "            // update the weight\n",
    "            if (w < weight[v]) {\n",
    "                weight[v] = w;\n",
    "                pq.push({w, v});\n",
    "                MST[v] = u;\n",
    "            }\n",
    "        }\n",
    "    }\n",
    "}"
   ]
  },
  {
   "cell_type": "markdown",
   "metadata": {},
   "source": [
    "## Test Prim's Algorithm\n",
    "- use adjacency matrix representation of graph\n",
    "- matrix representation is easier to quickly find the weight of the MST using indices"
   ]
  },
  {
   "cell_type": "code",
   "execution_count": 3,
   "metadata": {},
   "outputs": [],
   "source": [
    "class Graph {\n",
    "    private:\n",
    "        vector<vector<int> > graph;\n",
    "    \n",
    "    public:\n",
    "        Graph(size_t n) {\n",
    "            this->graph.assign(n, vector<int>(n, 0));\n",
    "            /*\n",
    "            for (int i=0; i<n; i++) {\n",
    "                vector<int> v(n, 0); \n",
    "                //initialize to 0; means not connected\n",
    "                graph.push_back(v);\n",
    "            }\n",
    "            */\n",
    "        }\n",
    "    \n",
    "        // return the number of vertices/nodes\n",
    "        size_t nodeCount() {\n",
    "            return graph.size();\n",
    "        }\n",
    "        \n",
    "        // add a new edge from node u to node v, with weight w\n",
    "        void addEdge(int u, int v, int w) {\n",
    "            graph[u][v] = w;\n",
    "        }\n",
    "\n",
    "        // returns vector of pairs containing neighbors weight\n",
    "        vector<int> neighbors(int u) {\n",
    "            vector<int> neighs;\n",
    "            for(int v = 0; v < graph[u].size(); v++)\n",
    "                if (graph[u][v] != 0) neighs.push_back(v);\n",
    "        \n",
    "            return neighs;\n",
    "        }\n",
    "        \n",
    "        int getWeight(int u, int v) {\n",
    "            return graph[u][v];\n",
    "        }\n",
    "};"
   ]
  },
  {
   "cell_type": "markdown",
   "metadata": {},
   "source": [
    "Let's work with the following graph:\n",
    "<img src=\"./resources/MCST.png\">"
   ]
  },
  {
   "cell_type": "code",
   "execution_count": 4,
   "metadata": {},
   "outputs": [],
   "source": [
    "// represent undirected graph shown in above diagram\n",
    "// A->0, B->1, C->2, D->3, E->4, F->5\n",
    "Graph graph(6); // graph with 6 nodes 6x6 matrix\n",
    "vector<int> MST; // store parent index"
   ]
  },
  {
   "cell_type": "code",
   "execution_count": 5,
   "metadata": {},
   "outputs": [],
   "source": [
    "// 16 bidirectional edges\n",
    "graph.addEdge(0, 2, 7);\n",
    "graph.addEdge(0, 4, 9);\n",
    "graph.addEdge(1, 2, 5);\n",
    "graph.addEdge(1, 5, 6);\n",
    "graph.addEdge(2, 0, 7);\n",
    "graph.addEdge(2, 3, 1);\n",
    "graph.addEdge(2, 5, 2);\n",
    "graph.addEdge(2, 1, 5);\n",
    "graph.addEdge(3, 2, 1);\n",
    "graph.addEdge(3, 5, 2);\n",
    "graph.addEdge(4, 0, 9);\n",
    "graph.addEdge(4, 6, 1);\n",
    "graph.addEdge(5, 1, 6);\n",
    "graph.addEdge(5, 2, 2);\n",
    "graph.addEdge(5, 3, 2);\n",
    "graph.addEdge(5, 4, 1);"
   ]
  },
  {
   "cell_type": "code",
   "execution_count": 6,
   "metadata": {},
   "outputs": [],
   "source": [
    "// function to print MST with corresponding weight\n",
    "void printMST(vector<int>& MST, Graph& G) {\n",
    "    int total = 0;\n",
    "    cout << \"Edge\\t Weight\\n\";\n",
    "    for (int i=0; i < G.nodeCount(); i++) {\n",
    "        if (MST[i] == -1) // source node\n",
    "            continue;\n",
    "        total += G.getWeight(MST[i], i);\n",
    "        cout << char(MST[i]+65) << \"->\" << char(i+65) << \"\\t = \" << G.getWeight(MST[i], i) << \"\\n\";\n",
    "    }\n",
    "    cout << \"Total Weight = \" << total << endl;\n",
    "}"
   ]
  },
  {
   "cell_type": "code",
   "execution_count": 7,
   "metadata": {},
   "outputs": [],
   "source": [
    "int source = 5;"
   ]
  },
  {
   "cell_type": "code",
   "execution_count": 8,
   "metadata": {},
   "outputs": [],
   "source": [
    " PrimsMST<Graph>(graph, MST, source);"
   ]
  },
  {
   "cell_type": "code",
   "execution_count": 9,
   "metadata": {},
   "outputs": [
    {
     "name": "stdout",
     "output_type": "stream",
     "text": [
      "Edge\t Weight\n",
      "C->A\t = 7\n",
      "C->B\t = 5\n",
      "F->C\t = 2\n",
      "C->D\t = 1\n",
      "F->E\t = 1\n",
      "Total Weight = 16\n"
     ]
    }
   ],
   "source": [
    "printMST(MST, graph);"
   ]
  },
  {
   "cell_type": "code",
   "execution_count": 10,
   "metadata": {},
   "outputs": [],
   "source": [
    "// start from different source vertex\n",
    "source = 2;\n",
    "PrimsMST<Graph>(graph, MST, source);"
   ]
  },
  {
   "cell_type": "code",
   "execution_count": 11,
   "metadata": {},
   "outputs": [
    {
     "name": "stdout",
     "output_type": "stream",
     "text": [
      "Edge\t Weight\n",
      "C->A\t = 7\n",
      "C->B\t = 5\n",
      "C->D\t = 1\n",
      "F->E\t = 1\n",
      "C->F\t = 2\n",
      "Total Weight = 16\n"
     ]
    }
   ],
   "source": [
    "printMST(MST, graph);"
   ]
  },
  {
   "cell_type": "markdown",
   "metadata": {},
   "source": [
    "## Time Complexity of Prim's Algorithm\n",
    "- priority queue-based implementation cost is exactly same as that of Dijkstra's\n",
    "- bulk of the cost comes from the loop which depends on the running time of priority queue\n",
    "- because nodes are repeatedly added into the priority queue with different weight while exploring |E| edges, it'll raise the number of elements in the heap from $O(|V|)$ to $O(|E|)$\n",
    "- when the graph is sparse, its cost is $O(|V|+|E|)log(|E|)$ in the worst case\n",
    "- when the graph is dense, $|E|$ approaces $|V|^2$, so the cost can be as much as $O(|V|^2log|E|)$ in the worst case"
   ]
  },
  {
   "cell_type": "markdown",
   "metadata": {},
   "source": [
    "## Exercises\n",
    "1. Jurassic Jigsaw - https://open.kattis.com/problems/jurassicjigsaw\n",
    "    - Hints: Complete Graph - use adjacency matrix where weight is # of DNA differences\n",
    "    - Print total weight of a MST and it's edges\n",
    "- Minimum Spanning Tree problem: https://open.kattis.com/problems/minspantree\n",
    "- Island Hopping - https://open.kattis.com/problems/islandhopping\n",
    "- A Feast For Cats - https://open.kattis.com/problems/cats\n",
    "- Lost Map - https://open.kattis.com/problems/lostmap\n",
    "    - Hints: complete graph; don't read redundant data; don't use ADT but directly use matrix\n",
    "- Nature Reserve - https://open.kattis.com/problems/naturereserve\n",
    "- Communication Satellite - https://open.kattis.com/problems/communicationssatellite\n",
    "    - Hints: complete graph where weight is the gap (dist - (r1+r2) between each pair of antennas"
   ]
  },
  {
   "cell_type": "code",
   "execution_count": null,
   "metadata": {},
   "outputs": [],
   "source": []
  }
 ],
 "metadata": {
  "kernelspec": {
   "display_name": "C++14",
   "language": "C++14",
   "name": "xcpp14"
  },
  "language_info": {
   "codemirror_mode": "text/x-c++src",
   "file_extension": ".cpp",
   "mimetype": "text/x-c++src",
   "name": "c++",
   "version": "14"
  }
 },
 "nbformat": 4,
 "nbformat_minor": 2
}
