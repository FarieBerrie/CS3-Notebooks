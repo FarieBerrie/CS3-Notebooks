{
 "cells": [
  {
   "cell_type": "markdown",
   "metadata": {},
   "source": [
    "# Hashing\n",
    "- https://opendsa-server.cs.vt.edu/ODSA/Books/CS3/html/HashIntro.html\n",
    "\n",
    "## Introduction\n",
    "- method for storing and retrieving records from a database\n",
    "- lets you search/insert/delete records based on key\n",
    "- when properly implemented, these operations can be done in $O(1)$\n",
    "    - as opposed to $O(log n)$ taken by binary search or BST\n",
    "- hashing principle is simple but proper implementation is difficult"
   ]
  },
  {
   "cell_type": "markdown",
   "metadata": {},
   "source": [
    "## Terminologies\n",
    "### Hash Table\n",
    "- records are stored in an array called **hash table**, let's say **HT**\n",
    "\n",
    "### Hash Function\n",
    "- finds the position of search key $K$ in $HT$ containting the record associated with $K$\n",
    "- the goal is to arrange things such that, for any $K$ and hash function $hash$, $i = hash(K)$\n",
    "- locations are usually numbered from $0$ to **N-1**\n",
    "- See: https://opendsa-server.cs.vt.edu/ODSA/Books/CS3/html/HashIntro.html for a simple demo"
   ]
  },
  {
   "cell_type": "markdown",
   "metadata": {},
   "source": [
    "## Pros and Cons of Hashing\n",
    "- not good for applications with duplicate keys or multiple records with same key\n",
    "- not good for answer range searches; e.g., retrieve all records where keys >= value or <= some value\n",
    "\n",
    "- great choice for exact key matching\n",
    "- suitable for both in-memory and disk-based searching (most databases use this technique besides B-tree)"
   ]
  },
  {
   "cell_type": "markdown",
   "metadata": {},
   "source": [
    "## Hash Function Principles\n",
    "- when large range of values are hashed and stored into small number of slots, collision will likely occur\n",
    "- collisions occurs when two records hash to the same slot/index in the table\n",
    "- E.g. Birthday Paradox: If there are 23 students in a class, there's 50% probability that two will share a birthday\n",
    "    - even though there are 365 days; 100% when there are 367\n",
    "- **HT** collusion depends on the distribution of the keys which we typically do not have control over\n",
    "- generally, pick a hash function that maps keys to slots in a way that makes each slot in the hash table have equal probability of being filled for the actual set keys being used"
   ]
  },
  {
   "cell_type": "markdown",
   "metadata": {},
   "source": [
    "## Sample Hash Functions\n",
    "\n",
    "### Simple Mod Function\n",
    "- hash function to store integers in a table with 10 slots"
   ]
  },
  {
   "cell_type": "code",
   "execution_count": 1,
   "metadata": {},
   "outputs": [],
   "source": [
    "#include <iostream>\n",
    "#include <cstdlib>\n",
    "#include <ctime>\n",
    "#include <chrono> //sleep thread\n",
    "#include <thread>\n",
    "#include <unistd.h>\n",
    "\n",
    "using namespace std;"
   ]
  },
  {
   "cell_type": "code",
   "execution_count": 2,
   "metadata": {},
   "outputs": [],
   "source": [
    "// 10 slots: 0-9\n",
    "int intHash(int num) {\n",
    "    return num%10;\n",
    "}"
   ]
  },
  {
   "cell_type": "code",
   "execution_count": 3,
   "metadata": {},
   "outputs": [],
   "source": [
    "int nums[10] = {};"
   ]
  },
  {
   "cell_type": "code",
   "execution_count": 4,
   "metadata": {},
   "outputs": [],
   "source": [
    "int getRandomNumber() {\n",
    "    srand(time(NULL)); // use current time to generate random number\n",
    "    return rand()%100;\n",
    "}"
   ]
  },
  {
   "cell_type": "code",
   "execution_count": 5,
   "metadata": {},
   "outputs": [],
   "source": [
    "// get 10 random numbers and insert into nums table\n",
    "for (int i=0; i<10; i++) {\n",
    "    int num = getRandomNumber();\n",
    "    // wait for a second so; we get new random number\n",
    "    //std::this_thread::sleep_for(std::chrono::milliseconds(1000));\n",
    "    usleep(1000000); // sleep for microseconds\n",
    "    int index = intHash(num);\n",
    "    nums[index] = num;\n",
    "}"
   ]
  },
  {
   "cell_type": "code",
   "execution_count": 6,
   "metadata": {},
   "outputs": [
    {
     "name": "stdout",
     "output_type": "stream",
     "text": [
      "60 11 32 53 74 25 46 67 18 39 "
     ]
    }
   ],
   "source": [
    "// see all the numbers stored\n",
    "for (int i=0; i<10; i++) {\n",
    "    cout << nums[i] << \" \";\n",
    "}"
   ]
  },
  {
   "cell_type": "markdown",
   "metadata": {},
   "source": [
    "## Binning\n",
    "- if keys are in the given range say 0 to 999, and we've a hash table of size 10\n",
    "- simply divide the key value by 100\n",
    "- so all keys in the range 0-99 -> 0, 100-199 -> 1, and so on\n",
    "    - record with $K$ is stored at index $K$/$X$ from some value $X$ (using integer division)\n",
    "- this technqiue is called binning"
   ]
  },
  {
   "cell_type": "markdown",
   "metadata": {},
   "source": [
    "## Mid-Square Method\n",
    "- good hash function for integer key values\n",
    "- method:\n",
    "    1. square the key value\n",
    "    - take out the middle $r$ bits of the result \n",
    "        - gives the value in the range 0 to $2^r - 1$\n",
    "- e.g.: say records are 4-digit numbers in base 10\n",
    "    - the goal is to hash these key values to a table of size 100 (range of 0-99)\n",
    "    - equivalent to 2 digits in base 10; so $r = 2$\n",
    "    - say $K$ = 4567\n",
    "    - $K^2$ = 208**57**489 - the highlighted middle two digits is the index\n",
    "    - middle digits are affected by everydigit of the original key value"
   ]
  },
  {
   "cell_type": "markdown",
   "metadata": {},
   "source": [
    "## Simple Hash Function for Strings\n",
    "- sum of ascii value of all the characters in the string"
   ]
  },
  {
   "cell_type": "code",
   "execution_count": 7,
   "metadata": {},
   "outputs": [],
   "source": [
    "#include <cstring>\n",
    "#include <string>\n",
    "#include <iostream>\n",
    "using namespace std;"
   ]
  },
  {
   "cell_type": "code",
   "execution_count": 8,
   "metadata": {},
   "outputs": [],
   "source": [
    "// hash str to table of size M\n",
    "int strHash(string str, int M) {\n",
    "    int sum = 0;\n",
    "    for (char c: str)\n",
    "        sum += int(c);\n",
    "    return sum%M;\n",
    "}"
   ]
  },
  {
   "cell_type": "code",
   "execution_count": 9,
   "metadata": {},
   "outputs": [
    {
     "name": "stdout",
     "output_type": "stream",
     "text": [
      "0"
     ]
    }
   ],
   "source": [
    "cout << strHash(\"Hello World!\", 5);"
   ]
  },
  {
   "cell_type": "code",
   "execution_count": 10,
   "metadata": {},
   "outputs": [
    {
     "name": "stdout",
     "output_type": "stream",
     "text": [
      "2"
     ]
    }
   ],
   "source": [
    "cout << strHash(\"John Legend\", 5);"
   ]
  },
  {
   "cell_type": "markdown",
   "metadata": {},
   "source": [
    "### String Folding\n",
    "- process string N bytes/chars at a time\n",
    "- integer values for the N-byte chunks are added together\n",
    "- convert the resulting sum to 0-M using modulus operator"
   ]
  },
  {
   "cell_type": "code",
   "execution_count": 12,
   "metadata": {},
   "outputs": [],
   "source": [
    "// use folding on a string, summed 4 bytes at a time\n",
    "int strHashFold(string str, int M) {\n",
    "    long long unsigned int sum = 0;\n",
    "    int mul = 1;\n",
    "    for (int i=0; i<str.size(); i++) {\n",
    "        mul = (i%4 == 0)? 1: mul*256;\n",
    "        sum += int(str[i]) * mul;\n",
    "    }\n",
    "    return sum%M;\n",
    "}"
   ]
  },
  {
   "cell_type": "code",
   "execution_count": 13,
   "metadata": {},
   "outputs": [
    {
     "name": "stdout",
     "output_type": "stream",
     "text": [
      "0"
     ]
    }
   ],
   "source": [
    "cout << strHashFold(\"Hello World!\", 5);"
   ]
  },
  {
   "cell_type": "code",
   "execution_count": 15,
   "metadata": {},
   "outputs": [
    {
     "name": "stdout",
     "output_type": "stream",
     "text": [
      "2"
     ]
    }
   ],
   "source": [
    "cout << strHashFold(\"John Legend\", 5);"
   ]
  },
  {
   "cell_type": "code",
   "execution_count": 17,
   "metadata": {},
   "outputs": [
    {
     "name": "stdout",
     "output_type": "stream",
     "text": [
      "3"
     ]
    }
   ],
   "source": [
    "cout << strHashFold(\"this is a long sentence!\", 5);"
   ]
  },
  {
   "cell_type": "markdown",
   "metadata": {},
   "source": [
    "## Collision Resolutions\n",
    "- two classes: Open Hashing and Closed Hashing\n",
    "- main difference is: \n",
    "    - open hashing: collisions are stored outside the table\n",
    "    - close hashing: collision are stored in the table in one of the available slots"
   ]
  },
  {
   "cell_type": "markdown",
   "metadata": {},
   "source": [
    "## Open Hashing\n",
    "- technique that tries to minimize collisions\n",
    "- also called separate chaining\n",
    "- e.g., vector of linked list where each records with duplicate keys are pushed backed into the linked list the key is hashed into\n",
    "<img src=\"./resources/OpenHashing.png\" width=\"25%\">\n",
    "- records within the slot's list can be ordered in several ways:\n",
    "    - insertion order; key value order; frequency of access, etc.\n",
    "    - ordering provides an advantage in the case of an unsuccessful search (stop early)\n",
    "- open hashing is most appropriate when the hash table is kept in main memory"
   ]
  },
  {
   "cell_type": "markdown",
   "metadata": {},
   "source": [
    "## Closed Hashing\n",
    "- bucket hashing is used to store all records directly in the hash table\n",
    "- each record, $R$ has a **home position**; i.e., **h($K$)**\n",
    "- if another record alread occupies where $R$ needs to be inserted, use collision resolution policy to determine another available slot in the table\n",
    "\n",
    "### Bucket Hashing\n",
    "- group hash table into **buckets**\n",
    "- $M$ slots of hash table are divided into $B$ buckets; each bucket with $M/B$ slots\n",
    "- hash function assigns each record to the first slot within the one of the buckets\n",
    "    - if this slot is already occupied, bucket slots are searched sequentially until an open slot is found\n",
    "    - if a bucket is entirely full, the record is stored in **overflow bucket** of infinite capacity at the end of the table\n",
    "    - all buckts share the same overflow bucket\n",
    "    - a good implementation will use a hash function that distributes the records evenly among the buckets so that as few records as possible go into the overflow bucket\n",
    "- Visualize bucket hashing demo here: https://opendsa-server.cs.vt.edu/ODSA/Books/CS3/html/BucketHash.html#id1\n",
    "\n",
    "### Alternate Approach\n",
    "- pretend there are no buckets; so use $N$ whole slots as home position\n",
    "- if the home position is full, then search through the rest of the bucket to find an empty slot\n",
    "- his reduces initial collisions as each slot can be a home position rather than just the first slot in the bucket\n",
    "- visualize alternate closed hashing technique here: https://opendsa-server.cs.vt.edu/ODSA/Books/CS3/html/BucketHash.html#an-alternate-approach"
   ]
  },
  {
   "cell_type": "code",
   "execution_count": null,
   "metadata": {},
   "outputs": [],
   "source": []
  }
 ],
 "metadata": {
  "kernelspec": {
   "display_name": "C++14",
   "language": "C++14",
   "name": "xcpp14"
  },
  "language_info": {
   "codemirror_mode": "text/x-c++src",
   "file_extension": ".cpp",
   "mimetype": "text/x-c++src",
   "name": "c++",
   "version": "-std=c++14"
  }
 },
 "nbformat": 4,
 "nbformat_minor": 2
}
