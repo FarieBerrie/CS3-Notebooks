{
 "cells": [
  {
   "cell_type": "markdown",
   "metadata": {},
   "source": [
    "# Tree Data Structures  & Binary Trees\n",
    "https://opendsa-server.cs.vt.edu/ODSA/Books/CS3/html/BinaryTreeIntro.html\n",
    "http://cslibrary.stanford.edu/110/BinaryTrees.pdf\n",
    "\n",
    "## Table of Contents\n",
    "- **[Tree Data Structure](#tree)**<br>\n",
    "- **[Binary Trees](#tree\")**<br>\n",
    "- **[Special Binary Trees](#special)**<br>\n",
    "- **[Binary Tree Theorems](#theorems)**<br>\n",
    "- **[Binary Tree Traversals](#traversal)**<br>\n",
    "- **[Binary Tree Implementation](#btimp)**<br>\n",
    "- **[Binary Search Tree (BST)](#bst)**<br>\n",
    "- **[BST Implementation](#bstimp)**<br>\n"
   ]
  },
  {
   "cell_type": "markdown",
   "metadata": {},
   "source": [
    "<a id=\"tree\"></a>"
   ]
  },
  {
   "cell_type": "markdown",
   "metadata": {},
   "source": [
    "## Tree Data Structure (DS)\n",
    "- **Tree DS** structures in general enable efficient access and efficient update to large collections of data\n",
    "- look like upside-down real-world trees\n",
    "\n",
    "### Some serious advantages of Tree DS\n",
    "- reflect structural relationship in the data\n",
    "- represent hierarchies\n",
    "- provide an efficient insertion and searching\n",
    "- very flexible data, allowing to move subtrees around with minimum effort (cost)\n",
    "\n",
    "<img width=\"400px\" src=\"./resources/binary-tree-cartoon.png\">\n",
    "\n",
    "## Binary Trees\n",
    "- **Binary Trees** in particular are widely used for many things besides searching\n",
    "    - prioritizing jobs, describing mathematical expressions, examining syntactic elements of computer programs, organizing information needed to drive data compression algorithms \n",
    "- Binary Trees are made of a finite set of elements called **nodes**\n",
    "    - nodes are represented as a box or a circle as shown in the following figures\n",
    "    - each node typically contains data and two pointers pointing to left and right children\n",
    "    - Binary Tree can be either empty or consists of a special node called the **root** node with at most two binary subtrees, called the **left subtree** and **right subtree**\n",
    "    - subtrees are disjoint (no nodes in common)\n",
    "    - there's an edge (path) from a node (**parent**) to each of its **children**\n",
    "    - **Path**: the sequence of nodes from a node to the destination node, e.g., $5->3->1$ is the path from node $5$ to node $1$ in the following figure 2.\n",
    "    - **length of the path** is the no. of edges in the path; if there are $n$ nodes in the path, length is $n - 1$\n",
    "        - e.g., length of path in $5 ->3 ->1$ is $2$\n",
    "    - if there's a path from $A$ to $B$, $A$ is the **ancestor** of $B$ and $B$ is a **descendant** of $A$\n",
    "        - all nodes in the tree are descendants of the root of the tree\n",
    "        - root is the ancestor of the nodes\n",
    "    - **depth** of a node $M$ in the tree is the length of the path (# of edges) from the root of the tree to $M$\n",
    "    - **leaf node** is the node that doesn't have any children \n",
    "    - **height** of a tree is the depth of the deepest node in the tree\n",
    "        - longest path from root to one of the **leaf nodes**\n",
    "    - the root is at **level** $0$\n",
    "        - all nodes of depth $d$ are at **level** $d$ in the tree\n",
    "    - **internal node** is any node that has at least one child\n",
    "        \n",
    "    \n",
    "<img src=\"./resources/full-binary-tree.png\">\n",
    "<img src=\"./resources/binarytree.gif\">\n",
    "\n",
    "\n",
    "\n",
    "### Exercise\n",
    "Describe the properties of the following following binary tree:\n",
    "<img src=\"./resources/binaryTree1.png\">\n",
    "- root node?\n",
    "- internal nodes?\n",
    "- leaf nodes?\n",
    "- ancestors of G?\n",
    "- level 2 nodes?\n",
    "- what is the level of node I?\n",
    "- height of the tree?\n",
    "- path from A to H?\n",
    "- length of the path from A to H?"
   ]
  },
  {
   "cell_type": "markdown",
   "metadata": {},
   "source": [
    "<a id=\"special\"></a>"
   ]
  },
  {
   "cell_type": "markdown",
   "metadata": {},
   "source": [
    "## Special Binary Trees\n",
    "### Full binary tree\n",
    "- each node is either:\n",
    "    1. an internal node with exactly two children or\n",
    "    2. a leaf\n",
    "- Huffman coding tree is a full binary tree\n",
    "- Figure (a) is full binary tree\n",
    "\n",
    "\n",
    "### Complete binary tree\n",
    "- has a restricted shape obtained by starting at the root and filling the tree by levels from left to right\n",
    "- in a complete binary tree of height $d$, all levels except possibly level $d$ are completely full\n",
    "- heap data structure is an example\n",
    "- Figure (b) is complete binary tree\n",
    "\n",
    "<img src=\"./resources/fullAndCompleteBT.png\">\n",
    "\n",
    "### Remember the difference:\n",
    "- \"Complete\" is a wider word than \"full\", and complete binary trees tend to be wider than full binary trees because each level of a complete binary tree is as wide as possible"
   ]
  },
  {
   "cell_type": "markdown",
   "metadata": {},
   "source": [
    "### Exercise\n",
    "Which statement is correct?\n",
    "<img src=\"./resources/completeOrFull.png\">\n",
    "1. The tree is complete but not full\n",
    "- The tree is full but not complete\n",
    "- The tree is neither full nor complete\n",
    "- The tree is full and complete"
   ]
  },
  {
   "cell_type": "markdown",
   "metadata": {},
   "source": [
    "## Binary Tree as a Recursive Data Structure\n",
    "- recursive data structure is a data structure that is partially composed of smaller or simpler instances of the same data structure\n",
    "- e.g., **linked lists** and **binary trees**\n",
    "    - a linked list is a recursive data structure because a list can be defined as either (1) an empty list or (2) a node followed by a list\n",
    "    - a binary tree is typically defined as (1) an empty tree or (2) a node pointing to at most two binary trees\n",
    "- nice visualization and animation of recursive DS: https://opendsa-server.cs.vt.edu/ODSA/Books/CS3/html/RecursiveDS.html"
   ]
  },
  {
   "cell_type": "markdown",
   "metadata": {},
   "source": [
    "<a id=\"theorems\"></a>"
   ]
  },
  {
   "cell_type": "markdown",
   "metadata": {},
   "source": [
    "## Binary Tree Theorem\n",
    "- the number of empty subtrees in a non-empty binary tree is more than the number of nodes in the tree\n",
    "    - empty subtrees are non-existing left/right subtree of a node\n",
    "\n",
    "## Full Binary Tree Theorem\n",
    "- the number of leaves in a non-empty full binary tree is one more than the number of internal nodes with two children\n",
    "- proof by mathematical induction: https://opendsa-server.cs.vt.edu/ODSA/Books/CS3/html/BinaryTreeFullThm.html\n",
    "- see full binary tree figure above!"
   ]
  },
  {
   "cell_type": "markdown",
   "metadata": {},
   "source": [
    "<a id=\"traversals\"></a>"
   ]
  },
  {
   "cell_type": "markdown",
   "metadata": {},
   "source": [
    "## Binary Tree Traversals\n",
    "- process of \"visiting\" all the nodes in some order\n",
    "    - each time performing a specific action such as printing (enumerating) the contents of the node\n",
    "- three types of traversals\n",
    "    \n",
    "### Preorder Traversal\n",
    "- recursive algorithm:\n",
    "    1. visit the node\n",
    "    - preorder traverse left subtree\n",
    "    - preorder traverse right subtree\n",
    "    \n",
    "### Inorder Traversal\n",
    "- recursive algorithm:\n",
    "    1. inorder traverse left subtree\n",
    "    - visit the node\n",
    "    - inorder traverse right subtree\n",
    "    \n",
    "### Postorder Traversal\n",
    "- recursive algorithm:\n",
    "    1. postorder traverse left subtree\n",
    "    2. postorder traverse right subtree\n",
    "    - visit the node\n",
    "    \n",
    " <img src=\"./resources/binaryTree1.png\">\n",
    " \n",
    " ### Preorder enumeration of the above tree: A B D C E G F H I\n",
    " ### Inorder enumeration of the above tree: B D A G E C H F I\n",
    " ### Postorder enumeration of the above tree: D B G E H I F C A"
   ]
  },
  {
   "cell_type": "markdown",
   "metadata": {},
   "source": [
    "## Searching a Binary Tree\n",
    "<img src=\"./resources/binaryTree1.png\">\n",
    "How many comparisons will it need to search for some value in a Binary tree?\n",
    "    - e.g., A, E, I?"
   ]
  },
  {
   "cell_type": "markdown",
   "metadata": {},
   "source": [
    "<a id=\"btimp\"></a>"
   ]
  },
  {
   "cell_type": "markdown",
   "metadata": {},
   "source": [
    "## Implementing (Complete) Binary Tree\n",
    "- note that complete binary tree is a BT where each level $L$ except the last has $2^L$ nodes\n",
    "    - the last level are all left aligned\n",
    "- the nodes in the complete binary tree are inserted from left to right in one level\n",
    "- usually represented using arrays (vectors)\n",
    "    - given parent index $i$, its left child is given by $2.i+1$ and the right child by $2.i+2$\n",
    "    - indexing of nodes can start either from $0-(n-1)$ or $1-n$; prefer first\n"
   ]
  },
  {
   "cell_type": "code",
   "execution_count": 1,
   "metadata": {},
   "outputs": [],
   "source": [
    "#include <iostream>\n",
    "#include <string>\n",
    "#include <vector>\n",
    "#include <algorithm>\n",
    "\n",
    "using namespace std;"
   ]
  },
  {
   "cell_type": "code",
   "execution_count": 2,
   "metadata": {
    "code_folding": []
   },
   "outputs": [],
   "source": [
    "// Binary Tree - ADT\n",
    "class BinaryTree {\n",
    "    private: vector<char> bt;\n",
    "    private: int root, size, max_size;\n",
    "    private: void inorder(int root) {\n",
    "            if (root >= this->bt.size() || this->bt[root] == '\\0') // base case\n",
    "                return;\n",
    "            cout << this->bt[root] << \" \";\n",
    "            // inorder left-subtree\n",
    "            inorder(2*root+1);\n",
    "            // inorder right-subtree\n",
    "            inorder(2*root+2);\n",
    "    }\n",
    "    \n",
    "    private: void mirror(int node) {\n",
    "        if (this->bt[node] != '\\0') {\n",
    "            int left = 2*node+ 1;\n",
    "            int right = 2*node+ 2;\n",
    "            mirror(left); // left substree\n",
    "            mirror(right); // right subtree\n",
    "            // swap the left/right nodes\n",
    "            swap(this->bt[left], this->bt[right]);\n",
    "        }\n",
    "    }\n",
    "    \n",
    "    public: BinaryTree(int max_size) {\n",
    "            this->root = 0;\n",
    "            this->bt.resize(max_size);\n",
    "            this->max_size = max_size;\n",
    "            // initialize bt with \\0 null character\n",
    "            fill(this->bt.begin(), this->bt.end(), '\\0');\n",
    "        }\n",
    "    \n",
    "    public: \n",
    "        void updateRoot(char data) {\n",
    "            bt[0] = data;\n",
    "        }\n",
    "    \n",
    "        void insertNode(char data) { // left to right level by level\n",
    "            bt[size++] = data;\n",
    "        }\n",
    "    \n",
    "        void updateLeftNode(int parent, char data) {\n",
    "            int leftChild = 2*parent +1;\n",
    "            if (leftChild >= this->max_size || this->bt[parent] == '\\0')\n",
    "                cout << \"parent index \" << parent << \" does NOT exist!\";\n",
    "            else\n",
    "                bt[leftChild] = data;\n",
    "        }\n",
    "    \n",
    "        void updateRightNode(int parent, char data) {\n",
    "            int rightChild = 2*parent +2;\n",
    "            if (rightChild >= this->max_size || this->bt[parent] == '\\0')\n",
    "                cout << \"parent index \" << parent << \" does NOT exist!\";\n",
    "            else\n",
    "                bt[rightChild] = data;\n",
    "        }\n",
    "        // print all nodes level by level\n",
    "        void print() const {\n",
    "            for(auto ch: this->bt)\n",
    "                if (ch == '\\0') cout << \"- \";\n",
    "                else cout << ch << \" \";\n",
    "            cout << endl;\n",
    "        }\n",
    "    \n",
    "        // printInorder traversal\n",
    "        void printInorder() {\n",
    "            inorder(0);\n",
    "        }\n",
    "       // FIXME: Write printPreorder traversal function\n",
    "       // FIXME: Write printPostorder traversal function\n",
    "       /*\n",
    "         Changes the tree into its mirror image.\n",
    "         So the tree...\n",
    "             4\n",
    "            / \\\n",
    "           2   5\n",
    "          / \\\n",
    "         1   3\n",
    "         is changed to...\n",
    "             4\n",
    "            / \\\n",
    "           5   2\n",
    "          / \\\n",
    "         3   1\n",
    "         Uses a recursive helper that recurs over the tree,\n",
    "         swapping the left/right pointers.\n",
    "        */\n",
    "        void mirror() {\n",
    "             mirror(0); // call private mirror\n",
    "        }\n",
    "};"
   ]
  },
  {
   "cell_type": "markdown",
   "metadata": {},
   "source": [
    "### build this binary tree\n",
    "<img src=\"./resources/binaryTree1.png\">"
   ]
  },
  {
   "cell_type": "code",
   "execution_count": 3,
   "metadata": {},
   "outputs": [],
   "source": [
    "BinaryTree cbt(20);"
   ]
  },
  {
   "cell_type": "code",
   "execution_count": 4,
   "metadata": {},
   "outputs": [
    {
     "name": "stdout",
     "output_type": "stream",
     "text": [
      "A - - - - - - - - - - - - - - - - - - - \n"
     ]
    }
   ],
   "source": [
    "cbt.updateRoot('A');\n",
    "cbt.print();"
   ]
  },
  {
   "cell_type": "code",
   "execution_count": 5,
   "metadata": {},
   "outputs": [
    {
     "name": "stdout",
     "output_type": "stream",
     "text": [
      "A B C - D E F - - - - G - H I - - - - - \n"
     ]
    }
   ],
   "source": [
    "cbt.updateLeftNode(0, 'B'); // level 1\n",
    "cbt.updateRightNode(0, 'C');\n",
    "cbt.updateRightNode(1, 'D'); // level 2\n",
    "cbt.updateLeftNode(2, 'E');\n",
    "cbt.updateRightNode(2, 'F');\n",
    "cbt.updateLeftNode(5, 'G'); // level 3\n",
    "cbt.updateLeftNode(6, 'H');\n",
    "cbt.updateRightNode(6, 'I');\n",
    "cbt.print();"
   ]
  },
  {
   "cell_type": "code",
   "execution_count": 6,
   "metadata": {},
   "outputs": [
    {
     "name": "stdout",
     "output_type": "stream",
     "text": [
      "A B D C E G F H I "
     ]
    }
   ],
   "source": [
    "cbt.printInorder();"
   ]
  },
  {
   "cell_type": "code",
   "execution_count": 7,
   "metadata": {},
   "outputs": [
    {
     "name": "stdout",
     "output_type": "stream",
     "text": [
      "A C B D - F E - - - - - G I H - - - - - \n"
     ]
    }
   ],
   "source": [
    "cbt.mirror();\n",
    "cbt.print();"
   ]
  },
  {
   "cell_type": "markdown",
   "metadata": {},
   "source": [
    "<a id=\"bst\"></a>"
   ]
  },
  {
   "cell_type": "markdown",
   "metadata": {},
   "source": [
    "## Binary Search Tree (BST)\n",
    "- a binary tree with the following properties:\n",
    "    1. each node in the left subtree of a node have key values less than or equal to key value of the node\n",
    "    2. each nodes in the right subtree of a node have key values greater than the key value of the node\n",
    "- **inorder traversal** will enumerate the sorted order from lowest to highest\n",
    "<img src=\"./resources/BSTShape2.png\">\n",
    "- two BSTs for a collection of same values inserted in two different order\n",
    "    - Figure (a) will be produced if values are inserted in the order $37, 24, 42, 7, 2, 40, 42, 32, 120$\n",
    "    - Figure (b) will be produced if the values are inserted in the order $120, 42, 7, 2, 32, 37, 24, 40$"
   ]
  },
  {
   "cell_type": "markdown",
   "metadata": {},
   "source": [
    "### BST Search\n",
    "- if the key, $K$ is found at the current node, return the node\n",
    "- if the key $K$ is less than the key stored in the node, recursively search in the left subtree\n",
    "- if the key $K$ is greater than the key stored in the node, recursively search in the right subtree\n",
    "- if key is not found, return NULL\n",
    "- see visualization of BST search here: https://opendsa-server.cs.vt.edu/ODSA/Books/CS3/html/BST.html"
   ]
  },
  {
   "cell_type": "markdown",
   "metadata": {},
   "source": [
    "### BST Insert\n",
    "- handle duplicate: depending on application, either ignore or insert to the left substree\n",
    "- find where the new node with given $K$ will go\n",
    "    - insert at the location maintaining BST\n",
    "- see visualization of BST insert here: https://opendsa-server.cs.vt.edu/ODSA/Books/CS3/html/BST.html"
   ]
  },
  {
   "cell_type": "markdown",
   "metadata": {},
   "source": [
    "### BST Remove\n",
    "- remove a node with given key $K$\n",
    "- a bit tricky!\n",
    "- Four cases:\n",
    "    1. if the node is a leaf node, simply delete it\n",
    "    - if the node has one child (right child), make the child new child of its parent node and delete the node\n",
    "    - if the node has one child (left child), make the child new child of its parent node and delete the node\n",
    "    - if the node has two children:\n",
    "        1. copy the data of the min node on its right subtree to the node you're deleting\n",
    "        - remove the node with the duplicate value in the right subtree"
   ]
  },
  {
   "cell_type": "markdown",
   "metadata": {},
   "source": [
    "<a id=\"bstimp\"></a>"
   ]
  },
  {
   "cell_type": "markdown",
   "metadata": {},
   "source": [
    "## BST Implementation as ADT\n",
    "- implemented as container ADT using linked list"
   ]
  },
  {
   "cell_type": "code",
   "execution_count": 8,
   "metadata": {},
   "outputs": [],
   "source": [
    "#include <iostream>\n",
    "#include <string>\n",
    "#include <vector>\n",
    "#include <algorithm>\n",
    "\n",
    "using namespace std;"
   ]
  },
  {
   "cell_type": "code",
   "execution_count": 9,
   "metadata": {},
   "outputs": [],
   "source": [
    "// Binary Tree Node\n",
    "template<class T>\n",
    "struct Node {\n",
    "    T data; //store data as key\n",
    "    Node<T>* lTree;\n",
    "    Node<T>* rTree;\n",
    "};"
   ]
  },
  {
   "cell_type": "code",
   "execution_count": 10,
   "metadata": {
    "code_folding": [
     159,
     164,
     169,
     174,
     179,
     184,
     189,
     194,
     208
    ]
   },
   "outputs": [],
   "source": [
    "//  BinarySearchTree - Abstract Data Type (ADT)\n",
    "template <class T>\n",
    "class BST\n",
    "{\n",
    "private:\n",
    "    Node<T> *root;\n",
    "    int nodeCount;\n",
    "    \n",
    "    //inorder traversal\n",
    "    void inorder(Node<T> *p) const {\n",
    "        if (p != nullptr) // General case\n",
    "        {\n",
    "            // 1. Recursively call inorder on p's left subtree; traverse left tree\n",
    "            // 2. Print the data of root/current node; visit node\n",
    "            // 3. Recursively call inorder on p's right subtree; traverse right tree\n",
    "            inorder(p->lTree);\n",
    "            cout << p->data << \" \";\n",
    "            inorder(p->rTree);\n",
    "        }\n",
    "        // base case, do nothing\n",
    "    }\n",
    "    \n",
    "    //preorder traversal\n",
    "    void preorder(Node<T> *p) const {\n",
    "        // Base case: if p equals nullptr, do nothing\n",
    "        // General case: otherwise do the following:\n",
    "        //      1. Visit node\n",
    "        //      2. traverse left tree\n",
    "        //      3. traverse right tree\n",
    "        cout << \"FIXME: Implement preorder method..\" << endl;\n",
    "    }\n",
    "    \n",
    "    // postorder traversal\n",
    "    void postorder(Node<T> *p) const {\n",
    "        // FIXME\n",
    "        cout << \"FIXME: Implement postorder method..\" << endl;\n",
    "    }\n",
    "    \n",
    "    int height(Node<T> *p) const {\n",
    "        if (p == nullptr)\n",
    "            return 0;\n",
    "        else\n",
    "            return 1 + max(height(p->lTree), height(p->rTree));\n",
    "    }\n",
    "    \n",
    "    int max(T x, T y) const {\n",
    "        return (x >= y) ? x : y;\n",
    "    }\n",
    "    \n",
    "    int leavesCount(Node<T> *p) const {\n",
    "        // FIXME\n",
    "        cout << \"FIXME: implement leavesCount function.\" << endl;\n",
    "        // 1. Base case: if the tree is empty, return 0\n",
    "        // 2. Base case: else if the left and right subtree are empty, return 1\n",
    "        // 3. Otherwise, general case: return sum of leavesCount of left subtree and leavesCount of right subtree\n",
    "        return 0;\n",
    "    }\n",
    "    \n",
    "    // find and return the node with key value K, nullptr otherwise\n",
    "    Node<T>* find(Node<T> *p, const T& K) const {\n",
    "        if (p == nullptr) return nullptr;\n",
    "        if (K == p->data)\n",
    "            return p;\n",
    "        else if (K < p->data)\n",
    "            return find(p->lTree, K);\n",
    "        else \n",
    "            return find(p->rTree, K);\n",
    "    }\n",
    "    \n",
    "    // insert a given node into the tree\n",
    "    void insert(Node<T>* &p, Node<T> *newNode) {\n",
    "        /*\n",
    "         Given a binary search tree pointed to by p and a newNode,\n",
    "         the function inserts the newNode in the correct place in the tree.\n",
    "         Since the tree could be changed, it is passed by reference.\n",
    "         */\n",
    "        // 1. If the tree is empty, insert at that location\n",
    "        if (p == nullptr) {\n",
    "            p = newNode;\n",
    "            this->nodeCount++;\n",
    "        }\n",
    "        else\n",
    "        {\n",
    "            // 2. Otherwise, recurse down the tree and insert at the correct branch\n",
    "            // can handle the duplicates differently depending on the application\n",
    "            if (newNode->data <= p->data)\n",
    "                insert(p->lTree, newNode);\n",
    "            // 2.c. Otherwise, recursively insert newNode into the right subtree\n",
    "            else\n",
    "                insert(p->rTree, newNode);\n",
    "        }\n",
    "    }\n",
    "    \n",
    "    Node<T>* findMin(Node<T>* p) {\n",
    "        if (p->lTree == nullptr) return p;\n",
    "        return findMin(p->lTree);\n",
    "    }\n",
    "    \n",
    "    // remove a node from the tree\n",
    "    // key: the key value of the record\n",
    "    void remove(Node<T>* &p, const T& key) {\n",
    "        if (p != nullptr) // general case\n",
    "        {\n",
    "            if (p->data == key) {//found node\n",
    "                if (p->lTree == nullptr && p->rTree == nullptr){//case one: no children\n",
    "                    cout << \"Deleting leaf node...\" << endl;\n",
    "                    delete p;\n",
    "                    p = nullptr;\n",
    "                }\n",
    "                else if (p->lTree == nullptr){//case two: has no left subtree\n",
    "                    cout << \"Deleting node with no left subtree...\" << endl;\n",
    "                    Node<T>* temp = p;\n",
    "                    p = p->rTree;\n",
    "                    delete temp;\n",
    "                }\n",
    "                else if (p->rTree == nullptr){//case three: has no right subtree\n",
    "                    cout << \"Deleting node with no right subtree...\" << endl;\n",
    "                    Node<T>* temp = p;\n",
    "                    p = p->lTree;\n",
    "                    delete temp;\n",
    "                }\n",
    "                else{//case four: it has both left and right subtree\n",
    "                    cout << \"Deleting node with non empty left and right subtrees...\" << endl;\n",
    "                    Node<T>* temp = findMin(p->rTree);\n",
    "                    p->data = temp->data;\n",
    "                    remove(p->rTree, temp->data);\n",
    "                }\n",
    "            }\n",
    "            else if (p->data > key) {//search into left subtree\n",
    "                //cout << \"Searching in left subtree...\" << endl;\n",
    "                remove(p->lTree, key);\n",
    "            }\n",
    "            else {//search into right subtree\n",
    "                //cout << \"Searching in right subtree...\" << endl;\n",
    "                remove(p->rTree, key);\n",
    "            }\n",
    "        }\n",
    "    }\n",
    "    \n",
    "    // Reinitialize tree\n",
    "    void clear(Node<T>* &p) {\n",
    "        if (p != nullptr)\n",
    "        {\n",
    "            clear(p->lTree);\n",
    "            clear(p->rTree);\n",
    "            delete p;\n",
    "            p = nullptr;\n",
    "        }\n",
    "    }\n",
    "    \n",
    "    \n",
    "public:\n",
    "    //Default constructor\n",
    "    BST() {\n",
    "        root = nullptr;\n",
    "        nodeCount = 0;\n",
    "    }\n",
    "    \n",
    "    // check if the bst is empty\n",
    "    bool isEmpty() const {\n",
    "        return root == nullptr;\n",
    "    }\n",
    "    \n",
    "    //enumerate BST using inorder traversal\n",
    "    void inorder() const {\n",
    "        inorder(this->root);\n",
    "    }\n",
    "    \n",
    "    // enumerate BST using preorder traversal\n",
    "    void preorder() const {\n",
    "        preorder(this->root);\n",
    "    }\n",
    "    \n",
    "    // enumerate BST using postorder traversal\n",
    "    void postorder() const {\n",
    "        postorder(this->root);\n",
    "    }\n",
    "    \n",
    "    //find a node with the given key and return the node if found\n",
    "    Node<T>* find(const T& key) {\n",
    "        return find(this->root, key);\n",
    "    }\n",
    "    \n",
    "    // find an return height of BST\n",
    "    int height() const {\n",
    "        return height(this->root);\n",
    "    }\n",
    "    \n",
    "    // find and return number of leaves in BST\n",
    "    int leavesCount() const {\n",
    "        return leavesCount(this->root);\n",
    "    }\n",
    "    \n",
    "    // reset tree\n",
    "    void clear() {\n",
    "        clear(this->root);\n",
    "    }\n",
    "    \n",
    "    // insert given item with key into the tree\n",
    "    void insert(const T& key) {\n",
    "        Node<T> *node = new Node<T>;\n",
    "        node->data = key;\n",
    "        node->lTree = nullptr;\n",
    "        node->rTree = nullptr;\n",
    "        insert(this->root, node);\n",
    "    }\n",
    "    \n",
    "    // remove the node with the given key\n",
    "    void remove(const T& key) {\n",
    "        remove(this->root, key);\n",
    "    }\n",
    "\n",
    "    //Destructor\n",
    "    ~BST() {\n",
    "        clear(this->root);\n",
    "    }\n",
    "};"
   ]
  },
  {
   "cell_type": "code",
   "execution_count": 11,
   "metadata": {},
   "outputs": [],
   "source": [
    "// Test BST\n",
    "BST<int> bst;"
   ]
  },
  {
   "cell_type": "code",
   "execution_count": 12,
   "metadata": {},
   "outputs": [],
   "source": [
    "int nums[] = {37, 24, 42, 7, 2, 40, 42, 32, 120};"
   ]
  },
  {
   "cell_type": "code",
   "execution_count": 13,
   "metadata": {},
   "outputs": [],
   "source": [
    "for (int i=0; i<sizeof(nums)/sizeof(int); i++)\n",
    "    bst.insert(nums[i]);"
   ]
  },
  {
   "cell_type": "code",
   "execution_count": 14,
   "metadata": {},
   "outputs": [
    {
     "name": "stdout",
     "output_type": "stream",
     "text": [
      "2 7 24 32 37 40 42 42 120 "
     ]
    }
   ],
   "source": [
    "bst.inorder();"
   ]
  },
  {
   "cell_type": "code",
   "execution_count": 15,
   "metadata": {},
   "outputs": [
    {
     "name": "stdout",
     "output_type": "stream",
     "text": [
      "height = 4\n",
      "# of leaves = Write the definition of the function leavesCount.\n",
      "0\n"
     ]
    }
   ],
   "source": [
    "cout << \"height = \" << bst.height() << endl;\n",
    "cout << \"# of leaves = \" << bst.leavesCount() << endl;"
   ]
  },
  {
   "cell_type": "code",
   "execution_count": 16,
   "metadata": {},
   "outputs": [],
   "source": [
    "Node<int> *n;"
   ]
  },
  {
   "cell_type": "code",
   "execution_count": 17,
   "metadata": {},
   "outputs": [],
   "source": [
    "n = bst.find(120);"
   ]
  },
  {
   "cell_type": "code",
   "execution_count": 18,
   "metadata": {},
   "outputs": [
    {
     "name": "stdout",
     "output_type": "stream",
     "text": [
      "found node with data = 120\n"
     ]
    }
   ],
   "source": [
    "if (n != nullptr) {\n",
    "    cout << \"found node with data = \" << n->data << endl;\n",
    "}\n",
    "else\n",
    "    cout << \"not found!\" << endl;"
   ]
  },
  {
   "cell_type": "code",
   "execution_count": 19,
   "metadata": {},
   "outputs": [
    {
     "name": "stdout",
     "output_type": "stream",
     "text": [
      "Deleting leaf node...\n",
      "7 24 32 37 40 42 42 120 "
     ]
    }
   ],
   "source": [
    "bst.remove(2);\n",
    "bst.inorder();"
   ]
  },
  {
   "cell_type": "code",
   "execution_count": 20,
   "metadata": {},
   "outputs": [
    {
     "name": "stdout",
     "output_type": "stream",
     "text": [
      "Deleting node with non empty left and right subtrees...\n",
      "Deleting node with no left subtree...\n",
      "7 24 32 40 42 42 120 "
     ]
    }
   ],
   "source": [
    "bst.remove(37);\n",
    "bst.inorder();"
   ]
  },
  {
   "cell_type": "code",
   "execution_count": 21,
   "metadata": {},
   "outputs": [
    {
     "name": "stdout",
     "output_type": "stream",
     "text": [
      "Deleting node with non empty left and right subtrees...\n",
      "Deleting leaf node...\n",
      "7 24 32 40 42 120 "
     ]
    }
   ],
   "source": [
    "bst.remove(42);\n",
    "bst.inorder();"
   ]
  },
  {
   "cell_type": "code",
   "execution_count": 22,
   "metadata": {},
   "outputs": [],
   "source": [
    "bst.clear();"
   ]
  },
  {
   "cell_type": "markdown",
   "metadata": {},
   "source": [
    "## Exercise\n",
    "- Binary search tree - https://open.kattis.com/problems/bst "
   ]
  },
  {
   "cell_type": "code",
   "execution_count": null,
   "metadata": {},
   "outputs": [],
   "source": []
  }
 ],
 "metadata": {
  "kernelspec": {
   "display_name": "C++14",
   "language": "C++14",
   "name": "xeus-cling-cpp14"
  },
  "language_info": {
   "codemirror_mode": "text/x-c++src",
   "file_extension": ".cpp",
   "mimetype": "text/x-c++src",
   "name": "c++",
   "version": "-std=c++14"
  }
 },
 "nbformat": 4,
 "nbformat_minor": 2
}
