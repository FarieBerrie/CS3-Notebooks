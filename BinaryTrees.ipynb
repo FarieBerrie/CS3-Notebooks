{
 "cells": [
  {
   "cell_type": "markdown",
   "metadata": {},
   "source": [
    "# Tree Data Structures  & Binary Tree\n",
    "https://opendsa-server.cs.vt.edu/ODSA/Books/CS3/html/BinaryTreeIntro.html\n",
    "\n",
    "## Table of Contents\n",
    "- **[Tree Data Structure](#tree)**<br>\n",
    "- **[Binary Trees](#tree\")**<br>\n",
    "- **[Special Binary Trees](#special)**<br>\n",
    "- **[Binary Tree Theorems](#theorems)**<br>\n",
    "- **[Binary Tee Traversal](#traversal)**<br>"
   ]
  },
  {
   "cell_type": "markdown",
   "metadata": {},
   "source": [
    "<a id=\"tree\"></a>"
   ]
  },
  {
   "cell_type": "markdown",
   "metadata": {},
   "source": [
    "## Tree Data Structure (DS)\n",
    "- **Tree DS** structures in general enable efficient access and efficient update to large collections of data\n",
    "- look like upside-down real-world trees\n",
    "\n",
    "### Some serious advantages of Tree DS\n",
    "- reflect structural relationship in the data\n",
    "- represent hierarchies\n",
    "- provide an efficient insertion and searching\n",
    "- very flexible data, allowing to move subtrees around with minimum effort (cost)\n",
    "\n",
    "<img width=\"400px\" src=\"./resources/binary-tree-cartoon.png\">\n",
    "\n",
    "## Binary Trees\n",
    "- **Binary Trees** in particular are widely used for many things besides searching\n",
    "    - prioritizing jobs, describing mathematical expressions, examining syntactic elements of computer programs, organizing information needed to drive data compression algorithms \n",
    "- Binary Trees are made of a finite set of elements called **nodes**\n",
    "    - nodes are represented as a box or a circle as shown in the following figures\n",
    "    - each node typically contains data and two pointers pointing to left and right children\n",
    "    - Binary Tree can be either empty or consists of a special node called the **root** node with at most two binary subtrees, called the **left subtree** and **right subtree**\n",
    "    - subtrees are disjoint (no nodes in common)\n",
    "    - there's an edge (path) from a node (**parent**) to each of its **children**\n",
    "    - **Path**: the sequence of nodes from a node to the destination node, e.g., $5->3->1$ is the path from node $5$ to node $1$ in the following figure 2.\n",
    "    - **length of the path** is the no. of edges in the path; if there are $n$ nodes in the path, length is $n - 1$\n",
    "        - e.g., length of path in $5 ->3 ->1$ is $2$\n",
    "    - if there's a path from $A$ to $B$, $A$ is the **ancestor** of $B$ and $B$ is a **descendant** of $A$\n",
    "        - all nodes in the tree are descendants of the root of the tree\n",
    "        - root is the ancestor of the nodes\n",
    "    - **depth** of a node $M$ in the tree is the length of the path (# of edges) from the root of the tree to $M$\n",
    "    - **leaf node** is the node that doesn't have any children \n",
    "    - **height** of a tree is the depth of the deepest node in the tree\n",
    "        - longest path from root to one of the **leaf nodes**\n",
    "    - the root is at **level** $0$\n",
    "        - all nodes of depth $d$ are at **level** $d$ in the tree\n",
    "    - **internal node** is any node that has at least one child\n",
    "        \n",
    "    \n",
    "<img src=\"./resources/full-binary-tree.png\">\n",
    "<img src=\"./resources/binarytree.gif\">\n",
    "\n",
    "\n",
    "\n",
    "### Exercise\n",
    "Describe the properties of the following following binary tree:\n",
    "<img src=\"./resources/binaryTree1.png\">\n",
    "- root node?\n",
    "- internal nodes?\n",
    "- leaf nodes?\n",
    "- ancestors of G?\n",
    "- level 2 nodes?\n",
    "- what is the level of node I?\n",
    "- height of the tree?\n",
    "- path from A to H?\n",
    "- length of the path from A to H?"
   ]
  },
  {
   "cell_type": "markdown",
   "metadata": {},
   "source": [
    "<a id=\"special\"></a>"
   ]
  },
  {
   "cell_type": "markdown",
   "metadata": {},
   "source": [
    "## Special Binary Trees\n",
    "### Full binary tree\n",
    "- each node is either:\n",
    "    1. an internal node with exactly two children or\n",
    "    2. a leaf\n",
    "- Huffman coding tree is a full binary tree\n",
    "- Figure (a) is full binary tree\n",
    "\n",
    "\n",
    "### Complete binary tree\n",
    "- has a restricted shape obtained by starting at the root and filling the tree by levels from left to right\n",
    "- in a complete binary tree of height $d$, all levels except possibly level $d$ are completely full\n",
    "- heap data structure is an example\n",
    "- Figure (b) is complete binary tree\n",
    "\n",
    "<img src=\"./resources/fullAndCompleteBT.png\">\n",
    "\n",
    "### Remember the difference:\n",
    "- \"Complete\" is a wider word than \"full\", and complete binary trees tend to be wider than full binary trees because each level of a complete binary tree is as wide as possible"
   ]
  },
  {
   "cell_type": "markdown",
   "metadata": {},
   "source": [
    "### Exercise\n",
    "Which statement is correct?\n",
    "<img src=\"./resources/completeOrFull.png\">\n",
    "1. The tree is complete but not full\n",
    "- The tree is full but not complete\n",
    "- The tree is neither full nor complete\n",
    "- The tree is full and complete"
   ]
  },
  {
   "cell_type": "markdown",
   "metadata": {},
   "source": [
    "## Binary Tree as a Recursive Data Structure\n",
    "- recursive data structure is a data structure that is partially composed of smaller or simpler instances of the same data structure\n",
    "- e.g., **linked lists** and **binary trees**\n",
    "    - a linked list is a recursive data structure because a list can be defined as either (1) an empty list or (2) a node followed by a list\n",
    "    - a binary tree is typically defined as (1) an empty tree or (2) a node pointing to at most two binary trees\n",
    "- nice visualization and animation of recursive DS: https://opendsa-server.cs.vt.edu/ODSA/Books/CS3/html/RecursiveDS.html"
   ]
  },
  {
   "cell_type": "markdown",
   "metadata": {},
   "source": [
    "<a id=\"theorems\"></a>"
   ]
  },
  {
   "cell_type": "markdown",
   "metadata": {},
   "source": [
    "## Binary Tree Theorem\n",
    "- the number of empty subtrees in a non-empty binary tree is more than the number of nodes in the tree\n",
    "\n",
    "## Full Binary Tree Theorem\n",
    "- the number of leaves in a non-empty full binary tree is one more than the number of internal nodes with two children\n",
    "- proof by mathematical induction: https://opendsa-server.cs.vt.edu/ODSA/Books/CS3/html/BinaryTreeFullThm.html\n",
    "- see full binary tree figure above!"
   ]
  },
  {
   "cell_type": "markdown",
   "metadata": {},
   "source": [
    "<a id=\"traversals\"></a>"
   ]
  },
  {
   "cell_type": "markdown",
   "metadata": {},
   "source": [
    "## Binary Tree Traversals\n",
    "- process of \"visiting\" all the nodes in some order\n",
    "    - each time performing a specific action such as printing (enumerating) the contents of the node\n",
    "- three types of traversals\n",
    "    \n",
    "### Preorder Traversal\n",
    "- recursive algorithm:\n",
    "    1. visit the node\n",
    "    - visit left subtree\n",
    "    - visit right subtree\n",
    "    \n",
    "### Inorder Traversal\n",
    "- recursive algorithm:\n",
    "    1. visit left subtree\n",
    "    - visit the node\n",
    "    - visit right subtree\n",
    "    \n",
    "### Postorder Traversal\n",
    "- recursive algorithm:\n",
    "    1. visit left subtree\n",
    "    2. visit right subtree\n",
    "    - visit the node\n",
    "    \n",
    " <img src=\"./resources/binaryTree1.png\">\n",
    " \n",
    " ### Preorder enumeration of the above tree: A B D C E G F H I\n",
    " ### Inorder enumeration of the above tree: B D A G E C H F I\n",
    " ### Postorder enumeration of the above tree: D B G E H I F C A"
   ]
  },
  {
   "cell_type": "markdown",
   "metadata": {},
   "source": []
  },
  {
   "cell_type": "markdown",
   "metadata": {},
   "source": []
  }
 ],
 "metadata": {
  "kernelspec": {
   "display_name": "C++14",
   "language": "C++14",
   "name": "xeus-cling-cpp14"
  },
  "language_info": {
   "codemirror_mode": "text/x-c++src",
   "file_extension": ".cpp",
   "mimetype": "text/x-c++src",
   "name": "c++",
   "version": "-std=c++14"
  }
 },
 "nbformat": 4,
 "nbformat_minor": 2
}
