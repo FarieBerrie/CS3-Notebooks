{
 "cells": [
  {
   "cell_type": "markdown",
   "metadata": {},
   "source": [
    "# All-Pairs Shortest Paths\n",
    "https://opendsa-server.cs.vt.edu/ODSA/Books/CS3/html/Floyd.html\n",
    "\n",
    "## Table of Contents\n",
    "- **[Problem Statement](#intro)**<br>\n",
    "- **[Floyd's Algorithm](#floyd)**<br>"
   ]
  },
  {
   "cell_type": "markdown",
   "metadata": {},
   "source": [
    "## All-pairs shortest path problem\n",
    "- find the shortest distance between all pairs of vertices in the graph\n",
    "- for every $u, v \\in V$, calculate $d(u, v)$\n",
    "- one solution:\n",
    "    - from each $v \\in V$, run Dijkstra's algorithm starting from $v$\n",
    "    - if $G$ is sparse, (i.e. $|E| = \\Theta(|V|)$), Dijkstra's algorithm has the cost of $\\Theta(|V|^2+|V||E|log|V|)= \\Theta(|V|^2log|V|)$ using priority qeuue; so all-pairs will cost $\\Theta|V|^3log|V|$\n",
    "    - if $G$ is dense, Dijkstra's algorithm (MinVertex version), yields cost of $\\Theta(|V|^3)$"
   ]
  },
  {
   "cell_type": "markdown",
   "metadata": {},
   "source": [
    "## Floyd's Algorithm\n",
    "- regardless the number of edges, Floyd's algorithm yields cost of $\\Theta|V|^3$\n",
    "- applies dynamic programming technique (avoids repeatedly solving the same subproblems)\n",
    "- algorithm uses the concept of $k-path$\n",
    "    - $k-path$ from vertex $u$ to $v$ is defined to be any path whose intermediate vertices (aside $u$ and $v$) all have indices less than $k$\n",
    "    - $0-path$ is defined to be a direct edge from $u$ to $v$\n",
    "- following figure illustrates the concept of $k-path$\n",
    "<img src=\"./resources/k-path.png\">\n",
    "- path **1 -> 3** is a **0-path** by definition\n",
    "- path **3 -> 0 -> 2** is NOT a **0-path**, but a **1-path** (as well as a **2-path**, a **3-path**, and a **4-path**)\n",
    "- path **1 -> 3 -> 2** is a **4-path**\n",
    "- all paths in the graph are **4-paths**\n",
    "\n",
    "### Floyd's algorithm steps:\n",
    "- define $D_k(u, v)$ - the length of the shortest *k-path* from vertex $u$ to $v$\n",
    "    - assume that we already know the shortest *k-path* from $u$ to $v$\n",
    "- the shortest *(k+1)-path* either goes through vertex $k$ or it does not\n",
    "    - if it does go through $k$, the best path is the best *k-path* from $u$ to $k$ followed by the best *k-path* from $k$ to $v$\n",
    "    - otherwise, keep the best *k-path* seen before\n",
    "\n",
    "- Floyd's algorithm simply checks all of the possibilities in a triple loop"
   ]
  },
  {
   "cell_type": "code",
   "execution_count": 1,
   "metadata": {},
   "outputs": [],
   "source": [
    "#include <iostream>\n",
    "#include <vector>\n",
    "#include <climits> // sizes of integral types INT_MAX\n",
    "#include <algorithm>\n",
    "#include <iomanip>\n",
    "\n",
    "using namespace std;"
   ]
  },
  {
   "cell_type": "code",
   "execution_count": 2,
   "metadata": {},
   "outputs": [],
   "source": [
    "// 2D vector D stores all-pairs shortest paths\n",
    "template<class T>\n",
    "void Floyd(T & G, vector<vector<int> > & D) {\n",
    "    // initialize D[u][v] with weights(u, v)\n",
    "    for(int u=0; u<G.V; u++) {\n",
    "        D.push_back(vector<int>(G.V, INT_MAX));\n",
    "        for(int v=0; v<G.V; v++)\n",
    "            D[u][v] = G.weight(u, v);\n",
    "    }\n",
    "    for(int k=0; k<G.V; k++) // compute all k paths for every u->v pairs\n",
    "        for(int u=0; u<G.V; u++)\n",
    "            for(int v=0; v<G.V; v++)\n",
    "                // if there's a path via k and the distance is shorter; update the distance\n",
    "                if ((D[u][k] != INT_MAX) && (D[k][v] != INT_MAX) && (D[u][v] > (D[u][k] + D[k][v])))\n",
    "                    D[u][v] = D[u][k]+D[k][v];\n",
    "}"
   ]
  },
  {
   "cell_type": "markdown",
   "metadata": {},
   "source": [
    "### Representing graph using adjacency matrix"
   ]
  },
  {
   "cell_type": "code",
   "execution_count": 3,
   "metadata": {},
   "outputs": [],
   "source": [
    "struct Graph {\n",
    "    vector<vector<int> > graph;\n",
    "    size_t V; //no. of vertices\n",
    "    \n",
    "    Graph(size_t v) {\n",
    "        V = v;\n",
    "        for (int i=0; i<V; i++) {\n",
    "            //initialize to INT_MAX; means not connected\n",
    "            vector<int> row(V, INT_MAX);\n",
    "            graph.push_back(row);\n",
    "            for (int j=0; j<V; j++) \n",
    "                if(i==j)\n",
    "                    graph[i][j] = 0; //distance between u to u is 0\n",
    "        }\n",
    "    }\n",
    "\n",
    "    // add a new edge from node u to node v, with weight w\n",
    "    void addEdge(int u, int v, int w) {\n",
    "        graph[u][v] = w;\n",
    "    }\n",
    "\n",
    "    int weight(int u, int v) {\n",
    "        return graph[u][v];\n",
    "    }\n",
    "};"
   ]
  },
  {
   "cell_type": "markdown",
   "metadata": {},
   "source": [
    "### Exercise: Find all-pairs shortest paths for the following graph\n",
    "<img src=\"./resources/sssp.png\">"
   ]
  },
  {
   "cell_type": "code",
   "execution_count": 4,
   "metadata": {},
   "outputs": [],
   "source": [
    "// represent undirected graph shown in above diagram\n",
    "// A->0, B->1, C->2, D->3, E->4\n",
    "Graph graph(5);\n",
    "vector<vector<int> > dist;"
   ]
  },
  {
   "cell_type": "code",
   "execution_count": 5,
   "metadata": {},
   "outputs": [],
   "source": [
    "graph.addEdge(0, 1, 10);\n",
    "graph.addEdge(0, 3, 20);\n",
    "graph.addEdge(0, 2, 3);\n",
    "graph.addEdge(1, 3, 5);\n",
    "graph.addEdge(2, 1, 2);\n",
    "graph.addEdge(2, 4, 15);\n",
    "graph.addEdge(3, 4, 11);"
   ]
  },
  {
   "cell_type": "code",
   "execution_count": 6,
   "metadata": {},
   "outputs": [],
   "source": [
    "Floyd(graph, dist);"
   ]
  },
  {
   "cell_type": "code",
   "execution_count": 7,
   "metadata": {},
   "outputs": [],
   "source": [
    "void printDistances(Graph & G, vector<vector<int> >&D) {\n",
    "    int w = 8;\n",
    "    cout << \"Distance Matrix: \" << endl;\n",
    "    for (int u=0; u<G.V; u++) {\n",
    "        cout << setw(w) << char(u+65);\n",
    "    }\n",
    "    cout << endl << setfill('-') << setw(w*G.V) << \"\" << endl;\n",
    "    cout << setfill(' ');\n",
    "    for(int u=0; u<G.V; u++) {\n",
    "        cout << setw(0) << char(u+65) << \"|\";\n",
    "        for (int v=0; v<G.V; v++)\n",
    "            if (D[u][v] == INT_MAX)\n",
    "                cout << setw(w) << \"INF\";\n",
    "            else\n",
    "                cout << setw(w) << D[u][v];\n",
    "        cout << endl;\n",
    "    }\n",
    "}"
   ]
  },
  {
   "cell_type": "code",
   "execution_count": 8,
   "metadata": {},
   "outputs": [
    {
     "name": "stdout",
     "output_type": "stream",
     "text": [
      "Distance Matrix: \n",
      "       A       B       C       D       E\n",
      "----------------------------------------\n",
      "A|       0       5       3      10      18\n",
      "B|     INF       0     INF       5      16\n",
      "C|     INF       2       0       7      15\n",
      "D|     INF     INF     INF       0      11\n",
      "E|     INF     INF     INF     INF       0\n"
     ]
    }
   ],
   "source": [
    "printDistances(graph, dist);"
   ]
  },
  {
   "cell_type": "markdown",
   "metadata": {},
   "source": [
    "## Exercises\n",
    "1. All Pairs Shortest Path - https://open.kattis.com/problems/allpairspath\n",
    "    - check and update negative weights/cycles"
   ]
  },
  {
   "cell_type": "code",
   "execution_count": null,
   "metadata": {},
   "outputs": [],
   "source": []
  }
 ],
 "metadata": {
  "kernelspec": {
   "display_name": "C++14",
   "language": "C++14",
   "name": "xcpp14"
  },
  "language_info": {
   "codemirror_mode": "text/x-c++src",
   "file_extension": ".cpp",
   "mimetype": "text/x-c++src",
   "name": "c++",
   "version": "-std=c++14"
  }
 },
 "nbformat": 4,
 "nbformat_minor": 2
}
