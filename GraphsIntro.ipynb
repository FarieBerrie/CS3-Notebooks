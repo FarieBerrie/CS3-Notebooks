{
 "cells": [
  {
   "cell_type": "markdown",
   "metadata": {},
   "source": [
    "# Graphs\n",
    "https://opendsa-server.cs.vt.edu/ODSA/Books/CS3/html/GraphIntro.html\n",
    "\n",
    "## Table of Contents\n",
    "- **[Introduction](#intro)**<br>\n",
    "- **[Graph Types](#types)**<br>\n",
    "- **[Graph Representations](#representations)**<br>\n",
    "- **[Adjacency Matrix Vs Adjacency List](#versus)**<br>"
   ]
  },
  {
   "cell_type": "markdown",
   "metadata": {},
   "source": [
    "<a id=\"intro\"></a>"
   ]
  },
  {
   "cell_type": "markdown",
   "metadata": {},
   "source": [
    "## Introduction\n",
    "- most flexible and important data structure\n",
    "- consists of a set of nodes (vertices), and a set of edges \n",
    "    - each edge connects two nodes\n",
    "- trees and lists can be be viewed as special cases of graphs\n",
    "<img src=\"./resources/graph.png\">\n",
    "<center>Figure of a graph</center>\n",
    "\n",
    "## Graphs Vs Trees\n",
    "- https://freefeast.info/difference-between/difference-between-trees-and-graphs-trees-vs-graphs/\n",
    "- Tree is a restricted form of graph which is minimally connected having only one path between any two vertices\n",
    "- Trees have direction (parent/child relationships) without cycles (Directed Acyclic Graph, DAG)\n",
    "    - a child can have only one parent\n",
    "- Graphs can have more than one edges connecting vertices\n",
    "    - more than one path\n",
    "    - can have uni-directional or bi-directional paths (edges) between nodes\n",
    "\n",
    "## Applications\n",
    "- used to model both real-world systems and abstract problems, e.g.:\n",
    "- modeling connectivity in computer networks\n",
    "- representing maps as a set of locations with distances between locations (GPS shortest route finder)\n",
    "- modeling flow capacities in transportation networks (finding bottlenecks)\n",
    "- modeling a path from a starting condition to a goal condition (used in AI and video games)\n",
    "- modeling relationships such as family trees, social networks, scientific taxonomies\n",
    "\n",
    "## Terminologies\n",
    "- **graph** $G = (V, E)$ consists of a set of **vertices** $V$ and a set of **edges** $E$\n",
    "    - each edge in $E$ is a connection between a pair of vertices in $V$\n",
    "- $\\|V\\|$ - number of vertices\n",
    "- $\\|E\\|$ - the number of edges \n",
    "    - $\\|E\\|$ can range from zero to a maximum of $\\|V^2\\| - \\|V\\|$\n",
    "- **adjacent** vertices with a direct connection is written $(a, b)$\n",
    "    - $a$ is adjacent to $b$ and vice-versa\n",
    "- **path** - sequence of vertices $v_1, v_2, ..., v_n$ with length $n-1$ if there's path from $v_1$ to $v_n$\n",
    "- **simple path** - all vertices on its path are unique\n",
    "- **length** of a path is the number of edges it contains\n",
    "- **cycle** is a path of length three or more that connects some vertex $v_i$ to itself\n",
    "- **simple cycle** - simple path except that the first and last vertices are the same\n",
    "<img src=\"./resources/graphPathCycles.png\">"
   ]
  },
  {
   "cell_type": "markdown",
   "metadata": {},
   "source": [
    "<a id=\"types\"></a>"
   ]
  },
  {
   "cell_type": "markdown",
   "metadata": {},
   "source": [
    "## Types of Graphs\n",
    "<img src=\"./resources/graphTypes.png\">\n",
    "    \n",
    "### Undirected graph\n",
    "- graph (a) whose edges are not directed is called undirected graph\n",
    "- **degree** the number of edges a node has\n",
    "    - e.g., the degree of center node in (a) is three\n",
    "\n",
    "### Directed graph (digraph)\n",
    "- graph (b) whose edges are directed from one vertex to another\n",
    "- **out degree** of a vertex is the number of edges going out from it\n",
    "    - in (c) above, out degree of $1$ is one\n",
    "- **in degree** of a vertex is the number of edges coming in to it\n",
    "    - in (c) above, the in degree of vertex $1$ is two\n",
    "    \n",
    "### Weighted graph (labeled graph)\n",
    "- graph (c) whose edges have associated weight (cost) or simply some labels\n",
    "- weighted graphs can be either directed or undirected\n",
    "\n",
    "### Connected graph\n",
    "- an undirected graph which has at least one path from any vertex to any other\n",
    "<img src=\"./resources/connectedGraphs.png\">\n",
    "\n",
    "### Sparse graph\n",
    "- graph with relatively few edges\n",
    "<img src=\"./resources/sparseGraph.png\">\n",
    "<center>Sparse graph</center>\n",
    "\n",
    "### Dense graph\n",
    "- graph with relatively many edges\n",
    "<img src=\"./resources/denseGraph.png\">\n",
    "<center>Dense and complete graph</center>\n",
    "\n",
    "### Complete graph\n",
    "- graph with all possible edges (see above figure)\n",
    "- no. of edges in a complete graph = $\\frac{\\|V\\|(\\|V\\|-1)}{2}$\n",
    "\n",
    "### Subgraph\n",
    "- a subgraph $G_1$ is part of of a graph $G$ (with vertices and edges appearing exactly as in the the graph $G$\n",
    "- e.g., $G_1 = $ nodes $\\{0, 2, 3\\}$ and edges $\\{(0,2), (2,3), (0,3)\\}$\n",
    "<img src=\"./resources/clique.png\">\n",
    "<center>Subgraph connected with red edges is clique</center>\n",
    "\n",
    "### Clique\n",
    "- a complete subgraph where all vertices are interconnected\n",
    "- e.g. the red colored subgraph above\n",
    "\n",
    "### Acyclic graph\n",
    "- graph without cycles\n",
    "- e.g. see figure b below\n",
    "\n",
    "### Directed acyclic graph (DAG)\n",
    "- directed graph without cycles\n",
    "- e.g. see figure a below\n",
    "<img src=\"./resources/DAG.png\">\n",
    "\n",
    "### Free tree\n",
    "- connected, undirected graph with no simple cycles\n",
    "    - connected acyclic graph with $\\|V\\| - 1$ edges\n",
    "    - e.g., figure (b) acyclic graph above is free tree"
   ]
  },
  {
   "cell_type": "markdown",
   "metadata": {},
   "source": [
    "<a id=\"representations\"></a>"
   ]
  },
  {
   "cell_type": "markdown",
   "metadata": {},
   "source": [
    "## Graph Representations\n",
    "- two common methods\n",
    "- adjacency matrix and adjacency list\n",
    "\n",
    "### Adjacency matrix\n",
    "- a graph of $\\|V\\| \\times \\|V\\|$ matrix (2-D array)\n",
    "- vertices are typically labeled from $0$ through ${\\|V\\|-1}$\n",
    "- row $i$ of the matrix contains entries for vertex $v_i$\n",
    "- column $j$ in row $i$ is marked if there's an edge from $v_i$ to $v_j$\n",
    "    - matrix is initialized with $0$s\n",
    "- space requirement is $\\Theta(\\|V\\|^2)$\n",
    "\n",
    "### Adjacency list\n",
    "- array/vector of linked lists\n",
    "- the length of array is $\\|V\\|$, with index $i$ storing a pointer to the linked list of edges for vertex $v_i$\n",
    "    - each linked list represents the edges of the vertices that are adjacent to vertex $v_i$\n",
    "- space requirement is $\\Theta(\\|V\\|+\\|E\\|)$\n",
    "    \n",
    "### Directed graph representations\n",
    "<img src=\"./resources/directedGraphRepresentation.png\">\n",
    "\n",
    "### Undirected graph representations\n",
    "<img src=\"./resources/undirectedGraphRep.png\">\n",
    "\n",
    "### Weighted graph representations\n",
    "- easier with adjacency matrix where the entry is simply the weight\n",
    "- weight needs to be explicitly stored in the node of the linked list\n",
    "<img src=\"./resources/weightedGraphRep.png\">"
   ]
  },
  {
   "cell_type": "markdown",
   "metadata": {},
   "source": [
    "<a id=\"versus\"></a>"
   ]
  },
  {
   "cell_type": "markdown",
   "metadata": {},
   "source": [
    "## Adjacency Matrix Vs Adjacency List\n",
    "- which graph representation is more space efficient depends on the number of edges in the graph\n",
    "- adjacency matrix cost $O(\\|V\\|^2)$\n",
    "- adjacency list cost $O(\\|V\\|\\times\\|E\\|)$\n",
    "- as the graph becomes denser, the adjacency matrix becomes relatively more space efficient\n",
    "    - storing pointers and extra space for weight can be costly for adjacency list\n",
    "- adjacency list is more space efficient when the graph is sparse"
   ]
  },
  {
   "cell_type": "markdown",
   "metadata": {},
   "source": [
    "## Exercises\n",
    "<img src=\"./resources/graphEx1.png\">\n",
    "\n",
    "1. What is the degree of vertex $3$ in above graph?\n",
    "2. Which of the following correctly describe the graph?\n",
    "    1. Connected Graph\n",
    "    - Dense Graph\n",
    "    - Directed Graph\n",
    "    - Acyclic Graph\n",
    "    - Sparse Graph\n",
    "    - Complete Graph\n",
    "    - Undirected Graph\n",
    "3. A simple path:\n",
    "    1. must have all vertices unique except that the first and last vertices are the same\n",
    "    - must have all vertices be unique\n",
    "    - allows repetition of vertices so long as the length of the path is less than 5\n",
    "    - None of the above\n",
    "4. What are different simple paths between vertices $0$ and $4$ in above graph?"
   ]
  },
  {
   "cell_type": "code",
   "execution_count": null,
   "metadata": {},
   "outputs": [],
   "source": []
  }
 ],
 "metadata": {
  "kernelspec": {
   "display_name": "C++14",
   "language": "C++14",
   "name": "xcpp14"
  },
  "language_info": {
   "codemirror_mode": "text/x-c++src",
   "file_extension": ".cpp",
   "mimetype": "text/x-c++src",
   "name": "c++",
   "version": "14"
  }
 },
 "nbformat": 4,
 "nbformat_minor": 4
}
