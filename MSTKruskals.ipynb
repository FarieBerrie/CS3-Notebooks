{
 "cells": [
  {
   "cell_type": "markdown",
   "metadata": {},
   "source": [
    "# Minimum Spanning Tree - Kruskal's Algorithm\n",
    "https://opendsa-server.cs.vt.edu/ODSA/Books/CS3/html/Kruskal.html\n",
    "\n",
    "### Table of Contents\n",
    "- **[Kruskal's Algorithm](#kruskal)**<br>\n",
    "- **[Implementation](#imp)**<br>\n",
    "- **[Analysis of Kruskal's Algorithm and Vs Prim's](#analysis)**<br>\n",
    "- **[Exercises](#exercises)**<br>"
   ]
  },
  {
   "cell_type": "markdown",
   "metadata": {},
   "source": [
    "<a id=\"kruskal\">"
   ]
  },
  {
   "cell_type": "markdown",
   "metadata": {},
   "source": [
    "## Kruskal's Algorithm\n",
    "- another algorithm for finding Minimum Spanning Tree (MST)\n",
    "- also a greedy algorithm\n",
    "    - makes the optimal choice at each step as it attempts to find the overall optimal way to solve the entire problem\n",
    "- use [Parent Pointer Tree](./GeneralTreesUnionFind.ipynb) to find and join disjoint sets\n",
    "- algorithm steps:\n",
    "    1. partition the set of vertices into $V$ [disjoint sets](./GeneralTreesUnionFind.ipynb)\n",
    "        - each set contains one vertex\n",
    "    - process the edges in order of weight (sort, or use min heap priority queue)\n",
    "    - if an edge connects two vertices in dfferent disjoint sets (FIND):\n",
    "        - add the edge to the MST\n",
    "        - combine the sets (UNION)\n",
    "\n",
    "    - if the graph is connected, MST will have $|V|-1$ edges\n",
    "\n",
    "<img src=\"./resources/Kruskals.png\">\n",
    "\n",
    "### visualize Kruskal's algorithm here: https://opendsa-server.cs.vt.edu/ODSA/Books/CS3/html/Kruskal.html"
   ]
  },
  {
   "cell_type": "code",
   "execution_count": 2,
   "metadata": {},
   "outputs": [],
   "source": [
    "#include <iostream>\n",
    "#include <vector>\n",
    "#include <queue> // priority_queue\n",
    "#include <climits> // sizes of integral types\n",
    "#include <sstream>\n",
    "#include <list>\n",
    "#include <algorithm>\n",
    "\n",
    "using namespace std;\n",
    "\n",
    "using iPair = pair<int, int>; "
   ]
  },
  {
   "cell_type": "code",
   "execution_count": 3,
   "metadata": {},
   "outputs": [],
   "source": [
    "// general Parent-Pointer Tree implementation for UNION/FIND\n",
    "class ParPtrTree {\n",
    "  private:\n",
    "    vector<int> parents; // parent pointer vector\n",
    "    vector<int> weights; // weights for weighted union\n",
    "  public:\n",
    "    // constructor\n",
    "    ParPtrTree(size_t size) {\n",
    "        parents.resize(size); //create parents vector\n",
    "        fill(parents.begin(), parents.end(), -1); // each node is its own root to start\n",
    "        weights.resize(size); \n",
    "        fill(weights.begin(), weights.end(), 1);// set all base weights to 1\n",
    "    }\n",
    "    \n",
    "    // Return the root of a given node with path compression\n",
    "    // recursive algorithm that makes all ancestors of the current node\n",
    "    // point to the root\n",
    "    int FIND(int node) {\n",
    "        if (parents[node] == -1) return node;\n",
    "        parents[node] = FIND(parents[node]);\n",
    "        return parents[node];\n",
    "    }\n",
    "    \n",
    "    // Merge two subtrees if they are different\n",
    "    void UNION(int node1, int node2) {\n",
    "        int root1 = FIND(node1);\n",
    "        int root2 = FIND(node2);\n",
    "        // MERGE two trees\n",
    "        if (root1 != root2) {\n",
    "            if (weights[root1] < weights[root2]) {\n",
    "                parents[root1] = root2;\n",
    "                weights[root2] += weights[root1];\n",
    "            }\n",
    "            else {\n",
    "                parents[root2] = root1;\n",
    "                weights[root1] += weights[root2];\n",
    "            }\n",
    "        }    \n",
    "    }\n",
    "    \n",
    "    string toString() {\n",
    "        string nodes = \"nodes:\\t\";\n",
    "        string prts = \"parents:\\t\";\n",
    "        for (int i=0; i < this->parents.size(); i++) {\n",
    "            prts += to_string(this->parents[i]) + '\\t';\n",
    "            nodes += \" \\t \" + to_string(i); \n",
    "        }\n",
    "        return prts + \"\\n\" + nodes;\n",
    "    }\n",
    "};"
   ]
  },
  {
   "cell_type": "code",
   "execution_count": 4,
   "metadata": {},
   "outputs": [],
   "source": [
    "// a structure to represent a weighted edge in graph \n",
    "struct Edge \n",
    "{ \n",
    "    int src, dest, weight; \n",
    "};\n",
    "\n",
    "// custom Compare class to use with priority_queue (min heap)\n",
    "struct Compare {\n",
    "    bool operator()(const Edge& a, const Edge& b) \n",
    "    { \n",
    "        return a.weight > b.weight; \n",
    "    } \n",
    "};"
   ]
  },
  {
   "cell_type": "markdown",
   "metadata": {},
   "source": [
    "## Representing Graph using Vector of Edge"
   ]
  },
  {
   "cell_type": "code",
   "execution_count": 5,
   "metadata": {},
   "outputs": [],
   "source": [
    "// a structure to represent undirected \n",
    "// and weighted graph \n",
    "struct Graph \n",
    "{ \n",
    "    // V -> Number of vertices, E -> Number of edges \n",
    "    int V, E; \n",
    "    // graph is stored in a min heap priority_queue\n",
    "    // Kruskal algo requires working with edges with smallest to highest weight \n",
    "    priority_queue<Edge, vector<Edge>, Compare > edges;\n",
    "    // constructor\n",
    "    Graph(int v, int e) {\n",
    "        V = v;\n",
    "        E = e;\n",
    "    }\n",
    "    \n",
    "    void addEdge(int u, int v, int w) {\n",
    "        edges.push({u, v, w});\n",
    "    }\n",
    "};"
   ]
  },
  {
   "cell_type": "markdown",
   "metadata": {},
   "source": [
    "<a id=\"imp\">"
   ]
  },
  {
   "cell_type": "markdown",
   "metadata": {},
   "source": [
    "### Kruskal's Algorithm Implementation"
   ]
  },
  {
   "cell_type": "code",
   "execution_count": 6,
   "metadata": {},
   "outputs": [],
   "source": [
    "// function to construct MST using Kruskal's algorithm \n",
    "// returns the total weight of MST\n",
    "// edges forming MST are stored in MST vector\n",
    "int KruskalMST(Graph& graph, vector<iPair> & MST) \n",
    "{ \n",
    "    if (graph.E == 0)\n",
    "        return 0;\n",
    "\n",
    "    int numMST = graph.V;  // initially V disjoint classes  \n",
    "    ParPtrTree unionfind(graph.V);\n",
    "    int weight = 0;\n",
    "\n",
    "    while (numMST > 1 && !graph.edges.empty())\n",
    "    { \n",
    "        // pick the smallest edge\n",
    "        Edge edge = graph.edges.top();\n",
    "        graph.edges.pop();\n",
    "        int x = unionfind.FIND(edge.src); // root of src\n",
    "        int y = unionfind.FIND(edge.dest); // root of dest\n",
    "        // if src and dest nodes are in different sets\n",
    "        if (x != y) \n",
    "        { \n",
    "            int u = edge.src;\n",
    "            int v = edge.dest;\n",
    "            // add weight\n",
    "            weight += edge.weight;\n",
    "            // the ordering is not required, but...\n",
    "            if (u > v) swap(u, v);\n",
    "            // add u->v edge to MST\n",
    "            MST.push_back({u, v});\n",
    "            // combine equiv classes\n",
    "            unionfind.UNION(u, v);\n",
    "            numMST--; // one less MST\n",
    "        } \n",
    "    } \n",
    "    return weight;\n",
    "}"
   ]
  },
  {
   "cell_type": "markdown",
   "metadata": {},
   "source": [
    "### Test Kruskal's Algorithm"
   ]
  },
  {
   "cell_type": "markdown",
   "metadata": {},
   "source": [
    "<img src=\"./resources/MCST.png\">"
   ]
  },
  {
   "cell_type": "code",
   "execution_count": 7,
   "metadata": {},
   "outputs": [],
   "source": [
    "// represent undirected graph shown in above diagram\n",
    "// A->0, B->1, C->2, D->3, E->4, F->5\n",
    "Graph graph(6, 8);\n",
    "vector<iPair> MST;"
   ]
  },
  {
   "cell_type": "code",
   "execution_count": 8,
   "metadata": {},
   "outputs": [],
   "source": [
    "// 8 undirected edges\n",
    "graph.addEdge(0, 2, 7);\n",
    "graph.addEdge(0, 4, 9);\n",
    "graph.addEdge(1, 2, 5);\n",
    "graph.addEdge(1, 5, 6);\n",
    "graph.addEdge(2, 3, 1);\n",
    "graph.addEdge(2, 5, 2);\n",
    "graph.addEdge(3, 5, 2);\n",
    "graph.addEdge(4, 5, 1);"
   ]
  },
  {
   "cell_type": "code",
   "execution_count": 9,
   "metadata": {},
   "outputs": [],
   "source": [
    "int wt;"
   ]
  },
  {
   "cell_type": "code",
   "execution_count": 10,
   "metadata": {},
   "outputs": [],
   "source": [
    "wt = KruskalMST(graph, MST);"
   ]
  },
  {
   "cell_type": "code",
   "execution_count": 11,
   "metadata": {},
   "outputs": [
    {
     "name": "stdout",
     "output_type": "stream",
     "text": [
      "total cost of MST = 16\n",
      "MST edges:\n",
      "2-3\n",
      "4-5\n",
      "2-5\n",
      "1-2\n",
      "0-2\n"
     ]
    }
   ],
   "source": [
    "cout << \"total cost of MST = \" << wt << endl;\n",
    "cout << \"MST edges:\\n\";\n",
    "for(auto &p:MST)\n",
    "    cout << p.first <<  \"-\" << p.second << '\\n';\n"
   ]
  },
  {
   "cell_type": "markdown",
   "metadata": {},
   "source": [
    "<a id=\"analysis\">"
   ]
  },
  {
   "cell_type": "markdown",
   "metadata": {},
   "source": [
    "## Analysis of Kruskal's Algorithm\n",
    "- dominated by the time required to process the edges\n",
    "- if part compression and weighted union is used, union/find takes nearly constant time\n",
    "- total cost $\\Theta(|E|log|E|)$ in the worst case when nearly all edges must be processed\n",
    "- most often need to process only about $|V|$ edges\n",
    "    - so, cost is ~ $\\Theta(|V| log|E|)$ in the average case\n",
    "    \n",
    "## Comparison with Prim's Algorithm\n",
    "- if heap is used and the graph is sparse, cost is $\\Theta((|V| + |E|) log |E|)$\n",
    "- if graph is dense, cost can be $\\Theta(|V|^2 + log |E|) = \\Theta(|V|^2 log |V|)$"
   ]
  },
  {
   "cell_type": "markdown",
   "metadata": {},
   "source": [
    "<a id=\"exercises\">"
   ]
  },
  {
   "cell_type": "markdown",
   "metadata": {},
   "source": [
    "## Exercises\n",
    "1. Minimum Spanning Tree problem: https://open.kattis.com/problems/minspantree\n",
    "- Island Hopping - https://open.kattis.com/problems/islandhopping\n",
    "    - Hint: distance between two points is the weight (float)\n",
    "- A Feast For Cats - https://open.kattis.com/problems/cats"
   ]
  },
  {
   "cell_type": "code",
   "execution_count": null,
   "metadata": {},
   "outputs": [],
   "source": []
  }
 ],
 "metadata": {
  "kernelspec": {
   "display_name": "C++14",
   "language": "C++14",
   "name": "xeus-cling-cpp14"
  },
  "language_info": {
   "codemirror_mode": "text/x-c++src",
   "file_extension": ".cpp",
   "mimetype": "text/x-c++src",
   "name": "c++",
   "version": "-std=c++14"
  }
 },
 "nbformat": 4,
 "nbformat_minor": 2
}
