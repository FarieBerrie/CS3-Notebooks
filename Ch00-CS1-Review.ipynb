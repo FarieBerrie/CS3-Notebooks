{
 "cells": [
  {
   "cell_type": "markdown",
   "metadata": {},
   "source": [
    "# CS1 Review: C++ fundamentals\n",
    "- Note: use online compiler in case C++ kernel crashes on this notebook or doesn't work in some cases: https://coliru.stacked-crooked.com/\n",
    "\n",
    "### Table of Contents\n",
    "\n",
    "- [Data Types](#types)\n",
    "- [Variables](#variables)\n",
    "- [Type Casting](#casting)\n",
    "- [Input/Output](#io)\n",
    "- [Output Formatting](#format)\n",
    "- [Functions](#functions)\n",
    "- [Unit Test](#unittest)\n",
    "- [String](#string)\n",
    "- [Escape Sequences](#escape)\n",
    "- [Math Operations](#math)\n",
    "- [Conditionals](#conditionals)\n",
    "    - [One-way selector](#oneway)\n",
    "    - [Two-way selector](#twoway)\n",
    "    - [Multi-way selector](#multiway)\n",
    "    - [Switch statement](#switch)\n",
    "- [Loops](#loop)\n",
    "    - [for loop](#for)\n",
    "    - [range-based for loop](#range)\n",
    "    - [while loop](#while)\n",
    "    - [do while loop](#dowhile)"
   ]
  },
  {
   "cell_type": "markdown",
   "metadata": {},
   "source": [
    "<a id=\"types\"></a>\n",
    "\n",
    "## fundamental data types\n",
    "\n",
    "https://en.cppreference.com/w/cpp/language/types\n",
    "- void : type with an empty set of values\n",
    "- bool : true or false\n",
    "- int : integer/whole number\n",
    "    - signed int : signed representation (default)\n",
    "    - unsigned int : unsigned representation\n",
    "- short : target type will have width of atleast 16 bits\n",
    "- long : width of at least 32 bits\n",
    "- long long : width of at least 64 bits\n",
    "- size_t : unsigned int type\n",
    "- int32_t : signed int 32\n",
    "- int64_t : signed int 64\n",
    "- char : signed char representation\n",
    "- float : single precision float (32 bit)\n",
    "- double : double precision (64 bit)\n",
    "- long double: extended precision floating point type\n",
    "\n",
    "- No fundadamental type available to work with string data (array of characters or buffer)"
   ]
  },
  {
   "cell_type": "markdown",
   "metadata": {},
   "source": [
    "<a id='variables'></a>\n",
    "## variables\n",
    "- identifier or named memory location that allows us to store data\n",
    "- syntax to declare a variable: \n",
    "```c++\n",
    "type varName;\n",
    "```\n",
    "- know the rules of naming identifiers"
   ]
  },
  {
   "cell_type": "code",
   "execution_count": 46,
   "metadata": {},
   "outputs": [],
   "source": [
    "#include <iostream>\n",
    "#include <cstdio>\n",
    "#include <string>\n",
    "using namespace std;"
   ]
  },
  {
   "cell_type": "code",
   "execution_count": null,
   "metadata": {},
   "outputs": [],
   "source": [
    "// declaring variables\n",
    "int x, y, z;\n",
    "string buffer;\n",
    "float test1, test2, test3;"
   ]
  },
  {
   "cell_type": "code",
   "execution_count": 2,
   "metadata": {},
   "outputs": [],
   "source": [
    "// variable declaration and initialization\n",
    "// = assignment operator;\n",
    "bool a = true;\n",
    "char b = 'Z';\n",
    "short c = 100;\n",
    "int d = -2000000000;\n",
    "unsigned int dd = 23232; // must be positive value only!\n",
    "long e = 2000000000;\n",
    "long long f = 123456789;\n",
    "size_t g = 111;\n",
    "int64_t h = 2345;\n",
    "float i = 123.1234567;\n",
    "double j = 1234.123456789;\n",
    "long double k = 12112.1212121211121;\n",
    "string l = \"some string\";"
   ]
  },
  {
   "cell_type": "code",
   "execution_count": 3,
   "metadata": {},
   "outputs": [
    {
     "name": "stdout",
     "output_type": "stream",
     "text": [
      "sizeof(bool) = 8 bits.\n",
      "sizeof(b) = 8 bits.\n",
      "sizeof(short) = 16 bits.\n",
      "sizeof(int) = 32 bits.\n",
      "sizeof(unsigned int) = 32 bits.\n",
      "sizeof(long) = 64 bits.\n",
      "sizeof(long long) = 64 bits.\n",
      "sizeof(size_t) = 64 bits.\n",
      "sizeof(int32_t) = 32 bits.\n",
      "sizeof(int64_t) = 64 bits.\n",
      "sizeof(float) = 32 bits.\n",
      "sizeof(double) = 64 bits.\n",
      "sizeof(long double) = 128 bits.\n",
      "sizeof(string) = 192 bits.\n"
     ]
    }
   ],
   "source": [
    "cout << \"sizeof(bool) = \" << 8*sizeof(bool) << \" bits.\" << endl;\n",
    "// printf(\"sizeof(b) = %lu\\n\", sizeof(b)*8); doesn't work!\n",
    "cout << \"sizeof(b) = \" << 8*sizeof(b) << \" bits.\" << endl;\n",
    "cout << \"sizeof(short) = \" << 8*sizeof(short) << \" bits.\" << endl;\n",
    "cout << \"sizeof(int) = \" << 8*sizeof(int) << \" bits.\" << endl;\n",
    "cout << \"sizeof(unsigned int) = \" << 8*sizeof(unsigned int) << \" bits.\" << endl;\n",
    "cout << \"sizeof(long) = \" << 8*sizeof(long) << \" bits.\" << endl;\n",
    "cout << \"sizeof(long long) = \" << 8*sizeof(long long) << \" bits.\" << endl;\n",
    "cout << \"sizeof(size_t) = \" << 8*sizeof(size_t) << \" bits.\" << endl;\n",
    "cout << \"sizeof(int32_t) = \" << 8*sizeof(int32_t) << \" bits.\" << endl;\n",
    "cout << \"sizeof(int64_t) = \" << 8*sizeof(int64_t) << \" bits.\" << endl;\n",
    "cout << \"sizeof(float) = \" << 8*sizeof(float) << \" bits.\" << endl;\n",
    "cout << \"sizeof(double) = \" << 8*sizeof(double) << \" bits.\" << endl;\n",
    "cout << \"sizeof(long double) = \" << 8*sizeof(long double) << \" bits.\" << endl;\n",
    "cout << \"sizeof(string) = \" << 8*sizeof(string) << \" bits.\" << endl;"
   ]
  },
  {
   "cell_type": "markdown",
   "metadata": {},
   "source": [
    "<a id='casting'></a>\n",
    "## type casting\n",
    "https://en.cppreference.com/w/cpp/string/basic_string\n",
    "- converting one type into another if possible\n",
    "- stoi(), stol(), stoll() : converts a string to a signed int\n",
    "- stoul(), stoull() : converts a string to unsigned int\n",
    "- stof(), stod(), stold() : converts a string to float\n",
    "- to_string() : converts an int or float to string"
   ]
  },
  {
   "cell_type": "code",
   "execution_count": 4,
   "metadata": {},
   "outputs": [
    {
     "name": "stdout",
     "output_type": "stream",
     "text": [
      "1244"
     ]
    }
   ],
   "source": [
    "int num = stoi(\"1234\");\n",
    "cout << num+10;"
   ]
  },
  {
   "cell_type": "code",
   "execution_count": 5,
   "metadata": {},
   "outputs": [
    {
     "name": "stdout",
     "output_type": "stream",
     "text": [
      "109.9"
     ]
    }
   ],
   "source": [
    "float price = stof(\"10.99\");\n",
    "cout << price*10;"
   ]
  },
  {
   "cell_type": "code",
   "execution_count": 6,
   "metadata": {},
   "outputs": [
    {
     "name": "stdout",
     "output_type": "stream",
     "text": [
      "100.99000099\n"
     ]
    }
   ],
   "source": [
    "string strNum = to_string(100.99);\n",
    "cout << strNum + \"99\" << endl;"
   ]
  },
  {
   "cell_type": "markdown",
   "metadata": {},
   "source": [
    "<a id='io'></a>\n",
    "## input/output\n",
    "- standard input/output\n",
    "    - iostream: cin, cout\n",
    "        - getline - read the whole line (until \\n) into a string\n",
    "    - cstdio: printf, scanf\n",
    "    \n",
    "- file input/output\n",
    "    - fstream, ifstream, ofstream\n",
    "    - steps working with files:\n",
    "        1. declare file handlers\n",
    "        2. open file\n",
    "        3. check if file opened successfully\n",
    "        4. read from or write to file\n",
    "        5. close file"
   ]
  },
  {
   "cell_type": "code",
   "execution_count": 7,
   "metadata": {},
   "outputs": [
    {
     "name": "stderr",
     "output_type": "stream",
     "text": [
      "\u001b[1minput_line_16:3:12: \u001b[0m\u001b[0;1;31merror: \u001b[0m\u001b[1mfunction definition is not allowed here\u001b[0m\n",
      "int main() {\n",
      "\u001b[0;1;32m           ^\n",
      "\u001b[0m"
     ]
    },
    {
     "ename": "Interpreter Error",
     "evalue": "",
     "output_type": "error",
     "traceback": [
      "Interpreter Error: "
     ]
    }
   ],
   "source": [
    "// Doesn't work with jupyter notebook!\n",
    "// try it with VS Code or online compiler\n",
    "#include <fstream>\n",
    "#include <iostream>\n",
    "#include <string>\n",
    "\n",
    "using namespace std;\n",
    "int main() {\n",
    "    ifstream fin;\n",
    "    string line;\n",
    "    fin.open(\"README.md\");\n",
    "    if (!fin)\n",
    "        cout << \"file couldn't be opened!\" << endl;\n",
    "    else {\n",
    "        while(!fin.eof()) {\n",
    "            getline(fin, line);\n",
    "            cout << line << endl;\n",
    "        }\n",
    "    }\n",
    "    return 0;\n",
    "}"
   ]
  },
  {
   "cell_type": "markdown",
   "metadata": {},
   "source": [
    "<a href=\"format\"></a>\n",
    "## output formatting\n",
    "- iomanip - https://en.cppreference.com/w/cpp/header/iomanip\n",
    "- hex, oct, fixed and scientific formats to display float values\n",
    "- showpoints"
   ]
  },
  {
   "cell_type": "code",
   "execution_count": 52,
   "metadata": {},
   "outputs": [
    {
     "name": "stdout",
     "output_type": "stream",
     "text": [
      "19.20\n",
      "hex 16 = 0x10 oct 8 = 010\n",
      "*******hi there!*********\n"
     ]
    }
   ],
   "source": [
    "#include <iomanip>\n",
    "cout << fixed << setprecision(2) << 19.19999 << endl;\n",
    "cout << hex << showbase << \"hex 16 = \" << 16 << \" oct 8 = \" << oct << 8 << endl;\n",
    "cout << setfill('*') << setw(10) << right << \"hi \" << left << setw(15) << \"there!\" << endl;\n"
   ]
  },
  {
   "cell_type": "markdown",
   "metadata": {},
   "source": [
    "<a id='functions'></a>\n",
    "## functions\n",
    "- sub-routine/sub-program/procedure\n",
    "- burrowed from math/algebra concept: y = f(x) = 2x^2 + 3x +10\n",
    "- block of code identified by a single identifier\n",
    "- two steps: 1. define function 2. call function\n",
    "- defination syntax:\n",
    "\n",
    "```c++\n",
    "type functionName(type1 para1, type2& para2, ...) {\n",
    "    /* block of code */\n",
    "    return;\n",
    "}\n",
    "```\n",
    "- call syntax:\n",
    "```c++\n",
    "functionName(arg1, arg2, ...);\n",
    "```\n",
    "- helps break problems into sub-problems\n",
    "- helps code reuse and code abstraction (hiding implementation details)\n",
    "- function can call many other functions\n",
    "- two ways to pass data to a function: by value and by reference\n",
    "- fruitful function can return answer/value from function\n",
    "    - fruitful functions can be automatically tested\n",
    "- void functions do not return a value; values printed are usually manually tested"
   ]
  },
  {
   "cell_type": "code",
   "execution_count": 3,
   "metadata": {},
   "outputs": [],
   "source": [
    "int add(int a, int b) {\n",
    "    return a+b;\n",
    "}"
   ]
  },
  {
   "cell_type": "code",
   "execution_count": 4,
   "metadata": {},
   "outputs": [
    {
     "name": "stdout",
     "output_type": "stream",
     "text": [
      "50\n"
     ]
    }
   ],
   "source": [
    "int num1 = 100;\n",
    "int num2 = -50;\n",
    "cout << add(num1, num2) << endl;"
   ]
  },
  {
   "cell_type": "markdown",
   "metadata": {},
   "source": [
    "<a id='unittest'></a>\n",
    "## unittest\n",
    "https://en.cppreference.com/w/cpp/error/assert\n",
    "- automatic testing of functions\n",
    "- use assert function defined in assert.h or cassert library"
   ]
  },
  {
   "cell_type": "code",
   "execution_count": 5,
   "metadata": {},
   "outputs": [],
   "source": [
    "#include <cassert>\n",
    "//#include <assert.h>\n",
    "assert(add(99, 1) == 100);"
   ]
  },
  {
   "cell_type": "code",
   "execution_count": 6,
   "metadata": {},
   "outputs": [],
   "source": [
    "assert(add(100, 200) == 400); // this should give assertion error but doesn't work here...\n",
    "// try it here: https://coliru.stacked-crooked.com/"
   ]
  },
  {
   "cell_type": "markdown",
   "metadata": {},
   "source": [
    "<a id='string'></a>\n",
    "## string\n",
    "https://en.cppreference.com/w/cpp/string/basic_string\n",
    "\n",
    "### C string\n",
    "- array of characters\n",
    "- many limitations while manipulating c string\n",
    "- must learn to mitigate buffer overflow vulnerabiliy\n",
    "```c++\n",
    "    char name[20] = \"John\\0\";\n",
    "```\n",
    "\n",
    "### C++ string\n",
    "- string header file\n",
    "- not fundamental type; but ADT (Abstract Data Type); user-defined type that's part of library\n",
    "```c++\n",
    "    string name = \"John\";\n",
    "```"
   ]
  },
  {
   "cell_type": "code",
   "execution_count": 7,
   "metadata": {},
   "outputs": [],
   "source": [
    "#include <string>\n",
    "string phrase = \"There may be a needle in the stack of stack of haystacks!\";"
   ]
  },
  {
   "cell_type": "code",
   "execution_count": 8,
   "metadata": {},
   "outputs": [
    {
     "name": "stdout",
     "output_type": "stream",
     "text": [
      "57\n",
      "T\n"
     ]
    },
    {
     "data": {
      "text/plain": [
       "@0x10b922010"
      ]
     },
     "execution_count": 8,
     "metadata": {},
     "output_type": "execute_result"
    }
   ],
   "source": [
    "cout << phrase.length() << endl;\n",
    "cout << phrase[0] << endl;\n",
    "// cout << phrase.find(\"needle\", 0);\n",
    "// https://en.cppreference.com/w/cpp/string/basic_string/find"
   ]
  },
  {
   "cell_type": "code",
   "execution_count": 9,
   "metadata": {},
   "outputs": [
    {
     "name": "stdout",
     "output_type": "stream",
     "text": [
      "T h e r e   m a y   b e   a   n e e d l e   i n   t h e   s t a c k   o f   s t a c k   o f   h a y s t a c k s ! "
     ]
    }
   ],
   "source": [
    "// loop throuch each char at a time\n",
    "for (auto c: phrase)\n",
    "    cout << c << \" \";"
   ]
  },
  {
   "cell_type": "markdown",
   "metadata": {},
   "source": [
    "<a href=\"escape\"></a>\n",
    "## escape sequences\n",
    "https://en.cppreference.com/w/cpp/language/escape\n",
    "- used to represent certain special characters within string literals\n",
    "\n",
    "| character | description\n",
    "| --- | --- |\n",
    "| \\\\ | backslash \n",
    "| \\\\' | single quote\n",
    "| \\\\\" | double quote\n",
    "| \\\\n | new line - line feed\n",
    "| \\\\r | carriage return\n",
    "| \\t | horizontal tab\n",
    "| \\\\v | vertical tab\n",
    "| \\b | backspace\n"
   ]
  },
  {
   "cell_type": "code",
   "execution_count": 44,
   "metadata": {},
   "outputs": [
    {
     "name": "stdout",
     "output_type": "stream",
     "text": [
      "'"
     ]
    }
   ],
   "source": [
    "char q = '\\'';\n",
    "cout << q;"
   ]
  },
  {
   "cell_type": "code",
   "execution_count": 49,
   "metadata": {},
   "outputs": [
    {
     "name": "stdout",
     "output_type": "stream",
     "text": [
      "\"Oh no!\", exclaimed Jill. \"Jack broke my bike!\""
     ]
    }
   ],
   "source": [
    "string sent = \"\\\"Oh no!\\\", exclaimed Jill. \\\"Jack broke my bike!\\\"\";\n",
    "cout << sent;"
   ]
  },
  {
   "cell_type": "markdown",
   "metadata": {},
   "source": [
    "<a id=\"math\"></a>\n",
    "## math operations\n",
    "\n",
    " - arithmetic operators: https://en.cppreference.com/w/cpp/language/operator_arithmetic\n",
    "\n",
    "- unary operators\n",
    "\n",
    "| Operator | Symbol | Syntax | Operation |\n",
    "|--- | --- | --- | --- |\n",
    "| positive | + | +100 | positive 100 (default) |\n",
    "| negative | - | -23.45 | negative 23.45 |\n",
    "\n",
    "- binary operators\n",
    "\n",
    "| Operator | Symbol | Syntax | Operation |\n",
    "|--- | --- | --- | --- |\n",
    "| add | + | x + y | add the value of y with the value of x\n",
    "| subtract | - | x - y | subtract y from x |\n",
    "| multiply | * | x * y | multiply x by y |\n",
    "| divide | / | x / y | divide x by y (int division if x and y are both ints) |\n",
    "| modulo | % | x % y | remainder when \n",
    "\n",
    "\n",
    "- follows PEMDAS rule of precedence\n",
    "- cmath library for advanced math operations: https://en.cppreference.com/w/cpp/header/cmath\n",
    "    - ceil, floor, round, sqrt, pow, abs, log, sin, cos, tan\n",
    "- bitwise operators: https://www.learncpp.com/cpp-tutorial/38-bitwise-operators/\n",
    "\n",
    "| Operator | Symbol | Syntax |\tOperation |\n",
    "|------| ------ | ---- | ---- |\n",
    "|bitwise left shift\t| << |\tx << y\t| all bits in x shifted left y bits; multiplication by 2\n",
    "|bitwise right shift |\t>> | x >> y\t| all bits in x shifted right y bits; division by 2\n",
    "bitwise NOT\t| ~\t| ~x\t| all bits in x flipped\n",
    "|bitwise AND |\t& |\tx & y |\teach bit in x AND each bit in y\n",
    "|bitwise OR\t| \\| |\tx \\| y\t| each bit in x OR each bit in y\n",
    "bitwise XOR |\t^ |\tx ^ y |\teach bit in x XOR each bit in y"
   ]
  },
  {
   "cell_type": "code",
   "execution_count": 10,
   "metadata": {},
   "outputs": [
    {
     "name": "stdout",
     "output_type": "stream",
     "text": [
      " bitwise and &\n",
      "1\n",
      "0\n",
      "0\n",
      "0\n",
      "bitwise or | \n",
      "1\n",
      "1\n",
      "1\n",
      "0\n",
      "bitwise not ~\n",
      "-2\n",
      "-1\n",
      "xor ^\n",
      "0\n",
      "1\n",
      "1\n",
      "0\n"
     ]
    }
   ],
   "source": [
    "cout << \" bitwise and &\" << endl;\n",
    "cout << (1 & 1) << endl;\n",
    "cout << (1 & 0) << endl;\n",
    "cout << (0 & 1) << endl;\n",
    "cout << (0 & 0) << endl;\n",
    "cout << \"bitwise or | \" << endl;\n",
    "cout << (1 | 1) << endl;\n",
    "cout << (1 | 0) << endl;\n",
    "cout << (0 | 1) << endl;\n",
    "cout << (0 | 0) << endl;\n",
    "cout << \"bitwise not ~\" << endl;\n",
    "cout << ~(1|1) << endl;\n",
    "cout << ~0 << endl;\n",
    "cout << \"xor ^\" << endl;\n",
    "cout << (1 ^ 1) << endl;\n",
    "cout << (1 ^ 0) << endl;\n",
    "cout << (0 ^ 1) << endl;\n",
    "cout << (0 ^ 0) << endl;"
   ]
  },
  {
   "cell_type": "code",
   "execution_count": 11,
   "metadata": {},
   "outputs": [
    {
     "name": "stdout",
     "output_type": "stream",
     "text": [
      "1024\n",
      "1\n"
     ]
    }
   ],
   "source": [
    "cout << (1 << 10) << endl;\n",
    "cout << (1024 >> 10) << endl; "
   ]
  },
  {
   "cell_type": "markdown",
   "metadata": {},
   "source": [
    "<a id='conditionals'></a>\n",
    "## conditionals - control flow\n",
    "- select a block of code to execute based on some condition\n",
    "- add logic to the code as if your code is thinking and making a decision\n",
    "- use boolean expression that evaluates to true or false\n",
    "- use comparision operators ( == , != , <=, >= ) to compare values/expressions that will provide true or false or (yes or no) result\n",
    "- use logical operators (&&, ||) to formulate compound logical expression\n",
    "- three types: \n",
    "    1. one-way selector\n",
    "    2. two-way selector\n",
    "    3. multi-way selector\n",
    "- one selector type can be nested inside another!\n",
    "\n",
    "<a id='oneway'></a>\n",
    "### one way selector \n",
    "\n",
    "```c++\n",
    "if (expression == true) {\n",
    "  /* execute code... */   \n",
    "}\n",
    "```"
   ]
  },
  {
   "cell_type": "code",
   "execution_count": 12,
   "metadata": {},
   "outputs": [
    {
     "name": "stdout",
     "output_type": "stream",
     "text": [
      "done!"
     ]
    },
    {
     "data": {
      "text/plain": [
       "@0x10b922010"
      ]
     },
     "execution_count": 12,
     "metadata": {},
     "output_type": "execute_result"
    }
   ],
   "source": [
    "// one way selector\n",
    "bool execute = false;\n",
    "if (execute)\n",
    "    cout << \"this block executed!\" << endl;\n",
    "\n",
    "cout << \"done!\""
   ]
  },
  {
   "cell_type": "markdown",
   "metadata": {},
   "source": [
    "<a id='twoway'></a>\n",
    "### two way selector\n",
    "\n",
    "```c++\n",
    "if (expression == true) {\n",
    "    /* execute this block */\n",
    "}\n",
    "else {\n",
    "    /* otherwise, execute this block */\n",
    "}\n",
    "```"
   ]
  },
  {
   "cell_type": "code",
   "execution_count": 13,
   "metadata": {},
   "outputs": [],
   "source": [
    "// two way selector\n",
    "// test if a given number is even or odd\n",
    "bool isEven(int n) {\n",
    "    if (n%2 == 0) \n",
    "        return true;\n",
    "    else \n",
    "        return false;\n",
    "}"
   ]
  },
  {
   "cell_type": "code",
   "execution_count": 14,
   "metadata": {},
   "outputs": [],
   "source": [
    "int someNum;"
   ]
  },
  {
   "cell_type": "code",
   "execution_count": 15,
   "metadata": {},
   "outputs": [
    {
     "name": "stdout",
     "output_type": "stream",
     "text": [
      "11 is odd!"
     ]
    }
   ],
   "source": [
    "someNum = 11;\n",
    "if (isEven(someNum))\n",
    "    cout << someNum << \" is even!\";\n",
    "else\n",
    "    cout << someNum << \" is odd!\";"
   ]
  },
  {
   "cell_type": "markdown",
   "metadata": {},
   "source": [
    "<a id='multiway'></a>\n",
    "### multi-way selector\n",
    "\n",
    "```c++\n",
    "if (expression1 == true) {\n",
    "    /* execute this block */\n",
    "}\n",
    "else if (expression2 == true) {\n",
    "    /* execute this block */\n",
    "}\n",
    "else if (expression3 == true) {\n",
    "    /* execute this block */\n",
    "}\n",
    "...\n",
    "else {\n",
    "   /* if no condition is evaluated true, by default execute\n",
    "   this block */\n",
    "}\n",
    "```"
   ]
  },
  {
   "cell_type": "code",
   "execution_count": 16,
   "metadata": {},
   "outputs": [],
   "source": [
    "int day;"
   ]
  },
  {
   "cell_type": "code",
   "execution_count": 17,
   "metadata": {},
   "outputs": [
    {
     "name": "stdout",
     "output_type": "stream",
     "text": [
      "Sunday\n",
      "Yay!! it's a weekend!\n",
      "done...\n"
     ]
    }
   ],
   "source": [
    "// multiway selector\n",
    "day = 0;\n",
    "if (day == 0) {\n",
    "    cout << \"Sunday\" << endl;\n",
    "    cout << \"Yay!! it's a weekend!\\n\";\n",
    "}\n",
    "else if (day == 1)\n",
    "    cout << \"Monday\";\n",
    "else if (day == 2)\n",
    "    cout << \"Tuesday\";\n",
    "else if (day == 3)\n",
    "    cout << \"Wednesday\";\n",
    "else if (day == 4)\n",
    "    cout << \"Thursday\";\n",
    "else if (day == 5) {\n",
    "    cout << \"Friday\";\n",
    "    cout << \"Almost weekend!\";\n",
    "}\n",
    "else {\n",
    "    cout << \"Saturday\" << endl;\n",
    "    cout << \"Yay!! it's a weekend!\\n\";\n",
    "}\n",
    "cout << \"done...\" << endl;"
   ]
  },
  {
   "cell_type": "markdown",
   "metadata": {},
   "source": [
    "<a id='switch'></a>\n",
    "### swtich statment \n",
    "https://en.cppreference.com/w/cpp/language/switch\n",
    "- works on integral data/expression to compare its value with many cases\n",
    "- similar to multi-way selector are more efficient and adds readability\n",
    "\n",
    "```c++\n",
    "switch (expression) {\n",
    "    case value1:\n",
    "        //...\n",
    "        break;\n",
    "    case value2:\n",
    "    case value3:\n",
    "        //...\n",
    "        break;\n",
    "    default:\n",
    "        //...\n",
    "}\n",
    "```"
   ]
  },
  {
   "cell_type": "code",
   "execution_count": 18,
   "metadata": {},
   "outputs": [],
   "source": [
    "enum Colors\n",
    "{\n",
    "    COLOR_BLACK,\n",
    "    COLOR_WHITE,\n",
    "    COLOR_RED,\n",
    "    COLOR_GREEN,\n",
    "    COLOR_BLUE\n",
    "};"
   ]
  },
  {
   "cell_type": "code",
   "execution_count": 19,
   "metadata": {},
   "outputs": [],
   "source": [
    "void printColor(Colors color) {\n",
    "    switch (color) {\n",
    "        case COLOR_BLACK:\n",
    "            std::cout << \"Black\";\n",
    "            break;\n",
    "        case COLOR_WHITE:\n",
    "            std::cout << \"White\";\n",
    "            break;\n",
    "        case COLOR_RED:\n",
    "            std::cout << \"Red\";\n",
    "            break;\n",
    "        case COLOR_GREEN:\n",
    "            std::cout << \"Green\";\n",
    "            break;\n",
    "        case COLOR_BLUE:\n",
    "            std::cout << \"Blue\";\n",
    "            break;\n",
    "        default:\n",
    "            std::cout << \"Unknown\";\n",
    "            break;\n",
    "    }\n",
    "}"
   ]
  },
  {
   "cell_type": "code",
   "execution_count": 20,
   "metadata": {},
   "outputs": [],
   "source": [
    "Colors favColor;"
   ]
  },
  {
   "cell_type": "code",
   "execution_count": 21,
   "metadata": {},
   "outputs": [
    {
     "name": "stdout",
     "output_type": "stream",
     "text": [
      "Black"
     ]
    }
   ],
   "source": [
    "favColor = COLOR_BLACK;\n",
    "printColor(favColor);"
   ]
  },
  {
   "cell_type": "markdown",
   "metadata": {},
   "source": [
    "<a id='loop'></a>\n",
    "## loops  - control flows\n",
    "- repeatedly execute a block of code over-again with a different result\n",
    "- be careful of infinite loop!\n",
    "- `break` and `continue` keywords can be used inside loop\n",
    "    - `break` : breaks the loop immidiately ignoring all the trailing codes and execution continues after loop body\n",
    "    - `continue` : continues to the next iteration ignoring all the trailing codes inside loop\n",
    "- four types of loop structures\n",
    "   1. for loop\n",
    "   2. range based for loop\n",
    "   3. while loop\n",
    "   4. do while"
   ]
  },
  {
   "cell_type": "markdown",
   "metadata": {},
   "source": [
    "<a id='for'></a>\n",
    "### for loop\n",
    "https://en.cppreference.com/w/cpp/language/for\n",
    "```c++\n",
    "for(init; condition; update) {\n",
    "    // statements\n",
    "}\n",
    "```\n",
    "- order of execution: \n",
    "    1. init; only one\n",
    "    2. condition\n",
    "    3. statements\n",
    "    4. update\n",
    "    5. repeat from step 2"
   ]
  },
  {
   "cell_type": "code",
   "execution_count": 22,
   "metadata": {},
   "outputs": [
    {
     "name": "stdout",
     "output_type": "stream",
     "text": [
      "2 4 6 8 10 12 14 16 18 20 "
     ]
    }
   ],
   "source": [
    "for (int i=1; i<=20; i++) {\n",
    "    if (i%2 == 0)\n",
    "        cout << i << \" \";\n",
    "    //if (i == )\n",
    "    \n",
    "}"
   ]
  },
  {
   "cell_type": "markdown",
   "metadata": {},
   "source": [
    "<a id='range'></a>\n",
    "### range-based for loop\n",
    "https://en.cppreference.com/w/cpp/language/range-for\n",
    "```c++\n",
    "for(range_declaraion: range_expression) {\n",
    "    // statements\n",
    "}\n",
    "```"
   ]
  },
  {
   "cell_type": "code",
   "execution_count": 23,
   "metadata": {},
   "outputs": [
    {
     "name": "stdout",
     "output_type": "stream",
     "text": [
      "1 2 3 4 100 "
     ]
    }
   ],
   "source": [
    "for (auto num: {1, 2, 3, 4, 100})\n",
    "    cout << num << \" \";"
   ]
  },
  {
   "cell_type": "code",
   "execution_count": 24,
   "metadata": {},
   "outputs": [
    {
     "name": "stdout",
     "output_type": "stream",
     "text": [
      "H*e*l*l*o* *W*o*r*l*d*\u0000*"
     ]
    }
   ],
   "source": [
    "for (char ch: \"Hello World\")\n",
    "    cout << ch << \"*\";\n"
   ]
  },
  {
   "cell_type": "markdown",
   "metadata": {},
   "source": [
    "<a id='while'></a>\n",
    "### while loop\n",
    "https://en.cppreference.com/w/cpp/language/while\n",
    "- Executes statement(s) repeatedly, until the value of condition becomes false. \n",
    "- The test takes place before each iteration.\n",
    "\n",
    "```c++\n",
    "while (condition) {\n",
    "    // statements\n",
    "}\n",
    "```"
   ]
  },
  {
   "cell_type": "code",
   "execution_count": 25,
   "metadata": {},
   "outputs": [],
   "source": [
    "int MAX;;\n",
    "int i;"
   ]
  },
  {
   "cell_type": "code",
   "execution_count": 26,
   "metadata": {},
   "outputs": [
    {
     "name": "stdout",
     "output_type": "stream",
     "text": [
      "0 2 4 6 8 10 12 14 16 18 20 "
     ]
    }
   ],
   "source": [
    "MAX = 20;\n",
    "i = 0;\n",
    "while (i <= MAX) {\n",
    "    if (i%2 == 0) \n",
    "        cout << i << \" \";\n",
    "    i += 1; // DO NOT FORGET TO UPDATE LOOP VARIABLE TO AVOID INFINITE LOOP!!!\n",
    "}"
   ]
  },
  {
   "cell_type": "markdown",
   "metadata": {},
   "source": [
    "<a id='dowhile'></a>\n",
    "### do while loop\n",
    "https://en.cppreference.com/w/cpp/language/do\n",
    "- executes statement(s) repeatedly, until the value of condition becomes false. \n",
    "- the test takes place after each iteration.\n",
    "\n",
    "```c++\n",
    "do {\n",
    "    // statements\n",
    "} while (condition);\n",
    "```"
   ]
  },
  {
   "cell_type": "code",
   "execution_count": 27,
   "metadata": {},
   "outputs": [],
   "source": [
    "int MAX_TIMES;\n",
    "int times;"
   ]
  },
  {
   "cell_type": "code",
   "execution_count": 28,
   "metadata": {},
   "outputs": [
    {
     "name": "stdout",
     "output_type": "stream",
     "text": [
      "0 "
     ]
    }
   ],
   "source": [
    "// DO NOT run do while... crashes kernel\n",
    "times = 0;\n",
    "MAX_TIMES = 20;\n",
    "do {\n",
    "    cout << times << \" \";\n",
    "    times ++; // DO NOT FORGET TO UPDATE LOOP VARIABLE TO AVOID INFINITE LOOP!!!\n",
    "    break;\n",
    "} while(times <= MAX_TIMES);"
   ]
  },
  {
   "cell_type": "markdown",
   "metadata": {},
   "source": [
    "<a id='array'></a>\n",
    "## array\n",
    "- container that stores 1 or more similar data called elements\n",
    "- use array when you need to store large number of data values as declaring individual variable for each variable is not desireable or not even possible!\n",
    "- size of the array has to be known and is fixed\n",
    "- use 0-based index to access each element stored in array\n",
    "- array is passed by reference ONLY to a function\n",
    "- array can't be returned from a function\n",
    "- aggregate operations such as IO, assignment, comparision are not allowed\n",
    "- syntax:\n",
    "```c++\n",
    "type arrayName[const_size];\n",
    "```"
   ]
  },
  {
   "cell_type": "code",
   "execution_count": 29,
   "metadata": {},
   "outputs": [],
   "source": [
    "int tests[10];\n",
    "float prices[] = {1, 2, 3, 100.99};\n",
    "string names[2] = {\"John\", \"James\"};"
   ]
  },
  {
   "cell_type": "code",
   "execution_count": 30,
   "metadata": {},
   "outputs": [
    {
     "data": {
      "text/plain": [
       "{ 0, 0, 0, 0, 0, 0, 0, 0, 0, 0 }"
      ]
     },
     "execution_count": 30,
     "metadata": {},
     "output_type": "execute_result"
    }
   ],
   "source": [
    "tests"
   ]
  },
  {
   "cell_type": "code",
   "execution_count": 31,
   "metadata": {},
   "outputs": [
    {
     "data": {
      "text/plain": [
       "{ 1f, 2f, 3f, 100.99f }"
      ]
     },
     "execution_count": 31,
     "metadata": {},
     "output_type": "execute_result"
    }
   ],
   "source": [
    "prices"
   ]
  },
  {
   "cell_type": "code",
   "execution_count": 32,
   "metadata": {},
   "outputs": [
    {
     "data": {
      "text/plain": [
       "{ \"John\", \"James\" }"
      ]
     },
     "execution_count": 32,
     "metadata": {},
     "output_type": "execute_result"
    }
   ],
   "source": [
    "names"
   ]
  },
  {
   "cell_type": "code",
   "execution_count": 33,
   "metadata": {},
   "outputs": [
    {
     "data": {
      "text/plain": [
       "{ 100, 0, 0, 0, 0, 0, 0, 0, 0, 75 }"
      ]
     },
     "execution_count": 33,
     "metadata": {},
     "output_type": "execute_result"
    }
   ],
   "source": [
    "tests[0] = 100;\n",
    "tests[9] = 75;\n",
    "tests"
   ]
  },
  {
   "cell_type": "code",
   "execution_count": 34,
   "metadata": {},
   "outputs": [
    {
     "name": "stderr",
     "output_type": "stream",
     "text": [
      "\u001b[1minput_line_53:2:9: \u001b[0m\u001b[0;1;31merror: \u001b[0m\u001b[1marray type 'float [4]' is not assignable\u001b[0m\n",
      " prices = {2, 3, 4, 5}\n",
      "\u001b[0;1;32m ~~~~~~ ^\n",
      "\u001b[0m"
     ]
    },
    {
     "ename": "Interpreter Error",
     "evalue": "",
     "output_type": "error",
     "traceback": [
      "Interpreter Error: "
     ]
    }
   ],
   "source": [
    "prices = {2, 3, 4, 5}"
   ]
  },
  {
   "cell_type": "code",
   "execution_count": 35,
   "metadata": {},
   "outputs": [
    {
     "name": "stderr",
     "output_type": "stream",
     "text": [
      "\u001b[1minput_line_54:2:10: \u001b[0m\u001b[0;1;35mwarning: \u001b[0m\u001b[1marray index 10 is past the end of the array (which contains 4 elements) [-Warray-bounds]\u001b[0m\n",
      " cout << prices[10] << endl;\n",
      "\u001b[0;1;32m         ^      ~~\n",
      "\u001b[0m\u001b[1minput_line_43:3:1: \u001b[0m\u001b[0;1;30mnote: \u001b[0marray 'prices' declared here\u001b[0m\n",
      "float prices[] = {1, 2, 3, 100.99};\n",
      "\u001b[0;1;32m^\n",
      "\u001b[0m"
     ]
    },
    {
     "name": "stdout",
     "output_type": "stream",
     "text": [
      "0.00\n"
     ]
    }
   ],
   "source": [
    "cout << prices[10] << endl;"
   ]
  },
  {
   "cell_type": "code",
   "execution_count": 36,
   "metadata": {},
   "outputs": [],
   "source": [
    "int matrix[4][4] = {{1, 2, 3, 4}, {10, 20, 30, 40}, {100, 200, 300, 400}, {1, 1, 1, 1}};"
   ]
  },
  {
   "cell_type": "code",
   "execution_count": 37,
   "metadata": {},
   "outputs": [
    {
     "data": {
      "text/plain": [
       "{ { 1, 2, 3, 4 }, { 10, 20, 30, 40 }, { 100, 200, 300, 400 }, { 1, 1, 1, 1 } }"
      ]
     },
     "execution_count": 37,
     "metadata": {},
     "output_type": "execute_result"
    }
   ],
   "source": [
    "matrix"
   ]
  },
  {
   "cell_type": "code",
   "execution_count": 38,
   "metadata": {},
   "outputs": [
    {
     "data": {
      "text/plain": [
       "100"
      ]
     },
     "execution_count": 38,
     "metadata": {},
     "output_type": "execute_result"
    }
   ],
   "source": [
    "matrix[0][0] = matrix[2][0]*matrix[3][0]"
   ]
  },
  {
   "cell_type": "code",
   "execution_count": 39,
   "metadata": {},
   "outputs": [
    {
     "data": {
      "text/plain": [
       "{ { 100, 2, 3, 4 }, { 10, 20, 30, 40 }, { 100, 200, 300, 400 }, { 1, 1, 1, 1 } }"
      ]
     },
     "execution_count": 39,
     "metadata": {},
     "output_type": "execute_result"
    }
   ],
   "source": [
    "matrix"
   ]
  },
  {
   "cell_type": "code",
   "execution_count": 40,
   "metadata": {},
   "outputs": [
    {
     "name": "stdout",
     "output_type": "stream",
     "text": [
      "[ 100, 2, 3, 4, ]\n",
      "[ 10, 20, 30, 40, ]\n",
      "[ 100, 200, 300, 400, ]\n",
      "[ 1, 1, 1, 1, ]\n"
     ]
    }
   ],
   "source": [
    "for(int i=0; i<4; i++) {\n",
    "    cout << \"[ \";\n",
    "    for(int j=0; j< 4; j++) {\n",
    "        cout << matrix[i][j] << \", \";\n",
    "    }\n",
    "    cout << \"]\" << endl;\n",
    "}"
   ]
  },
  {
   "cell_type": "code",
   "execution_count": null,
   "metadata": {},
   "outputs": [],
   "source": []
  }
 ],
 "metadata": {
  "kernelspec": {
   "display_name": "C++14",
   "language": "C++14",
   "name": "xeus-cling-cpp14"
  },
  "language_info": {
   "codemirror_mode": "text/x-c++src",
   "file_extension": ".cpp",
   "mimetype": "text/x-c++src",
   "name": "c++",
   "version": "-std=c++14"
  }
 },
 "nbformat": 4,
 "nbformat_minor": 2
}
