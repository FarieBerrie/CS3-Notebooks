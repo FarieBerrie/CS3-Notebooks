{
 "cells": [
  {
   "cell_type": "markdown",
   "metadata": {},
   "source": [
    "# Shortest-Paths Problems\n",
    "https://opendsa-server.cs.vt.edu/ODSA/Books/CS3/html/GraphShortest.html\n",
    "\n",
    "### Table of Contents\n",
    "- **[Shortest-Paths Problems](#problems)**<br>\n",
    "- **[Single Source Shortest Paths](#sssp)**<br>\n",
    "- **[Dijkstra's Algorithm](#diajkstra)**<br>"
   ]
  },
  {
   "cell_type": "markdown",
   "metadata": {},
   "source": [
    "## Shortest-Path Problems\n",
    "- modeling road networks to find shortest path from point A to point B\n",
    "- road networks can be modeled as a directed graph whose edges are labeled with real numbers\n",
    "    - labels may be called weights, costs, or distances\n",
    "- a typical problem is to find the total length of the shortest path between two specified vertices\n",
    "- see figure below, e.g.:\n",
    "    - $w = $ weight\n",
    "    - $d = $ shortest path\n",
    "    - $w(A, D) = 20$\n",
    "    - $d(A, D) = 10$\n",
    "    - $w(E, B) = \\infty$\n",
    "- assume that all weights are positive\n",
    "\n",
    "<img src=\"./resources/sssp.png\">"
   ]
  },
  {
   "cell_type": "markdown",
   "metadata": {},
   "source": [
    "## Single-Source Shortest Paths (SSSP)\n",
    "- given vertex $S$ in Graph $G$, find the shortest paths from $S$ to every other vertex in $G$\n",
    "- finding the shortest path from $S$ to $T$ requires us to find the shortest paths from $S$ to every other vertex as well (in the worst case)\n",
    "- algorithm presented here computes only the distance to every vertex rather than recording the actual path\n",
    "- path can be recorded and printed by remembering parent vertex for each vertex using a vector (left as an exercise)\n",
    "\n",
    "### Applications\n",
    "- find the cheapest way for one computer to broadcast a message to all other computers on a computer network\n",
    "- find the fastest route from point A to point B\n",
    "- find the cheapest flight from point A to point B\n",
    "\n",
    "### SSSP for Unweighted Graphs\n",
    "- SSSP for unweighted graphs (or all edges with same cost) can be found using a simple breadth-first search\n",
    "\n",
    "### SSSP for Weighted Graphs\n",
    "- use Dijkstra's algorithm\n",
    "    - assumes weights are positive values"
   ]
  },
  {
   "cell_type": "markdown",
   "metadata": {},
   "source": [
    "## Dijkstra's SSSP Algorithm\n",
    "https://en.wikipedia.org/wiki/Dijkstra%27s_algorithm\n",
    "<img src=\"resources/Dijkstra_Animation.gif\">\n",
    "- given a graph $G = (V, E)$:\n",
    "- shortest path from $A$ to $B$: $d(A, B) = min(d(A, U)) + w(U, B)$\n",
    "    - $d(A, B)$ is the minimum over all paths that go from $A$ to $U$, then have an edge from $U$ to $B$, where $U$ is some vertex in $V$. \n",
    "- Diajkstra's algorithm will assign some initial distance values and will try to improve them step by step\n",
    "\n",
    "- algorithms steps:\n",
    "    1. create a set of all the **unvisited nodes**\n",
    "    2. assign every node a tentative distance value using array: $0$ for start vertex, $\\infty$ for all other nodes\n",
    "    3. for each node, consider all of its unvisited neighbors and calculate their tentative distances through the current node, update the distance with the smaller value\n",
    "        e.g., if the current node $A$ is marked with a distance of $6$ and the edge connecting it with a neighbor $B$ has length $2$, then the distance to $B$ through $A$ is $6+2=8$. If $B$'s current distance is greater than $8$, then update it to $8$\n",
    "    4. when done considering all the unvisited neighbors of the current node, mark the current node as visited and remove it from the **unvisited set**\n",
    "    5. select the next unvisited node that has the smallest tentative distance, and repeat from step 3\n",
    "    - at the end, array created in step 2 will contain the shortest distance values \n",
    "    \n",
    "<img src=\"./resources/Dijkstras_progress_animation.gif\">\n",
    "\n",
    "### visualize Dijkstra's SSSP algorithm here: https://opendsa-server.cs.vt.edu/ODSA/Books/CS3/html/GraphShortest.html"
   ]
  },
  {
   "cell_type": "code",
   "execution_count": 1,
   "metadata": {},
   "outputs": [],
   "source": [
    "#include <iostream>\n",
    "#include <vector>\n",
    "#include <queue> // priority_queue\n",
    "#include <climits> // sizes of integral types\n",
    "#include <utility> // make_pair\n",
    "#include <list>\n",
    "#include <algorithm>\n",
    "\n",
    "using namespace std;\n",
    "using iPair = pair<int, int>;"
   ]
  },
  {
   "cell_type": "code",
   "execution_count": 2,
   "metadata": {},
   "outputs": [],
   "source": [
    "// finds SSSP to all the nodes from given source\n",
    "// can be modified to find shortest path to a single destination\n",
    "// see Single Destination comment below\n",
    "template<class T>\n",
    "void Dijkstra(T & G, int source, vector<int>& dist) {\n",
    "    // min priority_queue of vertices that need to be processed\n",
    "    // stores pair of <weight, vertex>\n",
    "    priority_queue<iPair, vector<iPair>, greater<iPair> > pq;\n",
    "    dist.resize(G.nodeCount());\n",
    "    fill(dist.begin(), dist.end(), INT_MAX);\n",
    "    vector<bool> visited(G.nodeCount(), false);\n",
    "    dist[source] = 0;\n",
    "    pq.push({0, source}); // {weight, vertex}\n",
    "    while (! pq.empty()) {\n",
    "        int u = pq.top().second;\n",
    "        pq.pop();\n",
    "        // Single Destination:\n",
    "        // if interested to find the path to one destination\n",
    "        // check here if u == dest node; break if so\n",
    "        if (visited[u]) continue;\n",
    "        visited[u] = true;\n",
    "        for(auto p: G.neighbors(u)) {\n",
    "            int v = p.first;\n",
    "            if (visited[v]) continue;\n",
    "            int w = p.second;\n",
    "            // if there's a shorter path to v through u\n",
    "            int d = dist[u] + w;\n",
    "            if (d < dist[v]) {\n",
    "                dist[v] = d;\n",
    "                pq.push({d, v});\n",
    "            }\n",
    "        }\n",
    "    }\n",
    "}"
   ]
  },
  {
   "cell_type": "markdown",
   "metadata": {},
   "source": [
    "## Representing Graph using Adjacency List"
   ]
  },
  {
   "cell_type": "code",
   "execution_count": 3,
   "metadata": {},
   "outputs": [],
   "source": [
    "// Directed Graph using Adjacency List\n",
    "// updae addEdge() for Undirected Graph\n",
    "class Graph {\n",
    "    private:\n",
    "        vector<list<iPair> > graph; // list stores pair of neighbor id and weight\n",
    "    \n",
    "    public:\n",
    "        Graph(size_t n) {\n",
    "            for (int i=0; i<n; i++) {\n",
    "                list<iPair> v; // create an empty list of int, int pair type\n",
    "                graph.push_back(v);\n",
    "            }\n",
    "        }\n",
    "    \n",
    "        // return the number of vertices/nodes\n",
    "        size_t nodeCount() {\n",
    "            return graph.size();\n",
    "        }\n",
    "        \n",
    "        // add a new edge from node u to node v, with weight w\n",
    "        // assumes nodes are numbered from 0 to n-1\n",
    "        void addEdge(int u, int v, int w) {\n",
    "            graph[u].push_back({v, w});\n",
    "            // if undirected graph must add edge from v to u\n",
    "            // graph[v].push_bck({u, w}); \n",
    "        }\n",
    "\n",
    "        // returns list of pairs containing neighbors of u, and weight\n",
    "        list<iPair> neighbors(int u) {\n",
    "            return graph[u];\n",
    "        }\n",
    "};"
   ]
  },
  {
   "cell_type": "markdown",
   "metadata": {},
   "source": [
    "<img src=\"./resources/sssp.png\">"
   ]
  },
  {
   "cell_type": "code",
   "execution_count": 4,
   "metadata": {},
   "outputs": [],
   "source": [
    "// represent undirected graph shown in above diagram\n",
    "// A->0, B->1, C->2, D->3, E->4\n",
    "Graph graph(5);\n",
    "vector<int> dist;"
   ]
  },
  {
   "cell_type": "code",
   "execution_count": 5,
   "metadata": {},
   "outputs": [],
   "source": [
    "graph.addEdge(0, 1, 10);\n",
    "graph.addEdge(0, 3, 20);\n",
    "graph.addEdge(0, 2, 3);\n",
    "graph.addEdge(1, 3, 5);\n",
    "graph.addEdge(2, 1, 2);\n",
    "graph.addEdge(2, 4, 15);\n",
    "graph.addEdge(3, 4, 11);"
   ]
  },
  {
   "cell_type": "code",
   "execution_count": 6,
   "metadata": {},
   "outputs": [],
   "source": [
    "Dijkstra<Graph>(graph, 0, dist);"
   ]
  },
  {
   "cell_type": "code",
   "execution_count": 7,
   "metadata": {},
   "outputs": [
    {
     "name": "stdout",
     "output_type": "stream",
     "text": [
      "shortest distances from source 0 to all the nodes are:\n",
      "0 ~~> 0 = 0\n",
      "0 ~~> 1 = 5\n",
      "0 ~~> 2 = 3\n",
      "0 ~~> 3 = 10\n",
      "0 ~~> 4 = 18\n"
     ]
    }
   ],
   "source": [
    "cout << \"shortest distances from source 0 to all the nodes are:\\n\";\n",
    "for (int i=0; i< dist.size(); i++)\n",
    "    cout << \"0 ~~> \" << i << \" = \" << dist[i] << \"\\n\";"
   ]
  },
  {
   "cell_type": "markdown",
   "metadata": {},
   "source": [
    "## Exercises\n",
    "1. Practice how Dijkstra's algorithm works using simulation at the end of: https://opendsa-server.cs.vt.edu/ODSA/Books/CS3/html/GraphShortest.html\n",
    "- George - https://open.kattis.com/problems/george\n",
    "    - SSSP with extra weight time for some edge\n",
    "    - SSSP to a single destination\n",
    "- Single source shortest path, non-negative weights: https://open.kattis.com/problems/shortestpath1\n",
    "- Tweak Dijkstra's algorithm to record path so that you can print shortest path from source to all other nodes\n",
    "- Apply Dijkstra's algorithm to adjacency matrix-based graph\n",
    "- Tweak Dijkstra's algoirithm to find shortest path to a single destination and test it"
   ]
  },
  {
   "cell_type": "code",
   "execution_count": null,
   "metadata": {},
   "outputs": [],
   "source": []
  }
 ],
 "metadata": {
  "kernelspec": {
   "display_name": "C++14",
   "language": "C++14",
   "name": "xcpp14"
  },
  "language_info": {
   "codemirror_mode": "text/x-c++src",
   "file_extension": ".cpp",
   "mimetype": "text/x-c++src",
   "name": "c++",
   "version": "-std=c++14"
  }
 },
 "nbformat": 4,
 "nbformat_minor": 2
}
