{
 "cells": [
  {
   "cell_type": "markdown",
   "metadata": {},
   "source": [
    "# Sorting\n",
    "https://opendsa-server.cs.vt.edu/ODSA/Books/CS3/html/InSort.html\n",
    "- visualize sorting algorithms and other data structures: \n",
    "    - https://visualgo.net/en/sorting\n",
    "    - https://www.cs.usfca.edu/~galles/visualization/ComparisonSort.html\n",
    "\n",
    "## Table of Contents\n",
    "- **[Introduction](#intro)** <br>\n",
    "- **[Exchange Sorting](#exchange)**<br>\n",
    "    - **[Bubble Sort](#exchange)** <br>\n",
    "    - **[Bubble Sort - Asymptotic Analysis](#bubbleanalysis)** <br>\n",
    "    - **[Selection Sort](#selection)** <br>\n",
    "    - **[Selection Sort - Asymptotic Analysis](#selectionanalysis)** <br>\n",
    "    - **[Insertion Sort](#insertion)** <br>\n",
    "    - **[Insertion Sort - Asymptotic Analysis](#insertionanalysis)** <br>\n",
    "- **[Divide & Conquer Sorting](#divide)** <br>\n",
    "    - **[Shellsort](#shell)** <br>\n",
    "    - **[Shellsort - Asymptotic Analysis](#shellanalysis)**<br> \n",
    "    - **[Mergesort](#merge)** <br>\n",
    "    - **[Mergesort - Asymptotic Analysis](#mergeanalysis)**<br>\n",
    "    - **[Quicksort](#quick)**<br>\n",
    "    - **[Quicksort - Asymptotic Analysis](#quickanalysis)**<br>\n",
    "\n",
    "    "
   ]
  },
  {
   "cell_type": "markdown",
   "metadata": {},
   "source": [
    "<a id=\"intro\"></a>"
   ]
  },
  {
   "cell_type": "markdown",
   "metadata": {},
   "source": [
    "## Sorting - Introduction\n",
    "- sort is a common task in daily lives: sorting playing cards; bills and piles of papers, books; jars of spices, etc.\n",
    "- sort is one of the most frequently performed computing tasks\n",
    "    - sort records in database\n",
    "    - lot of problems require sorting to quickly find and shift through and work with data\n",
    "- many algorithms have been devised\n",
    "    - each may perform well on a particular type of data or problem\n",
    "    - introduce us the technique of `divide and conquer`\n",
    "    - introduce us the multiple ways to do the dividing\n",
    "\n",
    "## Sorting problem\n",
    "- given a range of values or records $r_1, r_2, ..., r_n$ with associated key values $k_1, k_2, ..., k_3$, the sorting problem is to arrange the records into any order $s$ such that the records $r_{s1}, r_{s2}, ..., r_{s3}$ have keys obeying the property $k_{s1} \\leq k_{s2} \\leq ... \\leq k_{sn}$\n",
    "- **stable sort** - if duplicate keys are allowed in the problem data then the initial ordering among duplicates are maintained\n",
    "\n",
    "\n",
    "## Analyzing sort algorithms\n",
    "- it is traditional to measure the cost by counting the number of comparisons made between keys\n",
    "    - measure is usually closely related to the actual running time for the algorithm\n",
    "    - has the advantage of being machine and data-type independent\n",
    "- if the records being sorted are too large to move, it may be appropriate to count the number of swap operations\n",
    "- generally, we can assume that all records and keys are of fixed length, and that a single comparison or swap requires a constant amount of time regardless the data type of keys\n",
    "- if applications require  that a small number of records be sorted frequently, the constants in the running time equations that usually get ignored in asymptotic analysis now become crucial\n",
    "- some sorting algorithm may require significant extra memory beyond the input sequence"
   ]
  },
  {
   "cell_type": "markdown",
   "metadata": {},
   "source": [
    "### Question:\n",
    "In which case might the number of comparisons NOT be a good representation of the cost for a sorting algorithm?\n",
    "1. When the CPU is really fast\n",
    "2. When the amount of available space is small\n",
    "3. When there are lots of records\n",
    "4. When we are comparing strings of widely varying length"
   ]
  },
  {
   "cell_type": "markdown",
   "metadata": {},
   "source": [
    "## header includes required for this notebook & helper functions"
   ]
  },
  {
   "cell_type": "code",
   "execution_count": 1,
   "metadata": {},
   "outputs": [],
   "source": [
    "#include <iostream>\n",
    "#include <string>\n",
    "#include <vector>\n",
    "#include <random>\n",
    "#include <cstdlib>\n",
    "#include <iterator>\n",
    "\n",
    "using namespace std;"
   ]
  },
  {
   "cell_type": "code",
   "execution_count": 2,
   "metadata": {},
   "outputs": [],
   "source": [
    "// operator<< overloaded to print a vector\n",
    "template<class T>\n",
    "ostream& operator<<(ostream& out, const vector<T>& v) {\n",
    "    char comma[3] = {'\\0', ' ', '\\0'};\n",
    "    out << '[';\n",
    "    for (auto& e: v) {\n",
    "        out << comma << e;\n",
    "        comma[0] = ',';\n",
    "    }\n",
    "    out << \"]\";\n",
    "    return out;\n",
    "}"
   ]
  },
  {
   "cell_type": "markdown",
   "metadata": {},
   "source": [
    "<a id=\"bubble\"></a>"
   ]
  },
  {
   "cell_type": "code",
   "execution_count": 3,
   "metadata": {},
   "outputs": [],
   "source": [
    "// function to generate random numbers\n",
    "void generateRandomNumbers(vector<int> &rands, int count, int start, int end) {\n",
    "    // fill the vectors with random numbers\n",
    "    random_device rd;\n",
    "    //https://en.cppreference.com/w/cpp/numeric/random/mersenne_twister_engine\n",
    "    // generates high quality random unsigned ints\n",
    "    mt19937 mt(rd());\n",
    "    uniform_int_distribution<> dis(start, end); // numbers between start and end inclusive\n",
    "    generate(rands.begin(), rands.end(), bind(dis, ref(mt)));\n",
    "}"
   ]
  },
  {
   "cell_type": "markdown",
   "metadata": {},
   "source": [
    "<a id=\"exchange\"></a>"
   ]
  },
  {
   "cell_type": "markdown",
   "metadata": {},
   "source": [
    "## Exchange Sorting Algorithms\n",
    "- bubble sort, selection sort and insertion sort\n",
    "- swapping adjacent records\n",
    "- crucial bottleneck is that only *adjacent* records are compared\n",
    "\n",
    "## Bubble Sort\n",
    "- https://opendsa-server.cs.vt.edu/ODSA/Books/CS3/html/BubbleSort.html\n",
    "- https://en.wikipedia.org/wiki/Bubble_sort\n",
    "- simplest sorting algorithm that works by repeatedly swapping the adjacent elements if they are in wrong order\n",
    "- the pass through the list is repeated until the list is sorted\n",
    "- also called sinking sort, where larger elements are \"bubble\" to the end of the list\n",
    "- **advantages**:\n",
    "    - simple\n",
    "    - stable \n",
    "    - practical if the input is in mostly sorted order with some out-of-order elements nearly in position\n",
    "    - in-place; only requires a constant amount of additional memory space\n",
    "- **disadvantages**:\n",
    "    - too slow and impractical for most problems even when compared to **insertion sort**\n",
    "<img src=\"./resources/Bubble-sort-example.gif\">"
   ]
  },
  {
   "cell_type": "code",
   "execution_count": 4,
   "metadata": {},
   "outputs": [],
   "source": [
    "// bubble sort implementation that works on integer vector\n",
    "void bubbleSort(vector<int> &v) {\n",
    "    bool sorted;\n",
    "    do {\n",
    "        sorted = true;\n",
    "        for (int i=1; i<v.size(); i++) {\n",
    "            // if this pair is not in order, swap them\n",
    "            if (v[i-1] > v[i]) {\n",
    "                swap(v[i-1], v[i]);\n",
    "                sorted = false;\n",
    "            }\n",
    "        }\n",
    "    } while (! sorted);\n",
    "}"
   ]
  },
  {
   "cell_type": "code",
   "execution_count": 11,
   "metadata": {},
   "outputs": [],
   "source": [
    "// test bubbleSort\n",
    "vector<int> nums(20);"
   ]
  },
  {
   "cell_type": "code",
   "execution_count": 12,
   "metadata": {},
   "outputs": [
    {
     "name": "stdout",
     "output_type": "stream",
     "text": [
      "[19, 17, 10, 3, 18, 5, 0, 20, 17, 12, 1, 15, 5, 9, 18, 5, 8, 15, 19, 2]\n"
     ]
    }
   ],
   "source": [
    "generateRandomNumbers(nums, 20, 0, 20);\n",
    "cout << nums << endl;"
   ]
  },
  {
   "cell_type": "code",
   "execution_count": 13,
   "metadata": {},
   "outputs": [
    {
     "name": "stdout",
     "output_type": "stream",
     "text": [
      "[0, 1, 2, 3, 5, 5, 5, 8, 9, 10, 12, 15, 15, 17, 17, 18, 18, 19, 19, 20]\n"
     ]
    }
   ],
   "source": [
    "// bubble sort nums\n",
    "bubbleSort(nums);\n",
    "cout << nums << endl;"
   ]
  },
  {
   "cell_type": "markdown",
   "metadata": {},
   "source": [
    "<a id=\"bubbleanalysis\"></a>"
   ]
  },
  {
   "cell_type": "markdown",
   "metadata": {},
   "source": [
    "## Bubble Sort - Asymptotic Analysis\n",
    "- **Worst-case complexity:** $θ(n^2)$ comparisons and $θ(n^2)$ swaps\n",
    "- **Average-case complexity:** $θ(n^2)$ comparisons and $θ(n^2)$ swaps\n",
    "- **Best-case complexity:** $θ(n)$ comparisons and $θ(1)$ swaps\n",
    "- **Worst-case space complexity:** $θ(n)$ total and $θ(1)$ auxiliary\n",
    "- see for details: https://opendsa-server.cs.vt.edu/ODSA/Books/CS3/html/BubbleSort.html\n",
    "\n",
    "### Exercise\n",
    "What is the running time of Bubble Sort when the input is an array where all record values are equal?\n",
    "\n",
    "1. $θ(nlogn)$\n",
    "2. $θ(n^2)$\n",
    "3. $θ(n)$\n",
    "4. $θ(logn)$\n",
    "\n",
    "What is the running time of Bubble Sort when the input is an array where all record are sorted in descending order?\n",
    "\n",
    "1. $θ(nlogn)$\n",
    "2. $θ(n^2)$\n",
    "3. $θ(n)$\n",
    "4. $θ(logn)$"
   ]
  },
  {
   "cell_type": "markdown",
   "metadata": {},
   "source": [
    "<a id=\"selection\"></a>"
   ]
  },
  {
   "cell_type": "markdown",
   "metadata": {},
   "source": [
    "## Selection Sort\n",
    "- https://opendsa-server.cs.vt.edu/ODSA/Books/CS3/html/SelectionSort.html\n",
    "- consider sorting stack of phone bills from the past year by date:\n",
    "    - look through the pile until you find the bill for January, and pull that out\n",
    "    - look through the remaining pile until you find the bill February and put that behind January\n",
    "    - proceed through the shrinking pile of bills to select the next one in order until you are done\n",
    "    - this is the inspiration for **Selection Sort**\n",
    "- selection sort finds the smallest key in an unsorted list, then the next smallest, and so on\n",
    "- may also find find the largest key in and unsorted list, then the next largest, and so on (as in the ODSA Text)\n",
    "- it's unique feature is that there are few record swaps\n",
    "    - to find the next smallest key value requires searching through the entire unsorted portion of the list, but only one swap is required to put the record in place\n",
    "- **advantages:**\n",
    "    - simple \n",
    "    - fewer swaps\n",
    "- **disadvantages:**\n",
    "    - not efficient for large data sets\n",
    "    - generally performs worse than **Insertion Sort**\n",
    "    - normally not stable\n",
    "- for visualization use this: https://visualgo.net/en/sorting"
   ]
  },
  {
   "cell_type": "code",
   "execution_count": 14,
   "metadata": {},
   "outputs": [],
   "source": [
    "// implementation of Selection Sort\n",
    "// sorts a vector of integers\n",
    "void selectionSort(vector<int> &v) {\n",
    "    for (int i=0; i<v.size()-1; i++) { // unsorted position\n",
    "        int minIndex = i; // current smallest index\n",
    "        for(int j=i+1; j < v.size(); j++) { // search for the smallest index\n",
    "            if (v[j] < v[minIndex])\n",
    "                minIndex = j;\n",
    "        }\n",
    "        if (minIndex != i) // no swap if minIndex == i\n",
    "            swap(v[minIndex], v[i]);\n",
    "    }\n",
    "}"
   ]
  },
  {
   "cell_type": "code",
   "execution_count": 15,
   "metadata": {},
   "outputs": [],
   "source": [
    "// test selection sort\n",
    "vector<int> nums1(20);"
   ]
  },
  {
   "cell_type": "code",
   "execution_count": 16,
   "metadata": {},
   "outputs": [
    {
     "name": "stdout",
     "output_type": "stream",
     "text": [
      "[19, 16, 5, 16, 16, 4, 9, 14, 15, 9, 5, 20, 9, 15, 13, 14, 20, 5, 0, 13]\n"
     ]
    }
   ],
   "source": [
    "generateRandomNumbers(nums1, 20, 0, 20);\n",
    "cout << nums1 << endl;"
   ]
  },
  {
   "cell_type": "code",
   "execution_count": 17,
   "metadata": {},
   "outputs": [
    {
     "name": "stdout",
     "output_type": "stream",
     "text": [
      "[0, 4, 5, 5, 5, 9, 9, 9, 13, 13, 14, 14, 15, 15, 16, 16, 16, 19, 20, 20]\n"
     ]
    }
   ],
   "source": [
    "// selection sort vector\n",
    "selectionSort(nums1);\n",
    "cout << nums1 << endl;"
   ]
  },
  {
   "cell_type": "markdown",
   "metadata": {},
   "source": [
    "<a id=\"selectionanalysis\"></a>"
   ]
  },
  {
   "cell_type": "markdown",
   "metadata": {},
   "source": [
    "## Selection Sort - Asymptotic Analysis\n",
    "- **Worst-case performance:** $θ(n^2)$ comparisons, $θ(n)$ swaps\n",
    "- **Average-case performance:** $θ(n^2)$ comparisons, $θ(n)$ swaps\n",
    "- **Best-case performance:** $θ(n^2)$ comparisons, $θ(n)$ swaps\n",
    "- **Worst-case space complexity:** $θ(n)$ total, $θ(1)$ auxiliary\n",
    "\n",
    "- for details see: https://opendsa-server.cs.vt.edu/ODSA/Books/CS3/html/SelectionSort.html\n",
    "\n",
    "### Exercise\n",
    "Selection Sort (as implemented in this notebook) is a stable sorting algorithm. Recall that a stable sorting algorithm maintains the relative order of records with equal keys\n",
    "1. True\n",
    "- False\n",
    "\n",
    "What is the number of swap required in Selection Sort (as implemented in this notebook) to sort already sorted list?\n",
    "1. $θ(n^2)$\n",
    "- $θ(n)$\n",
    "- $θ(logn)$\n",
    "- $θ(1)$\n",
    "- 0"
   ]
  },
  {
   "cell_type": "markdown",
   "metadata": {},
   "source": [
    "<a id=\"insertion\"></a>"
   ]
  },
  {
   "cell_type": "markdown",
   "metadata": {},
   "source": [
    "## Insertion Sort\n",
    "- consider again sorting a pile of bill for last year:\n",
    "    - look at the first two bills and put them in order\n",
    "    - take the third bill and put it into the right position with respect to the first two, and so on...\n",
    "    - as you take each bill, you would insert it to the sorted pile that you have already made\n",
    "    - this real-world example is the inspiration for **Insertion Sort**\n",
    "- when sorting cards in a bridge hand, most use technique similar to insertion sort\n",
    "- **advantages**:\n",
    "    - simple\n",
    "    - efficient for small data sets\n",
    "    - nearly sorted list is always cheap to sort with **Insertion Sort**\n",
    "    - more efficient in practice than **Bubble Sort** and **Selection Sort**\n",
    "    - stable: does not change the relative order of elements with equal keys\n",
    "    - in-place: only requires a constant amount $O(1)$ additional memory space\n",
    "    - online: can sort a list as it receives it\n",
    "\n",
    "- **disadvantages**:\n",
    "    - much less efficient than quicksort, heapsort, or merge sort on large lists\n",
    "    \n",
    "<img src=\"./resources/Insertion-sort-example.gif\">\n",
    "- visualize it: https://opendsa-server.cs.vt.edu/ODSA/Books/CS3/html/InsertionSort.html\n"
   ]
  },
  {
   "cell_type": "code",
   "execution_count": 18,
   "metadata": {},
   "outputs": [],
   "source": [
    "// implementation of Insertion Sort\n",
    "// sorts vecotor of integers\n",
    "void insertionSort(vector<int> &v) {\n",
    "    for(int i=1; i< v.size(); i++) {\n",
    "        for(int j=i; (j > 0) && (v[j] < v[j-1]); j--)\n",
    "            // if (v[j] < v[j-1])\n",
    "            swap(v[j], v[j-1]);\n",
    "            // else break;\n",
    "    }\n",
    "}"
   ]
  },
  {
   "cell_type": "code",
   "execution_count": 19,
   "metadata": {},
   "outputs": [],
   "source": [
    "// test insertionSort\n",
    "vector<int> nums2(20);"
   ]
  },
  {
   "cell_type": "code",
   "execution_count": 20,
   "metadata": {},
   "outputs": [
    {
     "name": "stdout",
     "output_type": "stream",
     "text": [
      "[20, 8, 14, 11, 10, 19, 6, 20, 17, 13, 17, 1, 11, 19, 12, 5, 1, 5, 8, 17]\n"
     ]
    }
   ],
   "source": [
    "generateRandomNumbers(nums2, 20, 0, 20);\n",
    "cout << nums2 << endl;"
   ]
  },
  {
   "cell_type": "code",
   "execution_count": 21,
   "metadata": {},
   "outputs": [
    {
     "name": "stdout",
     "output_type": "stream",
     "text": [
      "[1, 1, 5, 5, 6, 8, 8, 10, 11, 11, 12, 13, 14, 17, 17, 17, 19, 19, 20, 20]\n"
     ]
    }
   ],
   "source": [
    "// insertion sort nums\n",
    "insertionSort(nums2);\n",
    "cout << nums2 << endl;"
   ]
  },
  {
   "cell_type": "markdown",
   "metadata": {},
   "source": [
    "<a id=\"insertionanalysis\"></a>"
   ]
  },
  {
   "cell_type": "markdown",
   "metadata": {},
   "source": [
    "## Insertion Sort - Asymptotic Analysis\n",
    "- **Worst-case performance:** $θ(n^2)$ comparisons and swaps\n",
    "- **Average-case performance:** $θ(n^2$ comparisons and swaps\n",
    "- **Best-case performance:** $θ(n)$ comparisons, $θ(1)$ swaps\n",
    "- **Worst-case space complexity:** $θ(n)$ total, $θ(1)$ auxiliary\n",
    "\n",
    "- see for details: https://opendsa-server.cs.vt.edu/ODSA/Books/CS3/html/InsertionSort.html\n",
    "\n",
    "### Exercise\n",
    "What is the running time of Insertion Sort when the input is an array that has already been sorted?\n",
    "1. $θ(n^2)$\n",
    "2. $θ(n)$\n",
    "3. $θ(nlogn)$\n",
    "4. $θ(logn)$"
   ]
  },
  {
   "cell_type": "markdown",
   "metadata": {},
   "source": [
    "## Summary of Cost of Exchange Sorting Implemented in this Notebook\n",
    "\n",
    "|  Algorithms | Bubble | Selection | Insertion |\n",
    "|---|---|---|---|\n",
    "|**Comparisons:**| - | - | - |\n",
    "|Best case | $θ(n)$ | $θ(n^2)$ | $θ(n)$ |\n",
    "|Average case | $θ(n^2)$ | $θ(n^2)$ | $θ(n^2)$ |\n",
    "|Worst case | $θ(n^2)$ | $θ(n^2)$ | $θ(n^2)$ |\n",
    "|**Swaps:**| - | - | - |\n",
    "|Best case | $0$ | $0$ | $0$ |\n",
    "|Average case | $θ(n^2)$ | $θ(n)$ | $θ(n^2)$ |\n",
    "|Worst case | $θ(n^2)$ | $θ(n)$ | $θ(n^2)$ |"
   ]
  },
  {
   "cell_type": "markdown",
   "metadata": {},
   "source": [
    "<a id=\"divide\"></a>"
   ]
  },
  {
   "cell_type": "markdown",
   "metadata": {},
   "source": [
    "## Divide & Conquer\n",
    "- natural approach to problem solving\n",
    "- can be used to when sorting:\n",
    "    - consider breaking the list to be sorted into pieces, process the pieces, and then put them back together somehow\n",
    "- Shellsort, Mergesort, Quicksort, Binsort, Radix sort, etc."
   ]
  },
  {
   "cell_type": "markdown",
   "metadata": {},
   "source": [
    "<a id=\"shell\">"
   ]
  },
  {
   "cell_type": "markdown",
   "metadata": {},
   "source": [
    "## Shellsort\n",
    "https://opendsa-server.cs.vt.edu/ODSA/Books/CS3/html/Shellsort.html#id2\n",
    "\n",
    "- named after inventor, D. L. Shell (published in 1959)\n",
    "- sometimes also called **diminishing increment sort**\n",
    "- no real-life intuition to inspire Shellsort\n",
    "- faster but harder to implement compared to Insertion Sort and Selection Sort, e.g.\n",
    "- the key idea is to exploit the best-case performance of Insertion Sort\n",
    "    - when a list is sorted or nearly sorted, Insertion Sort runs in linear time\n",
    "- the strategy is to quickly make the list \"mostly sorted\", so that a final Insertion Sort can finish the job in linear time\n",
    "    - uses \"virtual\" sublists that are often not contiguous defined by increment, $I$, or **gap**\n",
    "    - each sublist is sorted using the Insertion Sort\n",
    "    - at each stage, Insertion Sort is either working on a small list (and is fast) or is working on a nearly sorted larger list (and again is fast)\n",
    "    - each record in a given sublist is $I$ positions apart\n",
    "        - e.g., if the increment were 4, then each record in the sublist would be 4 positions apart\n",
    "- **selecting increment, $I$**:\n",
    "    - one possible implementation is to use increments that are all powers of two\n",
    "    - e.g., pick largest power of two less than $n$\n",
    "        - generate $I$ sublists of 2 records each\n",
    "        - e.g., if there were 16 records (indexed from 0-15), we initially have 8 sublists, with each record in the sublist being 8 positions apart\n",
    "        - the first sublist would be the records in positions 0 and 8\n",
    "        - the second sublist would be the records in positions 1 and 9 and so on\n",
    "- the following list has 9 items, with an increment of $3$ (three sublists)\n",
    "    - figure used from: http://interactivepython.org/runestone/static/pythonds/SortSearch/TheShellSort.html#fig-incrementsc\n",
    "<img src=\"./resources/shellsortA.png\">\n",
    "- the following figure shows almost sorted list\n",
    "<img src=\"./resources/shellsortB.png\">\n",
    "- final insertion sort (increment of 1); only 4 swapping required\n",
    "<img src=\"./resources/shellsortC.png\">\n",
    "- see animation demos:\n",
    "    - here: https://opendsa-server.cs.vt.edu/ODSA/Books/CS3/html/Shellsort.html#id2\n",
    "    - https://www.cs.usfca.edu/~galles/visualization/ComparisonSort.html"
   ]
  },
  {
   "cell_type": "code",
   "execution_count": 4,
   "metadata": {},
   "outputs": [],
   "source": [
    "// modified insertionSort for shellSort to work with varying increments\n",
    "void insertionSort2(vector<int> &v, int start, int incr) {\n",
    "    for(int i=start+incr; i<v.size(); i+=incr)\n",
    "        for(int j=i; (j >=incr) && v[j] < v[j-incr]; j-=incr)\n",
    "            swap(v[j], v[j-incr]);\n",
    "}"
   ]
  },
  {
   "cell_type": "code",
   "execution_count": 5,
   "metadata": {},
   "outputs": [],
   "source": [
    "// implementation of Shellsort\n",
    "// Sorts vector of integers\n",
    "void shellSort(vector<int> &v) {\n",
    "    // begin with n/2 sublists and sort them\n",
    "    // on the next pass, n/4 sublists are sorted and so on until size >= 3\n",
    "    for (int i=v.size()/2; i>2; i/=2) // for each increment\n",
    "        for(int j=0; j<i; j++) // Sort each sublist of that increment\n",
    "            insertionSort2(v, j, i);\n",
    "        \n",
    "    insertionSort2(v, 0, 1); // can call regular insertionSort\n",
    "}"
   ]
  },
  {
   "cell_type": "code",
   "execution_count": 6,
   "metadata": {},
   "outputs": [],
   "source": [
    "// test shellSort\n",
    "vector<int> randNums(20);"
   ]
  },
  {
   "cell_type": "code",
   "execution_count": 7,
   "metadata": {},
   "outputs": [
    {
     "name": "stdout",
     "output_type": "stream",
     "text": [
      "[3, 7, 14, 9, 3, 6, 10, 19, 5, 16, 10, 0, 7, 16, 13, 8, 11, 11, 19, 4]\n"
     ]
    }
   ],
   "source": [
    "generateRandomNumbers(randNums, 20, 0, 20);\n",
    "cout << randNums << endl;"
   ]
  },
  {
   "cell_type": "code",
   "execution_count": 8,
   "metadata": {},
   "outputs": [
    {
     "name": "stdout",
     "output_type": "stream",
     "text": [
      "[0, 3, 3, 4, 5, 6, 7, 7, 8, 9, 10, 10, 11, 11, 13, 14, 16, 16, 19, 19]\n"
     ]
    }
   ],
   "source": [
    "shellSort(randNums);\n",
    "cout << randNums << endl;"
   ]
  },
  {
   "cell_type": "markdown",
   "metadata": {},
   "source": [
    "<a id=\"shellanalysis\"></a>"
   ]
  },
  {
   "cell_type": "markdown",
   "metadata": {},
   "source": [
    "## Shellsort - Asymptotic Analysis\n",
    "- **Worst-case performance:** $O(n^2)$ - (if worst increment, $I$, is picked!)\n",
    "- **Best-case performance:** $O(nlogn)$\n",
    "- **Average-case performance:**- depends on increment, $I$\n",
    "- **Worst-case space complexity:** $O(n)$ total; $O(1)$ auxiliary\n",
    "- for details see: https://en.wikipedia.org/wiki/Shellsort\n",
    "\n",
    "### Exercise\n",
    "Is the following a legal series of increments when running Shellsort on an array of 16 values?\n",
    "10, 3, 2, 1\n",
    "- Yes\n",
    "- No"
   ]
  },
  {
   "cell_type": "markdown",
   "metadata": {},
   "source": [
    "<a id=\"merge\">"
   ]
  },
  {
   "cell_type": "markdown",
   "metadata": {},
   "source": [
    "## Mergesort\n",
    "https://en.wikipedia.org/wiki/Merge_sort\n",
    "- split the list in half, sort the halves, and then merge the sorted halves together\n",
    "- one of the simplest sorting algorithms conceptually\n",
    "- has good performance both in asymptotic and in empirical running time\n",
    "- stable sort\n",
    "- relatively difficult to implement in practice\n",
    "- algorithm:\n",
    "    1. divide the unsorted list into n *sublist*, each containing one element (a list of one element is considered sorted) \n",
    "    2. repeatedly merge sublists to produce new sorted sublists until there is only one sublist remaining (sorted list)\n",
    "<img src=\"./resources/Merge-sort-example.gif\">\n",
    "- see this for visualization: https://visualgo.net/en/sorting"
   ]
  },
  {
   "cell_type": "code",
   "execution_count": 4,
   "metadata": {
    "code_folding": []
   },
   "outputs": [],
   "source": [
    "// implementation of merge sort\n",
    "// sorts vector of integers\n",
    "\n",
    "// merges two sub vectors v[0..mid] and v[mid+1..right]\n",
    "void merge(vector<int> &v, int left, int mid, int right) {\n",
    "\n",
    "    int i, j, k;\n",
    "    int n1 = mid - left + 1; \n",
    "    int n2 =  right - mid; \n",
    "    \n",
    "    vector<int> L(n1); // auxiliary vector\n",
    "    vector<int> R(n2); // auxiliary vector\n",
    "    \n",
    "    // copy data to temp Left and Right vectors\n",
    "    for(i=0; i<n1; i++)\n",
    "        L[i] = v[left+i];\n",
    "    \n",
    "    for (j=0; j<n2; j++)\n",
    "        R[j] = v[mid+1+j];\n",
    "    \n",
    "    // merge the temp vectors back into v\n",
    "    i = 0;\n",
    "    j = 0;\n",
    "    k = left; // initial index of merged subarray\n",
    "    while (i < n1 && j < n2) {\n",
    "        if (L[i] <= R[j]) {\n",
    "            v[k] = L[i];\n",
    "            i++;\n",
    "        } \n",
    "        else {\n",
    "            v[k] = R[j];\n",
    "            j++;\n",
    "        }\n",
    "        k++;\n",
    "    }\n",
    "    // copy the remaining elements of L vector if there's any\n",
    "    while(i < n1) {\n",
    "        v[k] = L[i];\n",
    "        i++;\n",
    "        k++;\n",
    "    }\n",
    "    // copy the remaining elements of R vector if there's any\n",
    "    while(j < n2) {\n",
    "        v[k] = R[j];\n",
    "        j++;\n",
    "        k++;\n",
    "    }\n",
    "}"
   ]
  },
  {
   "cell_type": "code",
   "execution_count": 5,
   "metadata": {},
   "outputs": [],
   "source": [
    "// recursive Top-Down Merge Sort implementation\n",
    "\n",
    "void mergeSort(vector<int> &v, int left, int right) {\n",
    "    if (left < right) {\n",
    "        int mid = left+(right-left)/2; // same as (left+right)/2 but avoid overflow\n",
    "        mergeSort(v, left, mid);\n",
    "        mergeSort(v, mid+1, right);\n",
    "        // merge two sorted list\n",
    "        merge(v, left, mid, right);\n",
    "    }\n",
    "}"
   ]
  },
  {
   "cell_type": "code",
   "execution_count": 6,
   "metadata": {},
   "outputs": [],
   "source": [
    "// test merge sort\n",
    "vector<int> nums3(20);"
   ]
  },
  {
   "cell_type": "code",
   "execution_count": 7,
   "metadata": {},
   "outputs": [
    {
     "name": "stdout",
     "output_type": "stream",
     "text": [
      "[0, 14, 5, 4, 1, 8, 16, 15, 1, 1, 11, 9, 17, 10, 18, 4, 18, 14, 10, 0]\n"
     ]
    }
   ],
   "source": [
    "generateRandomNumbers(nums3, 20, 0, 20);\n",
    "cout << nums3 << endl;"
   ]
  },
  {
   "cell_type": "code",
   "execution_count": 8,
   "metadata": {},
   "outputs": [
    {
     "name": "stdout",
     "output_type": "stream",
     "text": [
      "[0, 0, 1, 1, 1, 4, 4, 5, 8, 9, 10, 10, 11, 14, 14, 15, 16, 17, 18, 18]\n"
     ]
    }
   ],
   "source": [
    "mergeSort(nums3, 0, nums3.size()-1);\n",
    "cout << nums3 << endl;"
   ]
  },
  {
   "cell_type": "markdown",
   "metadata": {},
   "source": [
    "<a id=\"mergeanalysis\"></a>"
   ]
  },
  {
   "cell_type": "markdown",
   "metadata": {},
   "source": [
    "## Merge Sort - Asymptotic Analysis\n",
    "- **Worst-case performance:** $θ(nlogn)$\n",
    "- **Best-case performance:** $θ(nlogn)$\n",
    "- **Average-case performance:** $θ(nlogn)$\n",
    "- **Worst-case space complexity:** $θ(n)$ total; $θ(n)$ auxiliary; $θ(1)$ with linked lists\n",
    "- for details see: https://opendsa-server.cs.vt.edu/ODSA/Books/CS3/html/Mergesort.html\n",
    "\n",
    "### Exercise\n",
    "Implement merge sort for linked list. Merge operation can be done without extra memory space.\n",
    "\n",
    "In the worst case, the total number of comparisons for Mergesort is closest to:\n",
    "1. $n$\n",
    "- $\\frac{n^2}2$\n",
    "- $nlogn$\n",
    "- $n^2$"
   ]
  },
  {
   "cell_type": "markdown",
   "metadata": {},
   "source": [
    "<a id=\"quick\"></a>"
   ]
  },
  {
   "cell_type": "markdown",
   "metadata": {},
   "source": [
    "## Quicksort\n",
    "- aptly named, **quicksort** is the fastest known general-purpose in-memory sorting algorithm in the average case\n",
    "- doesn't require the extra array require by the **Merge sort**\n",
    "- widely used, typically implemented in library such as UNIX, C qsort, and C++ sort\n",
    "- interestingly, quicksort is hampered by exceedingly poor worst-case performance, thus making it inappropriate for certain applications\n",
    "    - depends on how pivot is chosen; when leftmost or rightmost element is chose as pivot:\n",
    "        1. array is already sorted in same or reverse order\n",
    "        2. all elements are same\n",
    "    - worst case can always occur if maximum or minimum element is chosen as pivot"
   ]
  },
  {
   "cell_type": "code",
   "execution_count": 9,
   "metadata": {},
   "outputs": [],
   "source": [
    "// picking middle index as pivot may avoid worst-case performance issue\n",
    "int findPivot(int left, int right) {\n",
    "    return (left+right)/2;\n",
    "}"
   ]
  },
  {
   "cell_type": "code",
   "execution_count": 10,
   "metadata": {},
   "outputs": [],
   "source": [
    "// partition the array in such a way that\n",
    "// elements before the pivot are smaller than the elements after the pivot element\n",
    "// left and right are indices, pivot is the pivot element\n",
    "int partition(vector<int> &V, int left, int right, int pivot) {\n",
    "    while (left <= right) { //move bounds inward until they meet\n",
    "        // elements to the left sublist will be strictly less than pivot\n",
    "        while (V[left] < pivot) \n",
    "            left++;\n",
    "        // elements to the right sublist will be strictly greater or equal to pivot\n",
    "        while ((right >=left ) && (V[right] >= pivot)) \n",
    "            right--;\n",
    "        if (right > left)\n",
    "            swap(V[left], V[right]);\n",
    "    }\n",
    "    return left; // return first position in right partition\n",
    "}"
   ]
  },
  {
   "cell_type": "code",
   "execution_count": 11,
   "metadata": {},
   "outputs": [],
   "source": [
    "// implementation of Quicksort\n",
    "// sorts vector of integers, first and last are indices\n",
    "void quickSort(vector<int> &V, int first, int last) {\n",
    "    if (first < last) {\n",
    "        int pivotIndex = findPivot(first, last); // pick a pivot\n",
    "        swap(V[pivotIndex], V[last]); // stick pivot at end\n",
    "        // k will be the first position in the right sublist\n",
    "        int k = partition(V, first, last-1, V[last]); // V[last] is pivot\n",
    "        swap(V[k], V[last]); // put pivot in place; now pivot is in right sorted position!\n",
    "        quickSort(V, first, k-1); // sort left partition\n",
    "        quickSort(V, k+1, last); // sort right partition\n",
    "    }\n",
    "}"
   ]
  },
  {
   "cell_type": "code",
   "execution_count": 12,
   "metadata": {},
   "outputs": [],
   "source": [
    "// test quickSort\n",
    "vector<int> nums4(20);"
   ]
  },
  {
   "cell_type": "code",
   "execution_count": 13,
   "metadata": {},
   "outputs": [
    {
     "name": "stdout",
     "output_type": "stream",
     "text": [
      "[3, 18, 2, 13, 17, 20, 7, 19, 8, 14, 15, 16, 12, 0, 2, 1, 19, 16, 1, 1]\n"
     ]
    }
   ],
   "source": [
    "generateRandomNumbers(nums4, 20, 0, 20);\n",
    "cout << nums4 << endl;"
   ]
  },
  {
   "cell_type": "code",
   "execution_count": 14,
   "metadata": {},
   "outputs": [
    {
     "name": "stdout",
     "output_type": "stream",
     "text": [
      "[0, 1, 1, 1, 2, 2, 3, 7, 8, 12, 13, 14, 15, 16, 16, 17, 18, 19, 19, 20]\n"
     ]
    }
   ],
   "source": [
    "quickSort(nums4, 0, nums4.size()-1);\n",
    "cout << nums4 << endl;"
   ]
  },
  {
   "cell_type": "markdown",
   "metadata": {},
   "source": [
    "<a id=\"quickanalysis\"></a>"
   ]
  },
  {
   "cell_type": "markdown",
   "metadata": {},
   "source": [
    "## Quicksort - Asymptotic Analysis\n",
    "- **Worst-case performance:** $θ(n^2)$ rarely when pivot yields a bad partitioning of the array\n",
    "- **Base-case performance:** $θ(nlogn)$\n",
    "- **Average-case performance:** $θ(nlogn)$\n",
    "- **Worst-case space complexity:** $θ(n)$ total; $θ(1)$ auxiliary\n",
    "- for detail see: https://opendsa-server.cs.vt.edu/ODSA/Books/CS3/html/Quicksort.html"
   ]
  },
  {
   "cell_type": "code",
   "execution_count": null,
   "metadata": {},
   "outputs": [],
   "source": []
  }
 ],
 "metadata": {
  "kernelspec": {
   "display_name": "C++14",
   "language": "C++14",
   "name": "xeus-cling-cpp14"
  },
  "language_info": {
   "codemirror_mode": "text/x-c++src",
   "file_extension": ".cpp",
   "mimetype": "text/x-c++src",
   "name": "c++",
   "version": "-std=c++14"
  }
 },
 "nbformat": 4,
 "nbformat_minor": 2
}
