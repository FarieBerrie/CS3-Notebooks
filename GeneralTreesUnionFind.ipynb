{
 "cells": [
  {
   "cell_type": "markdown",
   "metadata": {},
   "source": [
    "# General Trees & Parent Pointer Trees\n",
    "https://opendsa-server.cs.vt.edu/ODSA/Books/CS3/html/GenTreeIntro.html\n",
    "\n",
    "## Table of Contents\n",
    "- **[General Trees](#intro)**<br>\n",
    "- **[Union/Find Problem](#union)**<br>\n",
    "- **[Parent Pointer Trees](#ppt)**<br>\n",
    "- **[Parent Pointer Trees Implementation](#pptimp)**<br>"
   ]
  },
  {
   "cell_type": "markdown",
   "metadata": {},
   "source": [
    "<a id=\"general\"></a>"
   ]
  },
  {
   "cell_type": "markdown",
   "metadata": {},
   "source": [
    "## General Trees\n",
    "- many organization are hierarchical in nature\n",
    "    - military, most businesses, government, etc.\n",
    "- binary tree is not adequate to represent organizations that have many many subordinates at lower level\n",
    "- to represent these hierarchy of many arbitrary number of children, we use general trees\n",
    "- general trees are trees whose internal nodes have no fixed number of children\n",
    "- the following figure depicts a general tree\n",
    "<img width=\"400px\" src=\"./resources/generaltrees.png\">\n",
    "\n",
    "### General Tree Definitions and Terminology\n",
    "- a tree, $T$ is a finite set of one or more nodes with one special node $R$, the root\n",
    "- tree may have many **subtrees** rooted at some nodes that are children of $R$\n",
    "    - subtrees are arranged from left to right\n",
    "- a node's **out degree** is the number of children for that node\n",
    "- a **forest** is a collection of one or more trees\n",
    "- each node (except for root) has precisely one parent\n",
    "    - a tree with $n$ nodes must have $n-1$ edges because each node, except the root, has one edge connecting that node to its parent\n",
    "    \n",
    "## Implementation\n",
    "- implementation of general tree is much harder compared to binary tree and is ignored"
   ]
  },
  {
   "cell_type": "markdown",
   "metadata": {},
   "source": [
    "<a id=\"union\"></a>"
   ]
  },
  {
   "cell_type": "markdown",
   "metadata": {},
   "source": [
    "## The Union/Find Problem\n",
    "https://opendsa-server.cs.vt.edu/ODSA/Books/CS3/html/UnionFind.html\n",
    "\n",
    "### Find: given two nodes, are they in the same tree?\n",
    "### Union: how can we efficiently merge two sets (subtrees) together?\n",
    "- Union/Find is applied to Kruskal's minimum spanning tree (MST)\n",
    "- what data structure can effectively help us answer these two useful questions?"
   ]
  },
  {
   "cell_type": "markdown",
   "metadata": {},
   "source": [
    "<a id=\"ppt\">"
   ]
  },
  {
   "cell_type": "markdown",
   "metadata": {},
   "source": [
    "## Parent Pointer Trees\n",
    "- a simple way to represent general tree \n",
    "    - for each node store only a pointer to that node's parent\n",
    "    - called **parent pointer representation**\n",
    "- helps us precisely solve the Union/Find problem by offering two basic operations:\n",
    "    1. determine if two objects are in the same set ( the **FIND** operation)\n",
    "        - follow the series of parent pointers from each node to its respective root\n",
    "     \n",
    "    2. merge two disjoints sets together (intersection of disjoint sets is empty)\n",
    "        - disjoint sets are united (the **UNION** operation)\n",
    "- this 2-step process goes by the name **UNION/FIND**"
   ]
  },
  {
   "cell_type": "markdown",
   "metadata": {},
   "source": [
    "<a id=\"pptimp\">"
   ]
  },
  {
   "cell_type": "markdown",
   "metadata": {},
   "source": [
    "## Parent Pointer Tree Implementation\n",
    "- represented using a single array\n",
    "- index represents node and the element stored represents its parent\n",
    "    - a single array is used to implement a collection of trees\n",
    "- uses path compression and weighted union techniques \n",
    "    - keep the height of the joined tree to as short as possible"
   ]
  },
  {
   "cell_type": "markdown",
   "metadata": {},
   "source": [
    "### Path Compression\n",
    "- path compression technique can be used to create extremely shallow trees\n",
    "- resets the parent of every node on the path from say $X$ to $R$ to $R$\n",
    "- keeps the cost of each FIND operation very close to constant"
   ]
  },
  {
   "cell_type": "markdown",
   "metadata": {},
   "source": [
    "### Weighted Union\n",
    "- technique to join two sets by reducing their height\n",
    "    - limits the total depth of the tree to $O(logn)$\n",
    "- joins the tree with fewer nodes to the tree with more nodes\n",
    "    - make the smaller tree's root point to the root of the bigger tree\n",
    "- visualize weighted union here:https://opendsa-server.cs.vt.edu/ODSA/Books/CS3/html/UnionFind.html"
   ]
  },
  {
   "cell_type": "markdown",
   "metadata": {},
   "source": [
    "### parent pointer tree implementation as ADT"
   ]
  },
  {
   "cell_type": "code",
   "execution_count": 1,
   "metadata": {},
   "outputs": [],
   "source": [
    "#include <iostream>\n",
    "#include <vector>\n",
    "#include <string>\n",
    "#include <algorithm>\n",
    "using namespace std;"
   ]
  },
  {
   "cell_type": "code",
   "execution_count": 2,
   "metadata": {},
   "outputs": [],
   "source": [
    "// general Parent-Pointer Tree implementation for UNION/FIND\n",
    "class ParPtrTree {\n",
    "  private:\n",
    "    vector<int> nodes; //nodes vector\n",
    "    vector<int> weights; // weights for weighted union\n",
    "  public:\n",
    "    // constructor\n",
    "    ParPtrTree(size_t size) {\n",
    "        nodes.resize(size); //create nodes vector\n",
    "        fill(nodes.begin(), nodes.end(), -1); // each node is its own root to start\n",
    "        weights.resize(size); \n",
    "        fill(weights.begin(), weights.end(), 1);// set all base weights to 1\n",
    "    }\n",
    "    \n",
    "    // Return the root of a given node with path compression\n",
    "    // recursive algorithm that makes all ancestors of the current node\n",
    "    // point to the root\n",
    "    int FIND(int node) {\n",
    "        if (nodes[node] == -1) return node;\n",
    "        nodes[node] = FIND(nodes[node]);\n",
    "        return nodes[node];\n",
    "    }\n",
    "    \n",
    "    // Merge two subtrees if they are different\n",
    "    void UNION(int node1, int node2) {\n",
    "        int root1 = FIND(node1);\n",
    "        int root2 = FIND(node2);\n",
    "        // MERGE two trees\n",
    "        if (root1 != root2) {\n",
    "            if (weights[root1] < weights[root2]) {\n",
    "                nodes[root1] = root2;\n",
    "                weights[root2] += weights[root1];\n",
    "            }\n",
    "            else {\n",
    "                nodes[root2] = root1;\n",
    "                weights[root1] += weights[root2];\n",
    "            }\n",
    "        }    \n",
    "    }\n",
    "    \n",
    "    string toString() {\n",
    "        string parents = \"[\";\n",
    "        string nodes = \"[\";\n",
    "        for (int i=0; i < this->nodes.size(); i++) {\n",
    "            parents += \"\\t\" + to_string(this->nodes[i]);\n",
    "            nodes += \" \\t\" + to_string(i); \n",
    "        }\n",
    "        parents += \"\\t]\";\n",
    "        nodes += \"\\t]\";\n",
    "        return parents + \"\\n\" + nodes;\n",
    "    }\n",
    "};"
   ]
  },
  {
   "cell_type": "markdown",
   "metadata": {},
   "source": [
    "### Test ParPtrTree\n",
    "- the following test code can be modified to test examples provided here: \n",
    "https://opendsa-server.cs.vt.edu/ODSA/Books/CS3/html/UnionFind.html"
   ]
  },
  {
   "cell_type": "code",
   "execution_count": 3,
   "metadata": {},
   "outputs": [],
   "source": [
    "// 10 disjoint sets: A-J : 0->9\n",
    "// A: 0, B: 1, ... J: 9\n",
    "ParPtrTree ptr(10);"
   ]
  },
  {
   "cell_type": "code",
   "execution_count": 4,
   "metadata": {},
   "outputs": [
    {
     "name": "stdout",
     "output_type": "stream",
     "text": [
      "[\t-1\t-1\t-1\t-1\t-1\t-1\t-1\t-1\t-1\t-1\t]\n",
      "[ \t0 \t1 \t2 \t3 \t4 \t5 \t6 \t7 \t8 \t9\t]"
     ]
    }
   ],
   "source": [
    "cout << ptr.toString();"
   ]
  },
  {
   "cell_type": "code",
   "execution_count": 5,
   "metadata": {},
   "outputs": [
    {
     "name": "stdout",
     "output_type": "stream",
     "text": [
      "[\t-1\t-1\t-1\t-1\t-1\t-1\t-1\t-1\t-1\t7\t]\n",
      "[ \t0 \t1 \t2 \t3 \t4 \t5 \t6 \t7 \t8 \t9\t]"
     ]
    }
   ],
   "source": [
    "// union nodes (H) and (J)\n",
    "ptr.UNION(7, 9);\n",
    "cout << ptr.toString();"
   ]
  },
  {
   "cell_type": "code",
   "execution_count": 6,
   "metadata": {},
   "outputs": [
    {
     "name": "stdout",
     "output_type": "stream",
     "text": [
      "[\t-1\t-1\t-1\t-1\t-1\t-1\t-1\t-1\t6\t7\t]\n",
      "[ \t0 \t1 \t2 \t3 \t4 \t5 \t6 \t7 \t8 \t9\t]"
     ]
    }
   ],
   "source": [
    "// union nodes (G) and (I)\n",
    "ptr.UNION(6, 8);\n",
    "cout << ptr.toString();"
   ]
  },
  {
   "cell_type": "code",
   "execution_count": 7,
   "metadata": {},
   "outputs": [
    {
     "name": "stdout",
     "output_type": "stream",
     "text": [
      "[\t7\t-1\t-1\t-1\t-1\t-1\t-1\t-1\t6\t7\t]\n",
      "[ \t0 \t1 \t2 \t3 \t4 \t5 \t6 \t7 \t8 \t9\t]"
     ]
    }
   ],
   "source": [
    "// union nodes (A) and (J)\n",
    "ptr.UNION(0, 9);\n",
    "cout << ptr.toString();"
   ]
  },
  {
   "cell_type": "code",
   "execution_count": 8,
   "metadata": {},
   "outputs": [
    {
     "name": "stdout",
     "output_type": "stream",
     "text": [
      "[\t7\t7\t-1\t-1\t-1\t-1\t-1\t-1\t6\t7\t]\n",
      "[ \t0 \t1 \t2 \t3 \t4 \t5 \t6 \t7 \t8 \t9\t]"
     ]
    }
   ],
   "source": [
    "ptr.UNION(1, 7);\n",
    "cout << ptr.toString();"
   ]
  },
  {
   "cell_type": "code",
   "execution_count": 9,
   "metadata": {},
   "outputs": [
    {
     "name": "stdout",
     "output_type": "stream",
     "text": [
      "[\t7\t7\t-1\t-1\t-1\t-1\t7\t-1\t6\t7\t]\n",
      "[ \t0 \t1 \t2 \t3 \t4 \t5 \t6 \t7 \t8 \t9\t]"
     ]
    }
   ],
   "source": [
    "ptr.UNION(6, 9);\n",
    "cout << ptr.toString();"
   ]
  },
  {
   "cell_type": "code",
   "execution_count": null,
   "metadata": {},
   "outputs": [],
   "source": []
  }
 ],
 "metadata": {
  "kernelspec": {
   "display_name": "C++14",
   "language": "C++14",
   "name": "xeus-cling-cpp14"
  },
  "language_info": {
   "codemirror_mode": "text/x-c++src",
   "file_extension": ".cpp",
   "mimetype": "text/x-c++src",
   "name": "c++",
   "version": "-std=c++14"
  }
 },
 "nbformat": 4,
 "nbformat_minor": 2
}
