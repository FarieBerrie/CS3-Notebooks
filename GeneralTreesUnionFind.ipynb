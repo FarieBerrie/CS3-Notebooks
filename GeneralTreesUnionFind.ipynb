{
 "cells": [
  {
   "cell_type": "markdown",
   "metadata": {},
   "source": [
    "# General Trees & Union/Find Problem\n",
    "https://opendsa-server.cs.vt.edu/ODSA/Books/CS3/html/GenTreeIntro.html\n",
    "\n",
    "## Table of Contents\n",
    "- **[General Trees](#intro)**<br>\n",
    "- **[Union/Find Problem](#union)**<br>\n",
    "- **[Parent Pointer Trees](#ppt)**<br>\n",
    "- **[Parent Pointer Trees Implementation](#pptimp)**<br>"
   ]
  },
  {
   "cell_type": "markdown",
   "metadata": {},
   "source": [
    "<a id=\"general\"></a>"
   ]
  },
  {
   "cell_type": "markdown",
   "metadata": {},
   "source": [
    "## General Trees\n",
    "- many organizations are hierarchical in nature\n",
    "    - military, most businesses, governments, etc.\n",
    "- binary tree is not adequate to represent organizations that have many many subordinates at lower level\n",
    "- to represent these hierarchy of many arbitrary number of children, we use general trees\n",
    "- general trees are trees whose internal nodes have no fixed number of children\n",
    "- the following figure depicts a general tree\n",
    "<img width=\"400px\" src=\"./resources/generaltrees.png\">\n",
    "\n",
    "### General Tree Definitions and Terminology\n",
    "- a tree, $T$ is a finite set of one or more nodes with one special node $R$, the root\n",
    "- tree may have many **subtrees** rooted at some nodes that are children of $R$\n",
    "    - subtrees are arranged from left to right\n",
    "- a node's **out degree** is the number of children for that node\n",
    "- a **forest** is a collection of one or more trees\n",
    "- each node (except for root) has precisely one parent\n",
    "    - a tree with $n$ nodes must have $n-1$ edges because each node, except the root, has one edge connecting that node to its parent\n",
    "    \n",
    "## Implementation\n",
    "- implementation of general tree is much harder compared to binary tree and is ignored"
   ]
  },
  {
   "cell_type": "markdown",
   "metadata": {},
   "source": [
    "<a id=\"union\"></a>"
   ]
  },
  {
   "cell_type": "markdown",
   "metadata": {},
   "source": [
    "## The Union/Find Problem\n",
    "https://opendsa-server.cs.vt.edu/ODSA/Books/CS3/html/UnionFind.html\n",
    "\n",
    "### Find: - determine if two objects are in the same set\n",
    "    - MST: given two nodes, are they in the same tree?\n",
    "    \n",
    "### Union: efficiently merge two sets into one\n",
    "    - MST: merge two disjoint trees into one\n",
    "    \n",
    "- Kruskal's minimum spanning tree (MST) uses Union/Find technique\n",
    "- what data structure can efficiently implement Union/Find operations?"
   ]
  },
  {
   "cell_type": "markdown",
   "metadata": {},
   "source": [
    "<a id=\"ppt\">"
   ]
  },
  {
   "cell_type": "markdown",
   "metadata": {},
   "source": [
    "## Parent Pointer Trees\n",
    "- a simple way to represent general tree \n",
    "    - for each node store only a pointer to that node's parent\n",
    "    - called **parent pointer representation**\n",
    "- helps us precisely solve the Union/Find problem by offering two basic operations:\n",
    "    1. determine if two objects are in the same set ( the **FIND** operation)\n",
    "        - follow the series of parent pointers from each node to its respective root\n",
    "        - if both nodes have same root they belong to the same tree\n",
    "        - helps if the height of the trees are shorter (or shortest possible)\n",
    "     \n",
    "    2. merge two disjoints sets together (intersection of disjoint sets is empty)\n",
    "        - disjoint sets are united (the **UNION** operation)\n",
    "        - perhaps by making one the parent of the other\n",
    "        - goal is to keep the height shorter when merging\n",
    "- this 2-step process goes by the name **UNION/FIND**"
   ]
  },
  {
   "cell_type": "markdown",
   "metadata": {},
   "source": [
    "<a id=\"pptimp\">"
   ]
  },
  {
   "cell_type": "markdown",
   "metadata": {},
   "source": [
    "## Parent Pointer Tree Implementation\n",
    "- represented using a single array\n",
    "- index represents node and the element stored represents its parent\n",
    "    - a single array is used to implement a collection of trees\n",
    "- use path compression and weighted union techniques \n",
    "    - keep the height of the joined tree to as short as possible\n",
    "<img src=\"resources/ParentPtrTree.png\" width=\"30%\">"
   ]
  },
  {
   "cell_type": "code",
   "execution_count": 1,
   "metadata": {},
   "outputs": [],
   "source": [
    "// a simplified demonstration of parent pointer tree\n",
    "#include <iostream>\n",
    "#include <vector>\n",
    "\n",
    "using namespace std;"
   ]
  },
  {
   "cell_type": "code",
   "execution_count": 2,
   "metadata": {},
   "outputs": [],
   "source": [
    "// represent the above tree using parent pointer implementation\n",
    "vector<int> parent(10, -1); //initialize parent vector of 10 nodes with -1\n",
    "// can also initialize parent of a node at index i to itself"
   ]
  },
  {
   "cell_type": "code",
   "execution_count": 3,
   "metadata": {},
   "outputs": [
    {
     "data": {
      "text/plain": [
       "5"
      ]
     },
     "execution_count": 3,
     "metadata": {},
     "output_type": "execute_result"
    }
   ],
   "source": [
    "parent[0] = 5;\n",
    "parent[1] = 0;\n",
    "parent[2] = 0;\n",
    "parent[3] = 5;\n",
    "parent[4] = 3;\n",
    "//parent[5] = -1;\n",
    "parent[6] = 5;\n",
    "parent[7] = 2;\n",
    "parent[8] = 5;\n",
    "// parent[9] = -1"
   ]
  },
  {
   "cell_type": "code",
   "execution_count": 4,
   "metadata": {},
   "outputs": [],
   "source": [
    "// recursive function to print path in reverse order from node to its root\n",
    "void printPathReverse(vector<int> &parent, int node) {\n",
    "    cout << node << \" \";\n",
    "    if (parent[node] == -1) return;\n",
    "    printPathReverse(parent, parent[node]);\n",
    "}"
   ]
  },
  {
   "cell_type": "code",
   "execution_count": 5,
   "metadata": {},
   "outputs": [
    {
     "name": "stdout",
     "output_type": "stream",
     "text": [
      "7 2 0 5 "
     ]
    }
   ],
   "source": [
    "// print path to H\n",
    "printPathReverse(parent, 7);"
   ]
  },
  {
   "cell_type": "code",
   "execution_count": 6,
   "metadata": {},
   "outputs": [],
   "source": [
    "// recursive function to print path in from root to the given node\n",
    "void printPath(vector<int> &parent, int node) {\n",
    "    if (node == -1) return;\n",
    "    printPath(parent, parent[node]);\n",
    "    cout << node << \" \";\n",
    "}"
   ]
  },
  {
   "cell_type": "code",
   "execution_count": 7,
   "metadata": {},
   "outputs": [
    {
     "name": "stdout",
     "output_type": "stream",
     "text": [
      "5 0 2 7 "
     ]
    }
   ],
   "source": [
    "// print path from root to to H\n",
    "printPath(parent, 7);"
   ]
  },
  {
   "cell_type": "code",
   "execution_count": 8,
   "metadata": {},
   "outputs": [],
   "source": [
    "// recursively find root without compressing path\n",
    "int find(vector<int> &parent, int node) {\n",
    "    if (parent[node] == -1) return node;\n",
    "    return find(parent, parent[node]);\n",
    "}"
   ]
  },
  {
   "cell_type": "code",
   "execution_count": 9,
   "metadata": {},
   "outputs": [
    {
     "name": "stdout",
     "output_type": "stream",
     "text": [
      "5"
     ]
    }
   ],
   "source": [
    "// find root of H\n",
    "cout << find(parent, 7);"
   ]
  },
  {
   "cell_type": "code",
   "execution_count": 10,
   "metadata": {},
   "outputs": [
    {
     "name": "stdout",
     "output_type": "stream",
     "text": [
      "0\n",
      "5\n"
     ]
    },
    {
     "data": {
      "text/plain": [
       "@0x1097f6010"
      ]
     },
     "execution_count": 10,
     "metadata": {},
     "output_type": "execute_result"
    }
   ],
   "source": [
    "// check parents of all the nodes in path to H;\n",
    "// still the same as path has not been compressed\n",
    "cout << parent[2] << endl; // C\n",
    "cout << parent[0] << endl; //A"
   ]
  },
  {
   "cell_type": "markdown",
   "metadata": {},
   "source": [
    "## Do nodes J and H belong to the same tree?"
   ]
  },
  {
   "cell_type": "code",
   "execution_count": 11,
   "metadata": {},
   "outputs": [
    {
     "name": "stdout",
     "output_type": "stream",
     "text": [
      "5 9\n"
     ]
    }
   ],
   "source": [
    "// find root of J and H\n",
    "cout << find(parent, 7) << \" \" << find(parent, 9) << endl;"
   ]
  },
  {
   "cell_type": "code",
   "execution_count": 12,
   "metadata": {},
   "outputs": [
    {
     "name": "stdout",
     "output_type": "stream",
     "text": [
      "No they do not belong to the same tree!"
     ]
    }
   ],
   "source": [
    "if (find(parent, 9) == find(parent, 7))\n",
    "    cout << \"Yes they belong to the same tree!\";\n",
    "else\n",
    "    cout << \"No they do not belong to the same tree!\";"
   ]
  },
  {
   "cell_type": "markdown",
   "metadata": {},
   "source": [
    "## Path Compression\n",
    "- path compression technique can be used to create extremely shallow trees\n",
    "- resets the parent of every node on the path from say $X$ to $R$ to $R$\n",
    "- keeps the cost of subsequent FIND operations very close to constant\n",
    "    - O(log$n$) in the worst case"
   ]
  },
  {
   "cell_type": "code",
   "execution_count": 13,
   "metadata": {},
   "outputs": [],
   "source": [
    "// find root of node by compressing the path\n",
    "// all the nodes in path to node will have their root changed to the root of \n",
    "int findCompression(vector<int> &parent, int node) {\n",
    "    if (parent[node] == -1) return node;\n",
    "    parent[node] = findCompression(parent, parent[node]);\n",
    "    return parent[node];\n",
    "}"
   ]
  },
  {
   "cell_type": "code",
   "execution_count": 14,
   "metadata": {},
   "outputs": [
    {
     "name": "stdout",
     "output_type": "stream",
     "text": [
      "5"
     ]
    }
   ],
   "source": [
    "// find root of H and compress path\n",
    "cout << findCompression(parent, 7);"
   ]
  },
  {
   "cell_type": "code",
   "execution_count": 15,
   "metadata": {},
   "outputs": [
    {
     "name": "stdout",
     "output_type": "stream",
     "text": [
      "5\n"
     ]
    }
   ],
   "source": [
    "// check parent of H\n",
    "cout << parent[7] << endl;"
   ]
  },
  {
   "cell_type": "code",
   "execution_count": 16,
   "metadata": {},
   "outputs": [
    {
     "name": "stdout",
     "output_type": "stream",
     "text": [
      "5\n",
      "5\n"
     ]
    },
    {
     "data": {
      "text/plain": [
       "@0x1097f6010"
      ]
     },
     "execution_count": 16,
     "metadata": {},
     "output_type": "execute_result"
    }
   ],
   "source": [
    "// check parent of all the nodes in path to H\n",
    "// path should be compressed making C and A's parents same as H's parents\n",
    "cout << parent[2] << endl; // C\n",
    "cout << parent[0] << endl; //A"
   ]
  },
  {
   "cell_type": "markdown",
   "metadata": {},
   "source": [
    "## Weighted Union\n",
    "- technique to join two sets by reducing their height\n",
    "    - limits the total depth of the tree to $O(logn)$\n",
    "- joins the tree with fewer nodes to the tree with more nodes\n",
    "    - make the smaller tree's root point to the root of the bigger tree\n",
    "- visualize weighted union here:https://opendsa-server.cs.vt.edu/ODSA/Books/CS3/html/UnionFind.html"
   ]
  },
  {
   "cell_type": "markdown",
   "metadata": {},
   "source": [
    "### parent pointer tree implementation as ADT"
   ]
  },
  {
   "cell_type": "code",
   "execution_count": 17,
   "metadata": {},
   "outputs": [],
   "source": [
    "#include <iostream>\n",
    "#include <vector>\n",
    "#include <string>\n",
    "#include <algorithm>\n",
    "#include <sstream>\n",
    "using namespace std;"
   ]
  },
  {
   "cell_type": "code",
   "execution_count": 18,
   "metadata": {},
   "outputs": [],
   "source": [
    "// general Parent-Pointer Tree implementation for UNION/FIND\n",
    "class ParPtrTree {\n",
    "  private:\n",
    "    vector<int> parents; // parent pointer vector\n",
    "    vector<int> weights; // weights for weighted union\n",
    "  public:\n",
    "    // constructor\n",
    "    ParPtrTree(size_t size) {\n",
    "        parents.resize(size); //create parents vector\n",
    "        fill(parents.begin(), parents.end(), -1); // each node is its own root to start\n",
    "        weights.resize(size); \n",
    "        fill(weights.begin(), weights.end(), 1);// set all base weights to 1\n",
    "    }\n",
    "    \n",
    "    // Return the root of a given node with path compression\n",
    "    // recursive algorithm that makes all ancestors of the current node\n",
    "    // point to the root\n",
    "    int FIND(int node) {\n",
    "        if (parents[node] == -1) return node;\n",
    "        parents[node] = FIND(parents[node]);\n",
    "        return parents[node];\n",
    "    }\n",
    "    \n",
    "    // Merge two subtrees if they are different\n",
    "    void UNION(int node1, int node2) {\n",
    "        int root1 = FIND(node1);\n",
    "        int root2 = FIND(node2);\n",
    "        // MERGE two trees\n",
    "        if (root1 != root2) {\n",
    "            // if weight of root1 is smaller; \n",
    "            // root1 will point to root2\n",
    "            if (weights[root1] < weights[root2]) {\n",
    "                parents[root1] = root2;\n",
    "                weights[root2] += weights[root1];\n",
    "            }\n",
    "            // root2 will point to root1\n",
    "            else {\n",
    "                parents[root2] = root1;\n",
    "                weights[root1] += weights[root2];\n",
    "            }\n",
    "        }    \n",
    "    }\n",
    "    \n",
    "    // returns string representation of ParentPtrTree\n",
    "    string toString() {\n",
    "        string nodes = \"nodes:\\t\";\n",
    "        string prts = \"parents:\\t\";\n",
    "        for (int i=0; i < this->parents.size(); i++) {\n",
    "            prts += to_string(this->parents[i]) + '\\t';\n",
    "            nodes += \" \\t \" + to_string(i); \n",
    "        }\n",
    "        return prts + \"\\n\" + nodes;\n",
    "    }\n",
    "};"
   ]
  },
  {
   "cell_type": "markdown",
   "metadata": {},
   "source": [
    "### Test ParPtrTree\n",
    "- the following test code can be modified to test examples provided here: \n",
    "https://opendsa-server.cs.vt.edu/ODSA/Books/CS3/html/UnionFind.html"
   ]
  },
  {
   "cell_type": "code",
   "execution_count": 19,
   "metadata": {},
   "outputs": [],
   "source": [
    "// 10 disjoint sets: A-J mapped as 0-9\n",
    "// A: 0, B: 1, ... J: 9\n",
    "ParPtrTree ptr(10);"
   ]
  },
  {
   "cell_type": "code",
   "execution_count": 20,
   "metadata": {},
   "outputs": [
    {
     "name": "stdout",
     "output_type": "stream",
     "text": [
      "parents:\t-1\t-1\t-1\t-1\t-1\t-1\t-1\t-1\t-1\t-1\t\n",
      "nodes:\t \t 0 \t 1 \t 2 \t 3 \t 4 \t 5 \t 6 \t 7 \t 8 \t 9"
     ]
    }
   ],
   "source": [
    "cout << ptr.toString();"
   ]
  },
  {
   "cell_type": "code",
   "execution_count": 21,
   "metadata": {},
   "outputs": [
    {
     "name": "stdout",
     "output_type": "stream",
     "text": [
      "parents:\t-1\t-1\t-1\t-1\t-1\t-1\t-1\t-1\t-1\t7\t\n",
      "nodes:\t \t 0 \t 1 \t 2 \t 3 \t 4 \t 5 \t 6 \t 7 \t 8 \t 9"
     ]
    }
   ],
   "source": [
    "// union nodes (H) and (J)\n",
    "ptr.UNION(7, 9);\n",
    "cout << ptr.toString();"
   ]
  },
  {
   "cell_type": "code",
   "execution_count": 22,
   "metadata": {},
   "outputs": [
    {
     "name": "stdout",
     "output_type": "stream",
     "text": [
      "parents:\t-1\t-1\t-1\t-1\t-1\t-1\t-1\t-1\t6\t7\t\n",
      "nodes:\t \t 0 \t 1 \t 2 \t 3 \t 4 \t 5 \t 6 \t 7 \t 8 \t 9"
     ]
    }
   ],
   "source": [
    "// union nodes (G) and (I)\n",
    "ptr.UNION(6, 8);\n",
    "cout << ptr.toString();"
   ]
  },
  {
   "cell_type": "code",
   "execution_count": 23,
   "metadata": {},
   "outputs": [
    {
     "name": "stdout",
     "output_type": "stream",
     "text": [
      "parents:\t7\t-1\t-1\t-1\t-1\t-1\t-1\t-1\t6\t7\t\n",
      "nodes:\t \t 0 \t 1 \t 2 \t 3 \t 4 \t 5 \t 6 \t 7 \t 8 \t 9"
     ]
    }
   ],
   "source": [
    "// union nodes (A) and (J)\n",
    "ptr.UNION(0, 9);\n",
    "cout << ptr.toString();"
   ]
  },
  {
   "cell_type": "code",
   "execution_count": 24,
   "metadata": {},
   "outputs": [
    {
     "name": "stdout",
     "output_type": "stream",
     "text": [
      "parents:\t7\t7\t-1\t-1\t-1\t-1\t-1\t-1\t6\t7\t\n",
      "nodes:\t \t 0 \t 1 \t 2 \t 3 \t 4 \t 5 \t 6 \t 7 \t 8 \t 9"
     ]
    }
   ],
   "source": [
    "ptr.UNION(1, 7);\n",
    "cout << ptr.toString();"
   ]
  },
  {
   "cell_type": "code",
   "execution_count": 9,
   "metadata": {},
   "outputs": [
    {
     "name": "stdout",
     "output_type": "stream",
     "text": [
      "parents:\t7\t7\t-1\t-1\t-1\t-1\t7\t-1\t6\t7\t\n",
      "nodes:\t \t 0 \t 1 \t 2 \t 3 \t 4 \t 5 \t 6 \t 7 \t 8 \t 9"
     ]
    }
   ],
   "source": [
    "ptr.UNION(6, 9);\n",
    "cout << ptr.toString();"
   ]
  }
 ],
 "metadata": {
  "kernelspec": {
   "display_name": "C++14",
   "language": "C++14",
   "name": "xcpp14"
  },
  "language_info": {
   "codemirror_mode": "text/x-c++src",
   "file_extension": ".cpp",
   "mimetype": "text/x-c++src",
   "name": "c++",
   "version": "-std=c++14"
  }
 },
 "nbformat": 4,
 "nbformat_minor": 2
}
