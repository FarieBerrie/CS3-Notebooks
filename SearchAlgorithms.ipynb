{
 "cells": [
  {
   "cell_type": "markdown",
   "metadata": {},
   "source": [
    "# Search Algorithms\n",
    "\n",
    "## Table of Contents\n",
    "- **[Sequential Search](#linear)** <br>\n",
    "- **[Sequential Search Asymptotic Analysis](#linearanalysis)** <br>\n",
    "- **[Binary Search](#binary)** <br>\n",
    "- **[Binary Search Asymptotic Analysis](#binaryanalysis)** <br>\n",
    "- **[Sequential Search vs Binary Search Empirical Analysis](#empirical)** <br>\n"
   ]
  },
  {
   "cell_type": "markdown",
   "metadata": {},
   "source": [
    "## header includes required for this notebook"
   ]
  },
  {
   "cell_type": "code",
   "execution_count": 1,
   "metadata": {},
   "outputs": [],
   "source": [
    "#include <iostream>\n",
    "#include <vector>\n",
    "#include <random>\n",
    "#include <iterator>\n",
    "#include <ctime>\n",
    "#include <cstdlib>\n",
    "#include <algorithm>\n",
    "\n",
    "using namespace std;"
   ]
  },
  {
   "cell_type": "code",
   "execution_count": 2,
   "metadata": {},
   "outputs": [],
   "source": [
    "// operator<< overloaded to print a vector\n",
    "template<class T>\n",
    "ostream& operator<<(ostream& out, const vector<T>& v) {\n",
    "    char comma[3] = {'\\0', ' ', '\\0'};\n",
    "    out << '[';\n",
    "    for (auto& e: v) {\n",
    "        out << comma << e;\n",
    "        comma[0] = ',';\n",
    "    }\n",
    "    out << \"]\";\n",
    "    return out;\n",
    "}"
   ]
  },
  {
   "cell_type": "markdown",
   "metadata": {},
   "source": [
    "## Sequential Search\n",
    "- find a key in a sequence container\n",
    "- input is unsorted vector\n",
    "- output is the index if key found, -1 if key not found\n",
    "- Algorithm:\n",
    "    1. start from the first index\n",
    "    2. if the key matches with the element at the index, return index\n",
    "    3. otherwise move to the next element (index)\n",
    "    4. repeat from step 2\n",
    "    5. if key doesn't match with any of the element, return -1"
   ]
  },
  {
   "cell_type": "code",
   "execution_count": 3,
   "metadata": {},
   "outputs": [],
   "source": [
    "template<class T>\n",
    "int sequentialSearch(const vector<T> & v, T key) {\n",
    "    int index = 0;\n",
    "    while (index < v.size()) {\n",
    "        if (v[index] == key) // found our element; key comparison that controls the loop\n",
    "            return index;\n",
    "        else\n",
    "            index ++;\n",
    "    }\n",
    "    return -1;\n",
    "}"
   ]
  },
  {
   "cell_type": "code",
   "execution_count": 4,
   "metadata": {},
   "outputs": [],
   "source": [
    "void generateRandomNumbers(vector<int> &rands, int count, int start, int end) {\n",
    "    // fill the vectors with random numbers\n",
    "    random_device rd;\n",
    "    //https://en.cppreference.com/w/cpp/numeric/random/mersenne_twister_engine\n",
    "    // generates high quality random unsigned ints\n",
    "    mt19937 mt(rd());\n",
    "    uniform_int_distribution<> dis(start, end); // numbers between start and end inclusive\n",
    "    generate(rands.begin(), rands.end(), bind(dis, ref(mt)));\n",
    "}"
   ]
  },
  {
   "cell_type": "code",
   "execution_count": 5,
   "metadata": {},
   "outputs": [],
   "source": [
    "vector<int> nums(20);"
   ]
  },
  {
   "cell_type": "code",
   "execution_count": 6,
   "metadata": {},
   "outputs": [
    {
     "name": "stdout",
     "output_type": "stream",
     "text": [
      "[14, 0, 4, 6, 3, 1, 18, 3, 3, 5, 12, 18, 0, 11, 19, 16, 18, 15, 0, 4]\n"
     ]
    }
   ],
   "source": [
    "generateRandomNumbers(nums, 20, 0, 20);\n",
    "cout << nums << endl;"
   ]
  },
  {
   "cell_type": "code",
   "execution_count": 7,
   "metadata": {},
   "outputs": [],
   "source": [
    "int key;\n",
    "int searchIndex;"
   ]
  },
  {
   "cell_type": "code",
   "execution_count": 8,
   "metadata": {},
   "outputs": [],
   "source": [
    "// generate a random number and search in nums vector...\n",
    "srand(time(NULL));\n",
    "key = rand()%20;"
   ]
  },
  {
   "cell_type": "code",
   "execution_count": 9,
   "metadata": {},
   "outputs": [
    {
     "name": "stdout",
     "output_type": "stream",
     "text": [
      "0 found at index 1\n"
     ]
    }
   ],
   "source": [
    "searchIndex = sequentialSearch<int>(nums, key);\n",
    "if (searchIndex >= 0)\n",
    "    cout << key << \" found at index \" << searchIndex << endl;\n",
    "else\n",
    "    cout << key << \" not found!\" << endl;"
   ]
  },
  {
   "cell_type": "markdown",
   "metadata": {},
   "source": [
    "<a id=\"linearanalysis\"></a>"
   ]
  },
  {
   "cell_type": "markdown",
   "metadata": {},
   "source": [
    "## Sequential Search Asymptotic Analysis\n",
    "- look for key comparison/operation\n",
    "- Best case: $1$ comparison, $O(1)$\n",
    "- Average case: $n/2$ comparison, $O(n)$\n",
    "- Worst case: $n$ comparison, $O(n)$"
   ]
  },
  {
   "cell_type": "markdown",
   "metadata": {},
   "source": [
    "<a id=\"binary\"></a>"
   ]
  },
  {
   "cell_type": "markdown",
   "metadata": {},
   "source": [
    "## Binary Search\n",
    "- input is a sequence sorted in increasing order\n",
    "- imagine searching for a word in a dictionary or someone's name in a phone directory\n",
    "- uses divide and conquer technique\n",
    "    - in each iteration, the search space is reduced by half\n",
    "    - if key is found at the middle, return the index\n",
    "    - repeat the search in lower or upper half of the sequence until sequence is exhausted\n",
    "- visualize binary search: https://opendsa-server.cs.vt.edu/ODSA/Books/CS3/html/AnalProgram.html"
   ]
  },
  {
   "cell_type": "code",
   "execution_count": 10,
   "metadata": {},
   "outputs": [],
   "source": [
    "template <class T>\n",
    "int binarySearch(const vector<T> &v, T key) {\n",
    "    int low = 0;\n",
    "    int high = v.size()-1;\n",
    "    while (low <= high) { // stop when low and high cross\n",
    "        int mid = (low+high)/2; // check middle of sequence\n",
    "        if (v[mid] == key) // found it\n",
    "            return mid; // return the index\n",
    "        else if (v[mid] > key) // check in left half\n",
    "            high = mid - 1;\n",
    "        else // check in right half\n",
    "            low = mid + 1;\n",
    "    }\n",
    "    return -1;\n",
    "}"
   ]
  },
  {
   "cell_type": "code",
   "execution_count": 11,
   "metadata": {},
   "outputs": [],
   "source": [
    "vector<int> nums1(20);"
   ]
  },
  {
   "cell_type": "code",
   "execution_count": 12,
   "metadata": {},
   "outputs": [
    {
     "name": "stdout",
     "output_type": "stream",
     "text": [
      "[1, 13, 13, 7, 18, 1, 3, 15, 17, 2, 18, 15, 7, 3, 3, 8, 6, 19, 1, 5]\n"
     ]
    }
   ],
   "source": [
    "generateRandomNumbers(nums1, 20, 0, 20);\n",
    "cout << nums1 << endl;"
   ]
  },
  {
   "cell_type": "code",
   "execution_count": 13,
   "metadata": {},
   "outputs": [
    {
     "name": "stdout",
     "output_type": "stream",
     "text": [
      "[1, 1, 1, 2, 3, 3, 3, 5, 6, 7, 7, 8, 13, 13, 15, 15, 17, 18, 18, 19]\n"
     ]
    }
   ],
   "source": [
    "// for binary search to work, sequence must be sorted\n",
    "sort(nums1.begin(), nums1.end());\n",
    "cout << nums1 << endl;"
   ]
  },
  {
   "cell_type": "code",
   "execution_count": 14,
   "metadata": {},
   "outputs": [
    {
     "name": "stdout",
     "output_type": "stream",
     "text": [
      " key to search = 8\n"
     ]
    }
   ],
   "source": [
    "// generate a random number and search in nums1 vector...\n",
    "srand(time(NULL));\n",
    "key = rand()%20;\n",
    "cout << \" key to search = \" << key << endl;"
   ]
  },
  {
   "cell_type": "code",
   "execution_count": 15,
   "metadata": {},
   "outputs": [
    {
     "name": "stdout",
     "output_type": "stream",
     "text": [
      "8 found at index 11\n"
     ]
    }
   ],
   "source": [
    "searchIndex = binarySearch<int>(nums1, key);\n",
    "if (searchIndex >= 0)\n",
    "    cout << key << \" found at index \" << searchIndex << endl;\n",
    "else\n",
    "    cout << key << \" not found!\" << endl;"
   ]
  },
  {
   "cell_type": "markdown",
   "metadata": {},
   "source": [
    "<a id=\"binaryanalysis\"></a>"
   ]
  },
  {
   "cell_type": "markdown",
   "metadata": {},
   "source": [
    "## Binary Search Asymptotic Analysis\n",
    "- Best case: $1$ comparison $O(1)$\n",
    "- Average and Worst cases: $(O(logn))$\n",
    "- binary search analysis visualization: https://opendsa-server.cs.vt.edu/ODSA/Books/CS3/html/AnalProgram.html\n",
    "- each loop of binarySearch cuts the size of the sequence (problem size) approximately in half and for each problem size, we do $O(1)$ comparison for a total of $\\sum_{i=0}^{log n}1$"
   ]
  },
  {
   "cell_type": "markdown",
   "metadata": {},
   "source": [
    "### as $n$ grows, the $O(n)$ running time for sequential search in the average and worst cases quickly becomes much larger than the $O(log n)$ of binary search"
   ]
  },
  {
   "cell_type": "markdown",
   "metadata": {},
   "source": [
    "<a id=\"empirical\"></a>"
   ]
  },
  {
   "cell_type": "markdown",
   "metadata": {},
   "source": [
    "## Empirical Analysis: Linear Search Vs Binary Search"
   ]
  },
  {
   "cell_type": "code",
   "execution_count": 16,
   "metadata": {},
   "outputs": [],
   "source": [
    "// function to time sequentialSearch and binarySearch\n",
    "double timeit(const vector<int> &v, int key, int (*searchFunc)(const vector<int> &, int)) {\n",
    "    clock_t begin = clock();\n",
    "    int i = (*searchFunc)(v, key);\n",
    "    clock_t end = clock();\n",
    "    double elapsed_secs = double(end - begin) / CLOCKS_PER_SEC;\n",
    "    return elapsed_secs;\n",
    "}"
   ]
  },
  {
   "cell_type": "code",
   "execution_count": 31,
   "metadata": {},
   "outputs": [],
   "source": [
    "void compareSearchAlgos(int N) {\n",
    "    vector<int> nums(N);\n",
    "    generateRandomNumbers(nums, N, 0, N);\n",
    "    // make a copy of nums\n",
    "    vector<int> sortedNums = nums;\n",
    "    sort(sortedNums.begin(), sortedNums.end());\n",
    "    // generate a random number and search in nums1 vector...\n",
    "    srand(time(NULL));\n",
    "    int key = rand()%N+1;\n",
    "    cout << \"key to search = \" << key << endl;\n",
    "    cout << \"Sequential Search time: \" << timeit(nums, key, sequentialSearch) << \" seconds.\" << endl;\n",
    "    cout << \"Binary Search time: \" << timeit(sortedNums, key, binarySearch) << \" seconds.\" << endl;\n",
    "}"
   ]
  },
  {
   "cell_type": "markdown",
   "metadata": {},
   "source": [
    "### Sequential and Binary Search Comparison with 100 K integers"
   ]
  },
  {
   "cell_type": "code",
   "execution_count": 32,
   "metadata": {},
   "outputs": [
    {
     "name": "stdout",
     "output_type": "stream",
     "text": [
      " key to search = 23182\n",
      "Sequential Search time: 0.002065\n",
      "Binary Search time: 1.8e-05\n"
     ]
    }
   ],
   "source": [
    "compareSearchAlgos(100000);"
   ]
  },
  {
   "cell_type": "markdown",
   "metadata": {},
   "source": [
    "### Sequential and Binary Search Comparison with 1 M integers"
   ]
  },
  {
   "cell_type": "code",
   "execution_count": 33,
   "metadata": {},
   "outputs": [
    {
     "name": "stdout",
     "output_type": "stream",
     "text": [
      " key to search = 251777\n",
      "Sequential Search time: 0.000768\n",
      "Binary Search time: 1.4e-05\n"
     ]
    }
   ],
   "source": [
    "compareSearchAlgos(1000000);"
   ]
  },
  {
   "cell_type": "markdown",
   "metadata": {},
   "source": [
    "### Sequential and Binary Search Comparison with 1 B integers"
   ]
  },
  {
   "cell_type": "code",
   "execution_count": 34,
   "metadata": {},
   "outputs": [
    {
     "name": "stdout",
     "output_type": "stream",
     "text": [
      " key to search = 505016941\n",
      "Sequential Search time: 2.88439\n",
      "Binary Search time: 4e-05\n"
     ]
    }
   ],
   "source": [
    "compareSearchAlgos(1000000000);\n",
    "/*\n",
    "// sorting took much longer!\n",
    "key to search = 505016941\n",
    "Sequential Search time: 2.88439 seconds\n",
    "Binary Search time: 4e-05 seconds\n",
    "*/"
   ]
  },
  {
   "cell_type": "code",
   "execution_count": null,
   "metadata": {},
   "outputs": [],
   "source": []
  }
 ],
 "metadata": {
  "kernelspec": {
   "display_name": "C++14",
   "language": "C++14",
   "name": "xeus-cling-cpp14"
  },
  "language_info": {
   "codemirror_mode": "text/x-c++src",
   "file_extension": ".cpp",
   "mimetype": "text/x-c++src",
   "name": "c++",
   "version": "-std=c++14"
  }
 },
 "nbformat": 4,
 "nbformat_minor": 2
}
