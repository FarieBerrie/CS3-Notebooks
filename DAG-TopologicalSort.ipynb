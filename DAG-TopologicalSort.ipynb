{
 "cells": [
  {
   "cell_type": "markdown",
   "metadata": {},
   "source": [
    "# Topological Sort\n",
    "- https://opendsa-server.cs.vt.edu/ODSA/Books/CS3/html/GraphTopsort.html\n",
    "- the process of laying out the vertices of a directed acyclic graph (DAG) in a linear order to meet the prerequisite rules"
   ]
  },
  {
   "cell_type": "markdown",
   "metadata": {},
   "source": [
    "## Applications of Topological Sort\n",
    "- scheduling a series of tasks, such as classes or construction jobs, where certain task cannot be started until after prerequisities are completed\n",
    "- wish to organize the tasks in a linear order that allows us to complete them one at a time without violating any prerequisities\n",
    "- model the problem using a DAG\n",
    "    - graph is directed because one task is a prerequisite of another\n",
    "    - graph is acyclic becasue a cycle would indicate a conflicting series of prereq that couldn't be completed wihout violating at least one prereq\n",
    "- e.g. in Figure 1, seven tasks have dependencies as shown by the directed graph:\n",
    "<img src=\"resources/topoSort.png\" width=\"50%\">\n",
    "<center>Fig. 1 DAG</center>\n",
    "- an acceptable topological sort for Figure 1 graph is: J1, J2, J3, J4, J6, J5, J7"
   ]
  },
  {
   "cell_type": "markdown",
   "metadata": {},
   "source": [
    "## Depth-first Solution\n",
    "- a topo sort can be found by performing a DFS on the graph\n",
    "- algorithm steps:\n",
    "    - when a vertex is visited, no action is taken (i.e., function PreVisit does nothing)\n",
    "    - when the recursion pops back to that vertex, function PostVisit prints the  vertex\n",
    "    - yields a topological sort in reverse order \n",
    "    - use stack to put it back in the right order\n",
    "    - it doesn't not matter where the sort starts, as long as all the vertices are visited in the end\n",
    "- visualize it here: https://opendsa-server.cs.vt.edu/ODSA/Books/CS3/html/GraphTopsort.html"
   ]
  },
  {
   "cell_type": "code",
   "execution_count": 1,
   "metadata": {},
   "outputs": [],
   "source": [
    "// we'll use unordered_map to represent graph\n",
    "// allows us to store node with any data type without creating/using graph ADT\n",
    "#include <unordered_map>\n",
    "#include <vector>\n",
    "#include <iostream>\n",
    "#include <string>\n",
    "#include <utility>\n",
    "#include <stack>\n",
    "using namespace std;"
   ]
  },
  {
   "cell_type": "code",
   "execution_count": 2,
   "metadata": {},
   "outputs": [],
   "source": [
    "// operator<< overloaded to print a vector\n",
    "template<class T>\n",
    "ostream& operator<<(ostream& out, const vector<T>& v) {\n",
    "    char comma[3] = {'\\0', ' ', '\\0'};\n",
    "    out << '[';\n",
    "    for (auto& e: v) {\n",
    "        out << comma << e;\n",
    "        comma[0] = ',';\n",
    "    }\n",
    "    out << \"]\\n\";\n",
    "    return out;\n",
    "}"
   ]
  },
  {
   "cell_type": "code",
   "execution_count": 3,
   "metadata": {},
   "outputs": [],
   "source": [
    "// operator<< overloaded to print a unordered_map container\n",
    "template<class T1, class T2>\n",
    "ostream& operator<<(ostream& out, const unordered_map<T1, T2>& m) {\n",
    "    //char comma[3] = {'\\0', ' ', '\\0'};\n",
    "    out << \"{\\n\";\n",
    "    for (auto& e: m) {\n",
    "        out << \"   \" << e.first << ':' << e.second;\n",
    "        //comma[0] = ',';\n",
    "    }\n",
    "    out << \"}\\n\";\n",
    "    return out;\n",
    "}"
   ]
  },
  {
   "cell_type": "code",
   "execution_count": 4,
   "metadata": {},
   "outputs": [],
   "source": [
    "// Lets generate the above graph using unordered_map\n",
    "// key is the node and and vector of value is its neighbors\n",
    "using Graph = unordered_map<string, vector<string> >;\n",
    "Graph DAG;"
   ]
  },
  {
   "cell_type": "code",
   "execution_count": 5,
   "metadata": {},
   "outputs": [],
   "source": [
    "DAG.insert(make_pair(\"J1\", vector<string>{\"J2\", \"J3\"}));\n",
    "DAG.insert(make_pair(\"J2\", vector<string>{\"J6\", \"J4\"}));\n",
    "DAG.insert(make_pair(\"J3\", vector<string>{\"J4\"}));\n",
    "DAG.insert(make_pair(\"J4\", vector<string>{\"J5\"}));\n",
    "DAG.insert(make_pair(\"J5\", vector<string>{\"J7\"}));\n",
    "DAG.insert(make_pair(\"J6\", vector<string>()));\n",
    "DAG.insert(make_pair(\"J7\", vector<string>()));\n",
    "DAG[\"J2\"].push_back(\"J5\");"
   ]
  },
  {
   "cell_type": "code",
   "execution_count": 6,
   "metadata": {},
   "outputs": [
    {
     "name": "stdout",
     "output_type": "stream",
     "text": [
      "total nodes of DAG = 7\n"
     ]
    }
   ],
   "source": [
    "// lets check properties of the graph\n",
    "cout << \"total nodes of DAG = \" << DAG.size() << endl;"
   ]
  },
  {
   "cell_type": "code",
   "execution_count": 7,
   "metadata": {},
   "outputs": [
    {
     "name": "stdout",
     "output_type": "stream",
     "text": [
      "total neigbors of J2 = 3\n"
     ]
    }
   ],
   "source": [
    "// print the no. of neighbors of J2\n",
    "cout << \"total neigbors of J2 = \" << DAG[\"J2\"].size() << endl;"
   ]
  },
  {
   "cell_type": "code",
   "execution_count": 8,
   "metadata": {},
   "outputs": [
    {
     "name": "stdout",
     "output_type": "stream",
     "text": [
      "{\n",
      "   J6:[]\n",
      "   J4:[J5]\n",
      "   J1:[J2, J3]\n",
      "   J5:[J7]\n",
      "   J3:[J4]\n",
      "   J7:[]\n",
      "   J2:[J6, J4, J5]\n",
      "}\n"
     ]
    }
   ],
   "source": [
    "// print the whole DAG\n",
    "cout << DAG;"
   ]
  },
  {
   "cell_type": "code",
   "execution_count": 9,
   "metadata": {},
   "outputs": [],
   "source": [
    "unordered_map<string, bool> visited;\n",
    "for(auto pair: DAG) {\n",
    "    visited[pair.first] = false;\n",
    "}"
   ]
  },
  {
   "cell_type": "code",
   "execution_count": 10,
   "metadata": {},
   "outputs": [],
   "source": [
    "// answer stack stores the topological order of the nodes\n",
    "void DFS(Graph& G, unordered_map<string, bool>& visited, string node, stack<string>& answer) {\n",
    "    // mark node as visited\n",
    "    visited[node] = true;\n",
    "    // run DFS on all its neighbors\n",
    "    for (auto& neighbor: G[node]) {\n",
    "        if (!visited[neighbor]) {\n",
    "            DFS(G, visited, neighbor, answer);\n",
    "        }\n",
    "    }\n",
    "    // visit/print node\n",
    "    answer.push(node);\n",
    "}"
   ]
  },
  {
   "cell_type": "code",
   "execution_count": 11,
   "metadata": {},
   "outputs": [],
   "source": [
    "// depth-first topological sort\n",
    "void TopologicalSort(Graph& G, stack<string>& answer) {\n",
    "    // visited unordered_map, <node, visited>\n",
    "    unordered_map<string, bool> visited;\n",
    "    // mark each node as not visited\n",
    "    for(auto& pair: G) {\n",
    "        visited[pair.first] = false;\n",
    "    }\n",
    "    // run DFS from each node if that node is not visited\n",
    "    for(auto& pair: G) {\n",
    "        if (!visited[pair.first]) {\n",
    "            DFS(G, visited, pair.first, answer);\n",
    "        }\n",
    "    }\n",
    "}"
   ]
  },
  {
   "cell_type": "code",
   "execution_count": 12,
   "metadata": {},
   "outputs": [],
   "source": [
    "stack<string> answer;"
   ]
  },
  {
   "cell_type": "code",
   "execution_count": 13,
   "metadata": {},
   "outputs": [],
   "source": [
    "// run topological sort or DAG\n",
    "TopologicalSort(DAG, answer);"
   ]
  },
  {
   "cell_type": "code",
   "execution_count": 14,
   "metadata": {},
   "outputs": [
    {
     "name": "stdout",
     "output_type": "stream",
     "text": [
      "J1 J3 J2 J4 J5 J7 J6 "
     ]
    }
   ],
   "source": [
    "// print the topological sort from answer stack\n",
    "while(!answer.empty()) {\n",
    "    cout << answer.top() << \" \";\n",
    "    answer.pop();\n",
    "}"
   ]
  },
  {
   "cell_type": "markdown",
   "metadata": {},
   "source": [
    "## Queue-based Solution\n",
    "- See https://opendsa-server.cs.vt.edu/ODSA/Books/CS3/html/GraphTopsort.html\n",
    "\n",
    "## Kahn's Algorithm\n",
    "- https://en.wikipedia.org/wiki/Topological_sorting\n",
    "- https://www.geeksforgeeks.org/topological-sorting-indegree-based-solution/"
   ]
  },
  {
   "cell_type": "markdown",
   "metadata": {},
   "source": [
    "## Exercises\n",
    "1. Brexit - https://open.kattis.com/problems/brexit\n",
    "- Build Dependencies - https://open.kattis.com/problems/builddeps\n",
    "- Running MoM - https://open.kattis.com/problems/runningmom\n",
    "- Conservation - https://open.kattis.com/problems/conservation\n",
    "- Managin Package - https://open.kattis.com/problems/managingpackaging"
   ]
  },
  {
   "cell_type": "code",
   "execution_count": null,
   "metadata": {},
   "outputs": [],
   "source": []
  }
 ],
 "metadata": {
  "kernelspec": {
   "display_name": "C++14",
   "language": "C++14",
   "name": "xcpp14"
  },
  "language_info": {
   "codemirror_mode": "text/x-c++src",
   "file_extension": ".cpp",
   "mimetype": "text/x-c++src",
   "name": "c++",
   "version": "14"
  }
 },
 "nbformat": 4,
 "nbformat_minor": 2
}
