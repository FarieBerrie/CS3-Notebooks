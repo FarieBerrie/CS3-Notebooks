{
 "cells": [
  {
   "cell_type": "markdown",
   "metadata": {},
   "source": [
    "# Priority Queues and Heap\n",
    "- https://opendsa-server.cs.vt.edu/ODSA/Books/CS3/html/Heaps.html\n",
    "\n",
    "## Table of Contents\n",
    "- **[Heaps & Priority Queues](#intro)**<br>\n",
    "- **[Push Heap](#push)**<br>\n",
    "- **[Make Heap](#make)**<br>\n",
    "- **[Pop Heap](#pop)**<br>\n",
    "- **[Max Heap Implementation](#maxheap)**<br>"
   ]
  },
  {
   "cell_type": "markdown",
   "metadata": {},
   "source": [
    "<a id=\"intro\"></a>"
   ]
  },
  {
   "cell_type": "markdown",
   "metadata": {},
   "source": [
    "## Priority Queues\n",
    "- in real-life and in computing applications, we may have to choose the next \"most important\" from a collection of people, tasks, or objects\n",
    "    - doctors in a hospital emergency room often choose to see next \"most critical\" patient\n",
    "    - operating systems picks programs (jobs) with the highest priority\n",
    "- when collection of objects is organized by importance or priority, we call this a **priority queue**\n",
    "    - normal queue is not efficient as it takes $\\Theta(n)$ time to search for the next highest priority element\n",
    "\n",
    "## Priority Queue Applications\n",
    "- can be applied to solving graph problems such as single-source shortest paths (SSSP) and minimal-cost spanning tree (MST)\n",
    "\n",
    "## Representing Priority Queue\n",
    "- how should we effectively represent priority queue?\n",
    "- a list whether sorted or not, will require $\\Theta(n)$ time for either insertion or removal\n",
    "- BST would require $\\Theta(nlogn)$ time in the average case; however BST can become unbalanced leading to bad performance $O(n^2)$\n",
    "- Heap data structrue is an efficient way!\n",
    "\n",
    "## Heap\n",
    "- **heap** data structure is used to represent priority queues\n",
    "- heap is also the name for a memory segment (**free store**)\n",
    "- two properties:\n",
    "    1. it is a complete binary tree\n",
    "        - heaps are nearly always implemented using the array representation\n",
    "    2. the values stored in a heap data structure are partially ordered\n",
    "        - there's a relationship between the value stored at any node and the values of its children\n",
    "        - no relationship between the siblings (unlike BST)\n",
    "- two types of heap:\n",
    "    1. max heap\n",
    "        - every node stores a value that is **greater** than or equal to the value of either of its children\n",
    "        - by its definition, root stores the maximum of all values in the tree\n",
    "    2. min heap\n",
    "        - every node stores a value that is **less** than or equal to that of its children\n",
    "        - by its definition, root stores the minimum of all values in the tree\n",
    "- Heapsort uses max heap\n",
    "- Replacement Selection algorithm used for external sorting uses min heap"
   ]
  },
  {
   "cell_type": "markdown",
   "metadata": {},
   "source": [
    "## Building Heap\n",
    "- Two ways:\n",
    "    1. push heap one element at a time\n",
    "    2. make heap from given list of elements"
   ]
  },
  {
   "cell_type": "markdown",
   "metadata": {},
   "source": [
    "<a id=\"push\"></a>"
   ]
  },
  {
   "cell_type": "markdown",
   "metadata": {},
   "source": [
    "## Push Heap\n",
    "- similar to: https://en.cppreference.com/w/cpp/algorithm/push_heap \n",
    "- useful when all elements are not available at once\n",
    "- algorithm steps:\n",
    "    1. first copy the data, $V$ at the last index\n",
    "    - move $V$ to the right place by comparing to its parent's value\n",
    "        1. if the value of $V$ is less than or equal to the value of its parent, it is in the correct position\n",
    "        - if the value of $V$ is greater than that of its parent, the two elements swap positions\n",
    "        - repeat 2 until $V$ reaches its correct position\n",
    "- visualize heap push/insert: https://opendsa-server.cs.vt.edu/ODSA/Books/CS3/html/Heaps.html\n",
    "- running time complexity:\n",
    "    - since the height of a complete binary tree with $n$ nodes is $(logn)$, each call to push takes $O(logn)$ time in the worst case, (move from the bottom to the top)\n",
    "    - so, takes $O(nlogn)$ time in the worst case\n",
    "    \n",
    "### push heap operation\n",
    "- let's say we have values from 1..7 we want to push to a max heap one element at a time.\n",
    "- final heap looks like this:<img src=\"./resources/pushHeap.png\">\n",
    "- Heap in above figure is built by pushing one element at a time with a total of (11 swaps):\n",
    "    - (2, 1), (3, 2), (4, 1), (4, 2), (4, 3), (5, 3), (5, 4), (6, 2), (6, 5), (7, 5), (7, 6)\n",
    "- visualize it here pushing one element at a time: https://visualgo.net/en/heap"
   ]
  },
  {
   "cell_type": "markdown",
   "metadata": {},
   "source": [
    "<a id=\"make\"></a>"
   ]
  },
  {
   "cell_type": "markdown",
   "metadata": {},
   "source": [
    "## Make Heap\n",
    "- similar to: https://en.cppreference.com/w/cpp/algorithm/make_heap\n",
    "- useful when all $n$ values are available at the beginning of the building process\n",
    "- make heap is faster than push heap one element at a time\n",
    "\n",
    "### make heap operation\n",
    "- let's say we have values 1..7 already stored in some sequence data structure like vector as shown in the following figure: \n",
    "<img src=\"./resources/makeHeapBefore.png\">\n",
    "- start pushing down from 2nd last level and up\n",
    "- with the total of 4 swaps (3, 7), (2, 5), (1, 7), (1, 6)\n",
    "    - the final max heap looks like the following:\n",
    "    <img src=\"./resources/makeHeapAfter.png\">\n",
    "\n",
    "### algorithm steps (based on induction)\n",
    "1. suppose that left and right subtrees of the root are already heaps, and $R$ is the name of the element at the root <img src=\"./resources/makeHeapAlgorithm.png\">\n",
    "2. two possibilities:\n",
    "    1. $R$ has value greater than or equal to both children (done!)\n",
    "    3. $R$ has a value less than one or both of its children\n",
    "        - **\"push down\"** $R$ until it's greater than its children, or is a leaf node\n",
    "        - keep exchanging $R$ with the child that has greater value resulting heap\n",
    "        \n",
    "\n",
    "### Running time complexity\n",
    "- make heap takes $O(n)$ in the worst case better than $O(nlogn)$ (building heap one element at a time)\n",
    "- Compared to BST:\n",
    "    - better than $O(n^2)$ worst-case and $O(nlogn)$ average-case time required to build BST"
   ]
  },
  {
   "cell_type": "markdown",
   "metadata": {},
   "source": [
    "<a id=\"pop\"></a>"
   ]
  },
  {
   "cell_type": "markdown",
   "metadata": {},
   "source": [
    "## Pop Heap \n",
    "- remove and return the maximum value from the max heap\n",
    "- similar to: https://en.cppreference.com/w/cpp/algorithm/pop_heap\n",
    "- algorithm steps:\n",
    "    1. swap the first and the last positions\n",
    "    2. decrement the heap size by one\n",
    "    3. since it's no longer a max heap, push the top element down as appropriate\n",
    "    4. return the max element\n",
    "- visualize it here: Removing from the heap section- https://opendsa-server.cs.vt.edu/ODSA/Books/CS3/html/Heaps.html\n",
    "- because the heap is $logn$ levels deep, the cost of deleting the maximum element is $\\Theta(logn)$ in the average and worst cases"
   ]
  },
  {
   "cell_type": "markdown",
   "metadata": {},
   "source": [
    "<a id=\"maxheap\"></a>"
   ]
  },
  {
   "cell_type": "markdown",
   "metadata": {},
   "source": [
    "## Max Heap Implementation\n",
    "- implemented using array-based complete binary tree\n",
    "- https://opendsa-server.cs.vt.edu/ODSA/Books/CS3/html/Heaps.html\n"
   ]
  },
  {
   "cell_type": "code",
   "execution_count": 1,
   "metadata": {},
   "outputs": [],
   "source": [
    "#include <iostream>\n",
    "#include <string>\n",
    "#include <vector>\n",
    "#include <cassert>\n",
    "#include <sstream>\n",
    "#include <algorithm>\n",
    "\n",
    "using namespace std;"
   ]
  },
  {
   "cell_type": "code",
   "execution_count": 2,
   "metadata": {
    "code_folding": []
   },
   "outputs": [],
   "source": [
    "// Max-heap ADT\n",
    "// Max Priority-Queue\n",
    "template<class T>\n",
    "class MaxHeap {\n",
    "    private:\n",
    "        vector<T> heap;\n",
    "        size_t max_size;\n",
    "        size_t size;\n",
    "    \n",
    "        //return true if given pos is a leaf position, false otherwise\n",
    "        bool isLeaf(size_t pos) {\n",
    "            return (pos >= size/2 && (pos < size));\n",
    "        }\n",
    "    \n",
    "        // return leftChild's index given a parent's index\n",
    "        int leftChild(size_t parentIndex) {\n",
    "            if (parentIndex >= size/2) return -1;\n",
    "            return 2*parentIndex + 1;\n",
    "        }\n",
    "        \n",
    "        // return rigthChild's index given a parent's index\n",
    "        int rightChild(size_t parentIndex) {\n",
    "            if (parentIndex >= (size-1)/2) return -1;\n",
    "            return 2*parentIndex + 2;\n",
    "        }\n",
    "        \n",
    "        // return parent's index given child's index\n",
    "        int parent(size_t childIndex) {\n",
    "            if (childIndex <= 0) return -1;\n",
    "            return (childIndex-1)/2;\n",
    "        }\n",
    "        \n",
    "        // heapify contents of heap\n",
    "        // https://en.cppreference.com/w/cpp/algorithm/make_heap\n",
    "        void makeHeap() {\n",
    "            // start pushing down from 2nd last level and up\n",
    "            for(int i=size/2 - 1; i>=0; i--) pushDown(i);\n",
    "        }\n",
    "            \n",
    "        // push the element down to its correct place\n",
    "        void pushDown(size_t pos) {\n",
    "            if ((pos < 0) || (pos >= size)) return; //illegal position\n",
    "            // push down until the pos is a leaf or heap is built\n",
    "            while(!isLeaf(pos)) {\n",
    "                // find the index of the larger of the two children\n",
    "                int j = leftChild(pos); // let's say left child is greater\n",
    "                // check if the right sibling is greater than left\n",
    "                // first check if j+1 doesn't go outof bounds or right child exists\n",
    "                if (( j < (size-1)) && (heap[j] < heap[j+1]))\n",
    "                    ++j; // j+1 is index of child with greater value\n",
    "                // if value at pos is larger than its larger of the two children; its a heap \n",
    "                if (heap[pos] >= heap[j]) return;\n",
    "                swap(heap[pos], heap[j]); //\n",
    "                pos = j; //move down to new pos\n",
    "            }\n",
    "        }\n",
    "    \n",
    "    public:\n",
    "        MaxHeap(size_t max_size, vector<T> items) {\n",
    "            this->max_size = max_size;\n",
    "            this->heap.resize(max_size);\n",
    "            this->size = items.size();\n",
    "            heap = items;\n",
    "            makeHeap();\n",
    "        }\n",
    "        \n",
    "        //return the current size of the heap\n",
    "        size_t heapSize() const { return this->size; }\n",
    "    \n",
    "        bool isEmpty() const { return this->size == 0; }\n",
    "    \n",
    "        bool isFull() const { return this->size == this->max_size; }\n",
    "    \n",
    "        // insert a value into heap\n",
    "        // https://en.cppreference.com/w/cpp/algorithm/push_heap \n",
    "        // insert value at the end and shift up to its correct location\n",
    "        void push(const T &value) {\n",
    "            if (isFull()) { // Heap is full...\n",
    "                return;\n",
    "            }\n",
    "            int curr = size++; // use size as current index and increment it\n",
    "            heap[curr] = value; // start at the end\n",
    "            // now shift up until curr's parent's key > curr's key\n",
    "            while ((curr > 0) && (heap[parent(curr)] < heap[curr])) {\n",
    "                swap(heap[parent(curr)], heap[curr]);\n",
    "                curr = parent(curr);\n",
    "            }\n",
    "        }\n",
    "    \n",
    "        // remove and return the max value from the heap\n",
    "        // https://en.cppreference.com/w/cpp/algorithm/pop_heap\n",
    "        T pop() {\n",
    "            assert(size > 0); // can't pop from empty heap\n",
    "            swap(heap[0], heap[--size]); //swap maximum with last value\n",
    "            if (size != 0) // not on last element\n",
    "                pushDown(0); //put new heap root val in correct place\n",
    "            return heap[size];\n",
    "        }\n",
    "};"
   ]
  },
  {
   "cell_type": "code",
   "execution_count": 3,
   "metadata": {},
   "outputs": [],
   "source": [
    "// Test Max-heap\n",
    "// see building the heap visualization in the above open-dsa link\n",
    "vector<int> nums = {1, 2, 3, 4, 5, 6, 7};"
   ]
  },
  {
   "cell_type": "code",
   "execution_count": 4,
   "metadata": {},
   "outputs": [],
   "source": [
    "// make heap from nums vector\n",
    "MaxHeap<int> heap(100, nums);"
   ]
  },
  {
   "cell_type": "code",
   "execution_count": 5,
   "metadata": {},
   "outputs": [
    {
     "name": "stdout",
     "output_type": "stream",
     "text": [
      "heap size = 7\n",
      "max value = 7\n"
     ]
    }
   ],
   "source": [
    "cout << \"heap size = \" << heap.heapSize() << endl;\n",
    "// pop max element\n",
    "cout << \"max value = \" << heap.pop() << endl;"
   ]
  },
  {
   "cell_type": "code",
   "execution_count": 6,
   "metadata": {},
   "outputs": [
    {
     "name": "stdout",
     "output_type": "stream",
     "text": [
      "heap size = 7\n"
     ]
    }
   ],
   "source": [
    "// push an element\n",
    "heap.push(8);\n",
    "cout << \"heap size = \" << heap.heapSize() << endl;"
   ]
  },
  {
   "cell_type": "code",
   "execution_count": 7,
   "metadata": {},
   "outputs": [
    {
     "name": "stdout",
     "output_type": "stream",
     "text": [
      "max value = 8\n"
     ]
    }
   ],
   "source": [
    "cout << \"max value = \" << heap.pop() << endl;"
   ]
  },
  {
   "cell_type": "code",
   "execution_count": 8,
   "metadata": {},
   "outputs": [
    {
     "name": "stdout",
     "output_type": "stream",
     "text": [
      "6\n",
      "5\n",
      "4\n",
      "3\n",
      "2\n",
      "1\n"
     ]
    }
   ],
   "source": [
    "while (!heap.isEmpty()) {\n",
    "    cout << heap.pop() << endl;\n",
    "}"
   ]
  },
  {
   "cell_type": "code",
   "execution_count": 9,
   "metadata": {},
   "outputs": [
    {
     "name": "stdout",
     "output_type": "stream",
     "text": [
      "heap size = 0\n"
     ]
    }
   ],
   "source": [
    "cout << \"heap size = \" << heap.heapSize() << endl;"
   ]
  },
  {
   "cell_type": "markdown",
   "metadata": {},
   "source": [
    "### Storing jobs in PriorityQueue"
   ]
  },
  {
   "cell_type": "code",
   "execution_count": 10,
   "metadata": {},
   "outputs": [],
   "source": [
    "class Job {\n",
    "    public:\n",
    "        int ID;\n",
    "        int priority;\n",
    "        string name;\n",
    "        bool operator>=(const Job& other) {\n",
    "            return this->priority >= other.priority;\n",
    "        }\n",
    "    \n",
    "        bool operator<(const Job& other) {\n",
    "            return this->priority < other.priority;\n",
    "        }\n",
    "    \n",
    "        void print() {\n",
    "            cout << \"ID: \" << this->ID << \" Priority: \" << this->priority << \" Name: \" << this->name << endl;\n",
    "        }\n",
    "};"
   ]
  },
  {
   "cell_type": "code",
   "execution_count": 11,
   "metadata": {},
   "outputs": [],
   "source": [
    "vector<Job> jobs = {{1, 10, \"Print\"}, {3, 30, \"Write\"}, {2, 20, \"Read\"}};"
   ]
  },
  {
   "cell_type": "code",
   "execution_count": 12,
   "metadata": {},
   "outputs": [],
   "source": [
    "MaxHeap<Job> jobsQueue(50, jobs);"
   ]
  },
  {
   "cell_type": "code",
   "execution_count": 13,
   "metadata": {},
   "outputs": [
    {
     "name": "stdout",
     "output_type": "stream",
     "text": [
      "heap size = 3\n"
     ]
    }
   ],
   "source": [
    "cout << \"heap size = \" << jobsQueue.heapSize() << endl;"
   ]
  },
  {
   "cell_type": "code",
   "execution_count": 14,
   "metadata": {},
   "outputs": [],
   "source": [
    "Job j;"
   ]
  },
  {
   "cell_type": "code",
   "execution_count": 15,
   "metadata": {},
   "outputs": [
    {
     "name": "stdout",
     "output_type": "stream",
     "text": [
      "ID: 3 Priority: 30 Name: Write\n"
     ]
    }
   ],
   "source": [
    "j = jobsQueue.pop();\n",
    "j.print();"
   ]
  },
  {
   "cell_type": "code",
   "execution_count": 16,
   "metadata": {},
   "outputs": [],
   "source": [
    "jobsQueue.push({5, 100, \"Connect\"});"
   ]
  },
  {
   "cell_type": "code",
   "execution_count": 17,
   "metadata": {},
   "outputs": [
    {
     "name": "stdout",
     "output_type": "stream",
     "text": [
      "queue size = 3\n",
      "highest priority job = ID: 5 Priority: 100 Name: Connect\n"
     ]
    }
   ],
   "source": [
    "cout << \"queue size = \" << jobsQueue.heapSize() << endl;\n",
    "j = jobsQueue.pop();\n",
    "cout << \"highest priority job = \";\n",
    "j.print();"
   ]
  },
  {
   "cell_type": "markdown",
   "metadata": {},
   "source": [
    "## Using MaxHeap as MinHeap\n",
    "- reverse the ordering of values/cost that determines priority"
   ]
  },
  {
   "cell_type": "code",
   "execution_count": 18,
   "metadata": {},
   "outputs": [],
   "source": [
    "// Reverse the ordering of values to create Min Priority Queue/Min Heap\n",
    "class Task {\n",
    "    public:\n",
    "        int ID;\n",
    "        int cost; // priority set based on cost; lower the cost; higher the priority!\n",
    "        bool operator>=(const Task& other) {\n",
    "            return this->cost <= other.cost;\n",
    "        }\n",
    "    \n",
    "        bool operator<(const Task& other) {\n",
    "            return this->cost > other.cost;\n",
    "        }\n",
    "    \n",
    "        void print() {\n",
    "            cout << \"ID: \" << this->ID << \" cost: \" << this->cost << endl;\n",
    "        }\n",
    "};"
   ]
  },
  {
   "cell_type": "code",
   "execution_count": 19,
   "metadata": {},
   "outputs": [],
   "source": [
    "vector<Task> tasks = {{10, 200}, {1, 10}, {5, 50}};"
   ]
  },
  {
   "cell_type": "code",
   "execution_count": 20,
   "metadata": {},
   "outputs": [],
   "source": [
    "MaxHeap<Task> minPq(50, tasks);"
   ]
  },
  {
   "cell_type": "code",
   "execution_count": 21,
   "metadata": {},
   "outputs": [
    {
     "name": "stdout",
     "output_type": "stream",
     "text": [
      "ID: 1 cost: 10\n",
      "ID: 5 cost: 50\n",
      "ID: 10 cost: 200\n"
     ]
    }
   ],
   "source": [
    "// process all the tasks based on cost; with smaller cost first\n",
    "while (!minPq.isEmpty()) {\n",
    "    Task t = minPq.pop();\n",
    "    t.print();\n",
    "}"
   ]
  },
  {
   "cell_type": "markdown",
   "metadata": {},
   "source": [
    "## Kahoot.it\n",
    "- https://play.kahoot.it/v2/lobby?quizId=a1f75bcb-ccfa-4d8a-b777-bcd71f7de2fc"
   ]
  },
  {
   "cell_type": "markdown",
   "metadata": {},
   "source": [
    "## Exercises\n",
    "1. Consider a node $R$ of a complete binary tree whose value is stored in position $i$ of an array representation for the tree. If $R$ has a parent, where will the parent's position be in the array?\n",
    "    1. $2*i+1$\n",
    "    2. $i+1$\n",
    "    - $\\Bigl\\lfloor\\frac{i-1} {2}\\Bigr\\rfloor$\n",
    "    - $2*i+2$\n",
    "\n",
    "- Which of these is true statement about the worst-case time for operations on heaps?\n",
    "    1. Neither insertion nor removal are better than linear\n",
    "    - Insertion is better than linear, but removal is not\n",
    "    - Removal is better than linear, but insertion is not\n",
    "    - Both insertion and removal are better than linear\n",
    "    \n",
    "- In a max-heap containing $n$ elements, what is the position of the element with the max value?\n",
    "    1. $n+1$\n",
    "    - $0$\n",
    "    - Possibly in any leaf nodes\n",
    "    - $2*n+1$\n",
    "    - $n$\n",
    "    - $n-1$\n",
    "    - $2*n+2$\n",
    "\n",
    "- In a max-heap containing $n$ elements, what is the position of the element with the least/min value?\n",
    "    1. $n+1$\n",
    "    - $0$\n",
    "    - Possibly in any leaf node\n",
    "    - $2*n+1$\n",
    "    - $n$\n",
    "    - $n-1$\n",
    "    - $2*n+2$\n",
    "    \n",
    "- In a min-heap containing $n$ elements, what is the position of the element with the least/min value?\n",
    "    1. $n+1$\n",
    "    - $0$\n",
    "    - Possibly in any leaf node\n",
    "    - $2*n+1$\n",
    "    - $n$\n",
    "    - $n-1$\n",
    "    - $2*n+2$\n",
    "    \n",
    "- In a min-heap containing $n$ elements, what is the position of the element with the max value?\n",
    "    1. $n+1$\n",
    "    - $0$\n",
    "    - Possibly in any leaf node\n",
    "    - $2*n+1$\n",
    "    - $n$\n",
    "    - $n-1$\n",
    "    - $2*n+2$"
   ]
  },
  {
   "cell_type": "code",
   "execution_count": null,
   "metadata": {},
   "outputs": [],
   "source": []
  }
 ],
 "metadata": {
  "kernelspec": {
   "display_name": "C++14",
   "language": "C++14",
   "name": "xcpp14"
  },
  "language_info": {
   "codemirror_mode": "text/x-c++src",
   "file_extension": ".cpp",
   "mimetype": "text/x-c++src",
   "name": "c++",
   "version": "14"
  }
 },
 "nbformat": 4,
 "nbformat_minor": 4
}
