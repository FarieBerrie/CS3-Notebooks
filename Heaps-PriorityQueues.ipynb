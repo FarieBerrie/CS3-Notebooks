{
 "cells": [
  {
   "cell_type": "markdown",
   "metadata": {},
   "source": [
    "# Heaps and Priority Queues\n",
    "- https://opendsa-server.cs.vt.edu/ODSA/Books/CS3/html/Heaps.html\n",
    "\n",
    "## Table of Contents\n",
    "- **[Heaps & Priority Queues](#intro)**<br>\n",
    "- **[Push Heap](#push)**<br>\n",
    "- **[Make Heap](#make)**<br>\n",
    "- **[Pop Heap](#pop)**<br>\n",
    "- **[Max Heap Implementation](#maxheap)**<br>"
   ]
  },
  {
   "cell_type": "markdown",
   "metadata": {},
   "source": [
    "<a id=\"intro\"></a>"
   ]
  },
  {
   "cell_type": "markdown",
   "metadata": {},
   "source": [
    "## Heaps and Priority Queues\n",
    "- in real-life and in computing applications, we may have to choose the next \"most important\" from a collection of people, tasks, or objects\n",
    "    - doctors in a hospital emergency room often choose to see next \"most critical\" patient\n",
    "    - operating systems picks programs (jobs) with the highest priority\n",
    "- when collection of objects is organized by importance or priority, we call this a **priority queue**\n",
    "    - normal queue is not efficient as it takes $\\Theta(n)$ time to search for the next highest priority element\n",
    "- how should we effectively represent priority queue?\n",
    "    - a list whether sorted or not, will require $\\Theta(n)$ time for either insertion or removal\n",
    "    - BST would require $\\Theta(nlogn)$ time in the average case; however BST can become unbalanced leading to bad performance\n",
    "    \n",
    "### Heap\n",
    "- **heap** data structure is used to represent priority queues\n",
    "- sometimes also refer to as **free store**\n",
    "- two properties:\n",
    "    1. it is a complete binary tree\n",
    "        - heaps are nearly always implemented using the array representation\n",
    "    2. the values stored in a heap are partially ordered\n",
    "        - there's a relationship between the value stored at any node and the values of its children\n",
    "        - no relationship between the siblings (unlike BST)\n",
    "- two types of heap:\n",
    "    1. max heap\n",
    "        - every node stores a value that is **greater** than or equal to the value of either of its children\n",
    "        - by its definition, root stores the maximum of all values in the tree\n",
    "    2. min heap\n",
    "        - every node stores a value that is **less** than or equal to that of its children\n",
    "        - by its definition, root stores the minimum of all values in the tree\n",
    "- Heapsort uses max heap\n",
    "- Replacement Selection algorithm used for external sorting uses a min heap"
   ]
  },
  {
   "cell_type": "markdown",
   "metadata": {},
   "source": [
    "<a id=\"push\"></a>"
   ]
  },
  {
   "cell_type": "markdown",
   "metadata": {},
   "source": [
    "## Push Heap\n",
    "- similar to: https://en.cppreference.com/w/cpp/algorithm/push_heap \n",
    "- heap can be built by pushing one element at a time\n",
    "- algorithm steps:\n",
    "    1. first copy the data, $V$ at the last index\n",
    "    - move $V$ to the right place by comparing to its parent's value\n",
    "        1. if the value of $V$ is less than or equal to the value of its parent, it is in the correct position\n",
    "        - if the value of $V$ is greater than that of its parent, the two elements swap positions\n",
    "        - repeat 2 until $V$ reaches its correct position\n",
    "- visualize heap push/insert: https://opendsa-server.cs.vt.edu/ODSA/Books/CS3/html/Heaps.html\n",
    "- running time complexity:\n",
    "    - since the height of a complete binary tree with $n$ nodes is $(logn)$, each call to push takes $O(logn)$ time in the worst case, (move from the bottom to the top)\n",
    "    - so, takes $O(nlogn)$ time in the worst case"
   ]
  },
  {
   "cell_type": "markdown",
   "metadata": {},
   "source": [
    "<a id=\"make\"></a>"
   ]
  },
  {
   "cell_type": "markdown",
   "metadata": {},
   "source": [
    "## Make Heap\n",
    "- similar to: https://en.cppreference.com/w/cpp/algorithm/make_heap\n",
    "- if all $n$ values are available at the beginning of the building process, we can build the heap faster than just pushing the values into the heap one by one\n",
    "\n",
    "### push heap\n",
    "- let's say we have values from 1..7 we want to push to a max heap one element at a time.\n",
    "- final heap looks like this:<img src=\"./resources/pushHeap.png\">\n",
    "- Heap in above figure is built by pushing one element at a time with a total of (11 swaps):\n",
    "    - (2, 1), (3, 2), (4, 1), (4, 2), (4, 3), (5, 3), (5, 4), (6, 2), (6, 5), (7, 5), (7, 6)\n",
    "- visualize it here pushing one element at a time: https://visualgo.net/en/heap\n",
    "\n",
    "### make heap\n",
    "- let's say we have values 1..7 already stored in some sequence data structure like vector as shown in the following figure: <img src=\"./resources/makeHeapBefore.png\">\n",
    "- with the total of 4 swaps (3, 7), (2, 5), (1, 7), (1, 6)\n",
    "    - the final max heap looks like the following:\n",
    "    <img src=\"./resources/makeHeapAfter.png\">\n",
    "- algorithm steps (based on induction):\n",
    "    1. suppose that left and right subtrees of the root are already heaps, and $R$ is the name of the element at the root <img src=\"./resources/makeHeapAlgorithm.png\">\n",
    "    2. two possibilities:\n",
    "        1. $R$ has value greater than or equal to both children (done!)\n",
    "        3. $R$ has a value less than one or both of its children\n",
    "            - exchange $R$ with the child that has greater value resulting heap\n",
    "            - if $R$ is less less than one or both of its children, **\"push down\"** $R$ until it is greater than its children, or is a leaf node\n",
    "\n",
    "### Running time complexity:\n",
    "- make heap takes $O(n)$ in the worst case better than $O(nlogn)$ (building heap one element at a time)\n",
    "    - better than $O(n^2)$ worst-case and $O(nlogn)$ average-case time required to build the BST"
   ]
  },
  {
   "cell_type": "markdown",
   "metadata": {},
   "source": [
    "<a id=\"pop\"></a>"
   ]
  },
  {
   "cell_type": "markdown",
   "metadata": {},
   "source": [
    "## Pop Heap \n",
    "- remove and return the maximum vale from the max heap\n",
    "- similar to: https://en.cppreference.com/w/cpp/algorithm/pop_heap\n",
    "- algorithm steps:\n",
    "    1. swap the first and the last positions\n",
    "    2. decrement the heap size by one\n",
    "    3. since its no longer a max heap, push the top element down as appropriate\n",
    "    4. return the max element\n",
    "- visualize it here: Removing from the heap section- https://opendsa-server.cs.vt.edu/ODSA/Books/CS3/html/Heaps.html\n",
    "- because the heap is $logn$ levels deep, the cost of deleting the maximum element is $\\Theta(logn)$ in the average and worst cases"
   ]
  },
  {
   "cell_type": "markdown",
   "metadata": {},
   "source": [
    "<a id=\"maxheap\"></a>"
   ]
  },
  {
   "cell_type": "markdown",
   "metadata": {},
   "source": [
    "## Max Heap Implementation\n",
    "- implemented using array-based complete binary tree\n",
    "- https://opendsa-server.cs.vt.edu/ODSA/Books/CS3/html/Heaps.html\n"
   ]
  },
  {
   "cell_type": "code",
   "execution_count": 1,
   "metadata": {},
   "outputs": [],
   "source": [
    "#include <iostream>\n",
    "#include <string>\n",
    "#include <vector>\n",
    "#include <cassert>\n",
    "\n",
    "using namespace std;"
   ]
  },
  {
   "cell_type": "code",
   "execution_count": 2,
   "metadata": {
    "code_folding": []
   },
   "outputs": [],
   "source": [
    "// Max-heap ADT\n",
    "template<class T>\n",
    "class MaxHeap {\n",
    "    private:\n",
    "        vector<T> heap;\n",
    "        size_t max_size;\n",
    "        size_t size;\n",
    "    \n",
    "        //return true if given pos is a leaf position, false otherwise\n",
    "        bool isLeaf(size_t pos) {\n",
    "            return (pos >= size/2 && (pos < size));\n",
    "        }\n",
    "    \n",
    "        // return leftChild's index given a parent's index\n",
    "        int leftChild(size_t parentIndex) {\n",
    "            if (parentIndex >= size/2) return -1;\n",
    "            return 2*parentIndex + 1;\n",
    "        }\n",
    "        \n",
    "        // return rigthChild's index given a parent's index\n",
    "        int rightChild(size_t parentIndex) {\n",
    "            if (parentIndex >= (size-1)/2) return -1;\n",
    "            return 2*parentIndex + 2;\n",
    "        }\n",
    "        \n",
    "        // return parent's index given child's index\n",
    "        int parent(size_t childIndex) {\n",
    "            if (childIndex <= 0) return -1;\n",
    "            return (childIndex-1)/2;\n",
    "        }\n",
    "        \n",
    "        //heapify contents of heap\n",
    "        // https://en.cppreference.com/w/cpp/algorithm/make_heap\n",
    "        void makeHeap() {\n",
    "            for(int i=size/2 - 1; i>=0; i--) pushDown(i);\n",
    "        }\n",
    "            \n",
    "        // push the element down to its correct place\n",
    "        void pushDown(int pos) {\n",
    "            if ((pos < 0) || (pos >= size)) return; //illegal position\n",
    "            while(!isLeaf(pos)) {\n",
    "                int j = leftChild(pos);\n",
    "                if (( j < (size-1)) && (heap[j] < heap[j+1]))\n",
    "                    j++; // j is now index of child with greater value\n",
    "                if (heap[pos] >= heap[j]) return;\n",
    "                swap(heap[pos], heap[j]);\n",
    "                pos = j; //move down\n",
    "            }\n",
    "        }\n",
    "    \n",
    "    public:\n",
    "        MaxHeap(size_t max_size, vector<T> items) {\n",
    "            this->max_size = max_size;\n",
    "            this->heap.resize(max_size);\n",
    "            this->size = items.size();\n",
    "            heap = items;\n",
    "            makeHeap();\n",
    "        }\n",
    "        \n",
    "        //return the current size of the heap\n",
    "        size_t heapsize() const { return this->size; }\n",
    "    \n",
    "        \n",
    "        // insert a value into heap\n",
    "        // https://en.cppreference.com/w/cpp/algorithm/push_heap \n",
    "        void push(T value) {\n",
    "            if (this->size >= this->max_size) {\n",
    "                cout << \"Heap is full!\" << endl;\n",
    "                return;\n",
    "            }\n",
    "            int curr = size++; // use size as current index and increment it\n",
    "            heap[curr] = value; // start at the end\n",
    "            // now shift up until curr's parent's key > curr's key\n",
    "            while ((curr > 0) && (heap[parent(curr)] < heap[curr])) {\n",
    "                swap(heap[parent(curr)], heap[curr]);\n",
    "                curr = parent(curr);\n",
    "            }\n",
    "        }\n",
    "    \n",
    "        // remove and return the max value from the heap\n",
    "        // https://en.cppreference.com/w/cpp/algorithm/pop_heap\n",
    "        T pop() {\n",
    "            assert(size > 0); // can't pop from empty heap\n",
    "            swap(heap[0], heap[--size]); //swap maximum with last value\n",
    "            if (size != 0) // not on last element\n",
    "                pushDown(0); //put new heap root val in correct place\n",
    "            return heap[size];\n",
    "        }\n",
    "};"
   ]
  },
  {
   "cell_type": "code",
   "execution_count": 3,
   "metadata": {},
   "outputs": [],
   "source": [
    "// Test Max-heap\n",
    "// see building the heap visualization in the above open-dsa link\n",
    "vector<int> nums = {1, 2, 3, 4, 5, 6, 7};"
   ]
  },
  {
   "cell_type": "code",
   "execution_count": 4,
   "metadata": {},
   "outputs": [],
   "source": [
    "MaxHeap<int> heap(100, nums);"
   ]
  },
  {
   "cell_type": "code",
   "execution_count": 5,
   "metadata": {},
   "outputs": [
    {
     "name": "stdout",
     "output_type": "stream",
     "text": [
      "heap size = 7\n",
      "max value 7\n"
     ]
    }
   ],
   "source": [
    "cout << \"heap size = \" << heap.heapsize() << endl;\n",
    "// pop max element\n",
    "cout << \"max value \" << heap.pop() << endl;"
   ]
  },
  {
   "cell_type": "code",
   "execution_count": 6,
   "metadata": {},
   "outputs": [
    {
     "name": "stdout",
     "output_type": "stream",
     "text": [
      "heap size = 7\n"
     ]
    }
   ],
   "source": [
    "// push an element\n",
    "heap.push(8);\n",
    "cout << \"heap size = \" << heap.heapsize() << endl;"
   ]
  },
  {
   "cell_type": "code",
   "execution_count": 7,
   "metadata": {},
   "outputs": [],
   "source": [
    "class Job {\n",
    "    public:\n",
    "        int priority;\n",
    "        int ID;\n",
    "        string name;\n",
    "        bool operator>=(const Job& other) {\n",
    "            return this->priority >= other.priority;\n",
    "        }\n",
    "        \n",
    "        bool operator<(const Job& other) {\n",
    "            return this->priority < other.priority;\n",
    "        }\n",
    "};"
   ]
  },
  {
   "cell_type": "code",
   "execution_count": 8,
   "metadata": {},
   "outputs": [],
   "source": [
    "vector<Job> jobs = {{10, 1, \"Print\"}, {20, 2, \"Read\"}, {15, 3, \"Write\"}};"
   ]
  },
  {
   "cell_type": "code",
   "execution_count": 9,
   "metadata": {},
   "outputs": [],
   "source": [
    "MaxHeap<Job> jobsHeap(50, jobs);\n",
    "Job j;"
   ]
  },
  {
   "cell_type": "code",
   "execution_count": 10,
   "metadata": {},
   "outputs": [
    {
     "name": "stdout",
     "output_type": "stream",
     "text": [
      "heap size = 3\n",
      "highest pririty job = 20 2 Read\n"
     ]
    }
   ],
   "source": [
    "cout << \"heap size = \" << jobsHeap.heapsize() << endl;\n",
    "j = jobsHeap.pop();\n",
    "cout << \"highest pririty job = \" << j.priority \n",
    "    << \" \" << j.ID << \" \" << j.name << endl;"
   ]
  },
  {
   "cell_type": "code",
   "execution_count": 11,
   "metadata": {},
   "outputs": [],
   "source": [
    "jobsHeap.push({100, 5, \"Connet\"});"
   ]
  },
  {
   "cell_type": "code",
   "execution_count": 12,
   "metadata": {},
   "outputs": [
    {
     "name": "stdout",
     "output_type": "stream",
     "text": [
      "heap size = 3\n",
      "highest pririty job = 100 5 Connet\n"
     ]
    }
   ],
   "source": [
    "cout << \"heap size = \" << jobsHeap.heapsize() << endl;\n",
    "j = jobsHeap.pop();\n",
    "cout << \"highest pririty job = \" << j.priority \n",
    "    << \" \" << j.ID << \" \" << j.name << endl;"
   ]
  },
  {
   "cell_type": "code",
   "execution_count": null,
   "metadata": {},
   "outputs": [],
   "source": []
  }
 ],
 "metadata": {
  "kernelspec": {
   "display_name": "C++14",
   "language": "C++14",
   "name": "xeus-cling-cpp14"
  },
  "language_info": {
   "codemirror_mode": "text/x-c++src",
   "file_extension": ".cpp",
   "mimetype": "text/x-c++src",
   "name": "c++",
   "version": "-std=c++14"
  }
 },
 "nbformat": 4,
 "nbformat_minor": 2
}
